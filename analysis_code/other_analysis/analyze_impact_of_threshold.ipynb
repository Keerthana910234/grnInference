{
 "cells": [
  {
   "cell_type": "code",
   "execution_count": null,
   "metadata": {},
   "outputs": [],
   "source": [
    "import os\n",
    "import numpy as np\n",
    "import pandas as pd\n",
    "from scipy.stats import spearmanr\n",
    "from joblib import Parallel, delayed\n",
    "import matplotlib.pyplot as plt\n",
    "from tqdm_joblib import tqdm_joblib\n",
    "from tqdm.auto import tqdm\n",
    "import re"
   ]
  },
  {
   "cell_type": "code",
   "execution_count": 2,
   "metadata": {},
   "outputs": [],
   "source": [
    "def compute_correlations(file, folder):\n",
    "    file_path = os.path.join(folder, file)\n",
    "    simulation = pd.read_csv(file_path)\n",
    "    t1_data = simulation[simulation['timestep'] == t1]\n",
    "    t2_data = simulation[simulation['timestep'] == t2]\n",
    "    \n",
    "    t1_corr = spearmanr(t1_data['gene_1_total_mRNA'], t1_data['gene_2_total_mRNA']).correlation\n",
    "    t2_corr = spearmanr(t2_data['gene_1_total_mRNA'], t2_data['gene_2_total_mRNA']).correlation\n",
    "    \n",
    "    match = re.search(r\"threshold_(\\d+\\.\\d+)\", file)\n",
    "    threshold = float(match.group(1))\n",
    "    return {\n",
    "        \"threshold\": threshold,\n",
    "        t1: t1_corr,\n",
    "        t2: t2_corr\n",
    "    }"
   ]
  },
  {
   "cell_type": "markdown",
   "metadata": {},
   "source": [
    "# Modify threshold for regulation\n"
   ]
  },
  {
   "cell_type": "code",
   "execution_count": null,
   "metadata": {},
   "outputs": [],
   "source": [
    "folder_simulations_threshold = \"/home/mzo5929/Keerthana/grnInference/simulationData/general_simulation_data/threshold_mod/\"\n",
    "list_files = os.listdir(folder_simulations_threshold)\n",
    "file_list_2 = [file for file in list_files if (\"n_2\" in file)]\n",
    "\n",
    "t1 = 300\n",
    "t2 = 600\n",
    "\n",
    "\n",
    "\n",
    "# Set number of workers\n",
    "n_jobs = 8  # Use all cores, or set to a fixed number like 8\n",
    "\n",
    "# Run in parallel\n",
    "results_2 = Parallel(n_jobs=n_jobs)(\n",
    "    delayed(compute_correlations)(file, folder_simulations_threshold) for file in tqdm(file_list_2)\n",
    ")\n",
    "\n",
    "\n",
    "# Convert to DataFrame\n",
    "corr_index_k_on_2 = pd.DataFrame(results_2)\n",
    "corr_index_k_on_2['n'] =2\n",
    "\n",
    "\n"
   ]
  },
  {
   "cell_type": "code",
   "execution_count": null,
   "metadata": {},
   "outputs": [],
   "source": [
    "5.27/(5.27 + 8.4)"
   ]
  },
  {
   "cell_type": "code",
   "execution_count": null,
   "metadata": {},
   "outputs": [],
   "source": [
    "corr_index_k_on_2 = corr_index_k_on_2.sort_values(by=\"threshold\")\n",
    "# corr_index_k_on_4 = corr_index_k_on_4.sort_values(by=\"r_add\")\n",
    "# corr_index_max_k_on = corr_index_max_k_on.sort_values(by=\"r_add\")\n",
    "# corr_index_min_k_on = corr_index_min_k_on.sort_values(by=\"r_add\")\n",
    "\n",
    "plt.plot(corr_index_k_on_2['threshold'], corr_index_k_on_2[300], marker = \"x\", color = \"black\")\n",
    "# plt.plot(corr_index_k_on_4['r_add'], corr_index_k_on_4[300],  label = \"n = 4\")\n",
    "# plt.plot(corr_index_max_k_on['r_add'], corr_index_max_k_on[300],  label = r\"$k_{on} = 0.47$\", color = \"black\")\n",
    "# plt.plot(corr_index_min_k_on['r_add'], corr_index_min_k_on[300],  label = r\"$k_{on} = 0.125$\", color = \"blue\")\n",
    "\n",
    "plt.axhline(0.05, linestyle = \"--\", color = \"grey\")\n",
    "plt.axhline(-0.05, linestyle = \"--\", color = \"grey\")\n",
    "plt.axvline(0.031, linestyle = \"--\", color = \"red\", label = \"K = average value at steady state\")\n",
    "plt.xlabel(r\"Threshold fraction\")\n",
    "plt.ylabel(\"Correlation\")\n",
    "plt.legend()\n",
    "plt.show()"
   ]
  },
  {
   "cell_type": "code",
   "execution_count": 64,
   "metadata": {},
   "outputs": [],
   "source": [
    "def get_average_level(file, folder_path, quantity_to_measure):\n",
    "    file_path = os.path.join(folder_path, file)\n",
    "    simulation = pd.read_csv(file_path)\n",
    "    t1 = 300\n",
    "    t1_data = simulation[simulation['timestep'] == t1]\n",
    "    match = re.search(r\"threshold_(\\d+\\.\\d+)\", file)\n",
    "    threshold = float(match.group(1))\n",
    "    if quantity_to_measure == \"mRNA\":\n",
    "        gene_level = t1_data['gene_2_total_mRNA'].median()\n",
    "        # plt.hist(t1_data['gene_2_total_mRNA'], bins=50)\n",
    "        # plt.xlabel('gene_2_total_mRNA')\n",
    "        # plt.ylabel(\"Number of cells\")\n",
    "        # plt.title(f'Threshold = {threshold}')\n",
    "        # plt.show()\n",
    "    elif quantity_to_measure == \"protein\":\n",
    "        gene_level = t1_data['gene_2_protein'].median()\n",
    "    return {\n",
    "        \"gene_level\": gene_level,\n",
    "        \"threshold\" : threshold\n",
    "    }"
   ]
  },
  {
   "cell_type": "code",
   "execution_count": 67,
   "metadata": {},
   "outputs": [
    {
     "data": {
      "application/vnd.jupyter.widget-view+json": {
       "model_id": "239d759b7bda46efa1d68a585b21c4ad",
       "version_major": 2,
       "version_minor": 0
      },
      "text/plain": [
       "  0%|          | 0/59 [00:00<?, ?it/s]"
      ]
     },
     "metadata": {},
     "output_type": "display_data"
    }
   ],
   "source": [
    "# #Plot average mRNA and protein levels as a function of rAdd\n",
    "folder_simulations_k_on = \"/home/mzo5929/Keerthana/grnInference/simulationData/general_simulation_data/threshold_mod/\"\n",
    "list_files = os.listdir(folder_simulations_k_on)\n",
    "file_list_2 = [file for file in list_files if (\"n_2\" in file)]\n",
    "# file_list_4 = [file for file in list_files if \"n_4\" in file]\n",
    "# file_list_max_k_on = [file for file in list_files if (\"n_2\" in file) and (\"max_k_on_B\" in file)]\n",
    "# file_list_min_k_on = [file for file in list_files if (\"n_2\" in file) and (\"min_k_on_B\" in file)]\n",
    "\n",
    "t1 = 300\n",
    "t2 = 600\n",
    "\n",
    "\n",
    "\n",
    "# # Set number of workers\n",
    "n_jobs = 8  # Use all cores, or set to a fixed number like 8\n",
    "\n",
    "# # Run in parallel\n",
    "results_2_mRNA = Parallel(n_jobs=n_jobs)(\n",
    "    delayed(get_average_level)(file, folder_simulations_k_on, \"mRNA\") for file in tqdm(file_list_2)\n",
    ")\n",
    "# results_2_protein= Parallel(n_jobs=n_jobs)(\n",
    "#     delayed(get_average_level)(file, folder_simulations_k_on, \"protein\") for file in tqdm(file_list_2)\n",
    "# )\n",
    "# results_4_mRNA = Parallel(n_jobs=n_jobs)(\n",
    "#     delayed(get_average_level)(file, folder_simulations_k_on, \"mRNA\") for file in tqdm(file_list_4)\n",
    "# )\n",
    "# results_4_protein= Parallel(n_jobs=n_jobs)(\n",
    "#     delayed(get_average_level)(file, folder_simulations_k_on, \"protein\") for file in tqdm(file_list_4)\n",
    "# )\n",
    "\n",
    "# results_max_k_on_mRNA = Parallel(n_jobs=n_jobs)(\n",
    "#     delayed(get_average_level)(file, folder_simulations_k_on,  \"mRNA\") for file in tqdm(file_list_max_k_on)\n",
    "# )\n",
    "# results_max_k_on_protein = Parallel(n_jobs=n_jobs)(\n",
    "#     delayed(get_average_level)(file, folder_simulations_k_on,  \"protein\") for file in tqdm(file_list_max_k_on)\n",
    "# )\n",
    "\n",
    "# results_min_k_on_mRNA = Parallel(n_jobs=n_jobs)(\n",
    "#     delayed(get_average_level)(file, folder_simulations_k_on,  \"mRNA\") for file in tqdm(file_list_min_k_on)\n",
    "# )\n",
    "\n",
    "# results_min_k_on_protein = Parallel(n_jobs=n_jobs)(\n",
    "#     delayed(get_average_level)(file, folder_simulations_k_on,  \"protein\") for file in tqdm(file_list_min_k_on)\n",
    "# )\n",
    "\n",
    "# Convert to DataFrame\n",
    "gene_level_2_mRNA = pd.DataFrame(results_2_mRNA)\n",
    "gene_level_2_mRNA['n'] =2\n",
    "gene_level_2_mRNA.sort_values(by = \"threshold\", inplace = True)\n",
    "gene_level_2_protein = pd.DataFrame(results_2_protein)\n",
    "gene_level_2_protein['n'] =2\n",
    "gene_level_2_protein.sort_values(by = \"threshold\", inplace = True)\n",
    "\n",
    "# gene_level_4_mRNA = pd.DataFrame(results_4_mRNA)\n",
    "# gene_level_4_mRNA['n'] =4\n",
    "# gene_level_4_mRNA.sort_values(by = \"r_add\", inplace = True)\n",
    "# gene_level_4_protein = pd.DataFrame(results_4_protein)\n",
    "# gene_level_4_protein['n'] =4\n",
    "# gene_level_4_protein.sort_values(by = \"r_add\", inplace = True)\n",
    "\n",
    "# gene_level_2_max_k_on_mRNA = pd.DataFrame(results_max_k_on_mRNA)\n",
    "# gene_level_2_max_k_on_mRNA['n'] =2\n",
    "# gene_level_2_max_k_on_mRNA.sort_values(by = \"r_add\", inplace = True)\n",
    "# gene_level_2_max_k_on_protein = pd.DataFrame(results_max_k_on_protein)\n",
    "# gene_level_2_max_k_on_protein['n'] =2\n",
    "# gene_level_2_max_k_on_protein.sort_values(by = \"r_add\", inplace = True)\n",
    "\n",
    "# gene_level_2_min_k_on_mRNA = pd.DataFrame(results_min_k_on_mRNA)\n",
    "# gene_level_2_min_k_on_mRNA['n'] =2\n",
    "# gene_level_2_min_k_on_mRNA.sort_values(by = \"r_add\", inplace = True)\n",
    "# gene_level_2_min_k_on_protein = pd.DataFrame(results_min_k_on_protein)\n",
    "# gene_level_2_min_k_on_protein['n'] =2\n",
    "# gene_level_2_min_k_on_protein.sort_values(by = \"r_add\", inplace = True)"
   ]
  },
  {
   "cell_type": "code",
   "execution_count": 57,
   "metadata": {},
   "outputs": [],
   "source": [
    "#Print fraction of cells that are able to regulate\n",
    "def get_fraction_regulation(file, folder_path, quantity_to_measure):\n",
    "    file_path = os.path.join(folder_path, file)\n",
    "    simulation = pd.read_csv(file_path)\n",
    "    t1 = 300\n",
    "    t1_data = simulation[simulation['timestep'] == t1]\n",
    "    match = re.search(r\"threshold_(\\d+\\.\\d+)\", file)\n",
    "    threshold = float(match.group(1))\n",
    "    if quantity_to_measure == \"mRNA\":\n",
    "        gene_level = t1_data['gene_1_total_mRNA']\n",
    "        threshold_level = 13.73995277037108*threshold\n",
    "        fraction_above_threshold = (gene_level > threshold_level).mean()\n",
    "    elif quantity_to_measure == \"protein\":\n",
    "        gene_level = t1_data['gene_1_protein']\n",
    "        threshold_level = 2310.6192860494893 * threshold\n",
    "        fraction_above_threshold = (gene_level > threshold_level).mean()\n",
    "    return {\n",
    "        \"gene_level\": gene_level.mean(),\n",
    "        \"fraction_above_threshold\": fraction_above_threshold,\n",
    "        \"threshold\" : threshold,\n",
    "    }"
   ]
  },
  {
   "cell_type": "code",
   "execution_count": 58,
   "metadata": {},
   "outputs": [
    {
     "data": {
      "application/vnd.jupyter.widget-view+json": {
       "model_id": "895db908e41e4024b77b3b14f6cee4ee",
       "version_major": 2,
       "version_minor": 0
      },
      "text/plain": [
       "  0%|          | 0/59 [00:00<?, ?it/s]"
      ]
     },
     "metadata": {},
     "output_type": "display_data"
    }
   ],
   "source": [
    "results_2_mRNA = Parallel(n_jobs=n_jobs)(\n",
    "    delayed(get_fraction_regulation)(file, folder_simulations_k_on, \"protein\") for file in tqdm(file_list_2)\n",
    ")"
   ]
  },
  {
   "cell_type": "code",
   "execution_count": 59,
   "metadata": {},
   "outputs": [],
   "source": [
    "results_2_mRNA = pd.DataFrame(results_2_mRNA)\n",
    "results_2_mRNA = results_2_mRNA.sort_values(by=\"threshold\")"
   ]
  },
  {
   "cell_type": "code",
   "execution_count": 61,
   "metadata": {},
   "outputs": [
    {
     "data": {
      "text/plain": [
       "[<matplotlib.lines.Line2D at 0x14f8d3788310>]"
      ]
     },
     "execution_count": 61,
     "metadata": {},
     "output_type": "execute_result"
    },
    {
     "data": {
      "image/png": "[encoded data removed]",
      "text/plain": [
       "<Figure size 640x480 with 1 Axes>"
      ]
     },
     "metadata": {},
     "output_type": "display_data"
    }
   ],
   "source": [
    "plt.plot(results_2_mRNA['fraction_above_threshold'], results_2_mRNA['threshold'])"
   ]
  },
  {
   "cell_type": "code",
   "execution_count": 68,
   "metadata": {},
   "outputs": [
    {
     "data": {
      "image/png": "[encoded data removed]",
      "text/plain": [
       "<Figure size 640x480 with 1 Axes>"
      ]
     },
     "metadata": {},
     "output_type": "display_data"
    }
   ],
   "source": [
    "#Plotting mRNA levels vs r_add\n",
    "plt.plot(gene_level_2_mRNA['threshold'], gene_level_2_mRNA[\"gene_level\"], label = \"$k_{on} = 0.27$\", color = \"red\")\n",
    "# plt.plot(gene_level_4_mRNA['r_add'], gene_level_4_mRNA[\"gene_level\"],  label = \"n = 4\")\n",
    "# plt.plot(gene_level_2_max_k_on_mRNA['r_add'], gene_level_2_max_k_on_mRNA[\"gene_level\"],  label = r\"$k_{on} = 0.47$\", color = \"black\")\n",
    "# plt.plot(gene_level_2_min_k_on_mRNA['r_add'], gene_level_2_min_k_on_mRNA[\"gene_level\"],  label = r\"$k_{on} = 0.125$\", color = \"blue\")\n",
    "\n",
    "# plt.axhline(0.05, linestyle = \"--\", color = \"grey\")\n",
    "# plt.axhline(-0.05, linestyle = \"--\", color = \"grey\")\n",
    "# plt.axvline(0.27, linestyle = \"--\", color = \"red\", label = r\"$k_{on} = 0.27$\")\n",
    "# plt.axvline(0.47, linestyle = \"--\", color = \"black\", label = r\"$k_{on} = 0.47$\")\n",
    "# plt.axvline(0.125, linestyle = \"--\", color = \"blue\", label = r\"$k_{on} = 0.125$\")\n",
    "plt.axhline(30.191763347046546, linestyle = \"--\", label = \"No regulation\")\n",
    "plt.xlabel(\"threshold\")\n",
    "plt.ylabel(\"Mean mRNA levels\")\n",
    "plt.title(r\"Different thresholds for hill function$\")\n",
    "plt.legend()\n",
    "plt.show()"
   ]
  },
  {
   "cell_type": "code",
   "execution_count": 63,
   "metadata": {},
   "outputs": [
    {
     "name": "stdout",
     "output_type": "stream",
     "text": [
      "1.346129575982967 28.84563377106358\n",
      "30.191763347046546\n"
     ]
    }
   ],
   "source": [
    "#amount of mRNA = unspliced + spliced\n",
    "unspliced = (0.27/(8.4 + 0.27))*(32*8.4)/(np.log(2)/2.5 + np.log(2)/(7/60))\n",
    "spliced = np.log(2)/(7/60)*unspliced/(np.log(2)/2.5)\n",
    "print(unspliced, spliced)\n",
    "print(unspliced + spliced)"
   ]
  },
  {
   "cell_type": "code",
   "execution_count": 56,
   "metadata": {},
   "outputs": [
    {
     "data": {
      "text/plain": [
       "2310.6192860494893"
      ]
     },
     "execution_count": 56,
     "metadata": {},
     "output_type": "execute_result"
    }
   ],
   "source": [
    "969.4910674773834*(0.059)/(np.log(2)/28)"
   ]
  },
  {
   "cell_type": "code",
   "execution_count": null,
   "metadata": {},
   "outputs": [],
   "source": [
    "#Plotting mRNA levels vs r_add\n",
    "\n",
    "plt.plot(gene_level_2_protein['r_add'], gene_level_2_protein[\"gene_level\"], label = \"$k_{on} = 0.27$\", color = \"red\")\n",
    "# plt.plot(gene_level_4_protein['r_add'], gene_level_4_mRNA[\"gene_level\"],  label = \"n = 4\")\n",
    "plt.plot(gene_level_2_max_k_on_protein['r_add'], gene_level_2_max_k_on_protein[\"gene_level\"],  label = r\"$k_{on} = 0.47$\", color = \"black\")\n",
    "plt.plot(gene_level_2_min_k_on_protein['r_add'], gene_level_2_min_k_on_protein[\"gene_level\"],  label = r\"$k_{on} = 0.125$\", color = \"blue\")\n",
    "\n",
    "plt.axhline(0.05, linestyle = \"--\", color = \"grey\")\n",
    "plt.axhline(-0.05, linestyle = \"--\", color = \"grey\")\n",
    "plt.axvline(0.27, linestyle = \"--\", color = \"red\", label = r\"$k_{on} = 0.27$\")\n",
    "plt.axvline(0.47, linestyle = \"--\", color = \"black\", label = r\"$k_{on} = 0.47$\")\n",
    "plt.axvline(0.125, linestyle = \"--\", color = \"blue\", label = r\"$k_{on} = 0.125$\")\n",
    "plt.xlabel(r\"$r_{add}$\")\n",
    "plt.ylabel(\"Mean protein levels\")\n",
    "plt.legend()\n",
    "plt.show()"
   ]
  },
  {
   "cell_type": "markdown",
   "metadata": {},
   "source": [
    "# Modify k_off: r_add is added\n"
   ]
  },
  {
   "cell_type": "code",
   "execution_count": null,
   "metadata": {},
   "outputs": [],
   "source": [
    "folder_simulations_k_off = \"/home/mzo5929/Keerthana/grnInference/simulationData/general_simulation_data/r_add_k_off_repression/\"\n",
    "\n",
    "list_files = os.listdir(folder_simulations_k_off)\n",
    "file_list_2 = [file for file in list_files if (\"n_2\" in file) and (\"k_off\" not in file)]\n",
    "file_list_4 = [file for file in list_files if (\"n_4\" in file) and (\"k_off\" not in file)]\n",
    "\n",
    "file_list_max_k_off = [file for file in list_files if (\"n_2\" in file) and (\"max_k_off\" in file)]\n",
    "file_list_min_k_off = [file for file in list_files if (\"n_2\" in file) and (\"min_k_off\" in file)]\n",
    "\n",
    "t1 = 300\n",
    "t2 = 600\n",
    "\n",
    "\n",
    "\n",
    "# Set number of workers\n",
    "n_jobs = 8  # Use all cores, or set to a fixed number like 8\n",
    "\n",
    "# Run in parallel\n",
    "results_2 = Parallel(n_jobs=n_jobs)(\n",
    "    delayed(compute_correlations)(file, folder_simulations_k_off) for file in tqdm(file_list_2)\n",
    ")\n",
    "results_4 = Parallel(n_jobs=n_jobs)(\n",
    "    delayed(compute_correlations)(file, folder_simulations_k_off) for file in tqdm(file_list_4)\n",
    ")\n",
    "\n",
    "\n",
    "results_max_k_off = Parallel(n_jobs=n_jobs)(\n",
    "    delayed(compute_correlations)(file, folder_simulations_k_off) for file in tqdm(file_list_max_k_off)\n",
    ")\n",
    "\n",
    "results_min_k_off = Parallel(n_jobs=n_jobs)(\n",
    "    delayed(compute_correlations)(file, folder_simulations_k_off) for file in tqdm(file_list_min_k_off)\n",
    ")\n",
    "\n",
    "# Convert to DataFrame\n",
    "corr_index_k_off_2 = pd.DataFrame(results_2)\n",
    "corr_index_k_off_2['n'] =2\n",
    "corr_index_k_off_4 = pd.DataFrame(results_4)\n",
    "corr_index_k_off_4['n'] =4\n",
    "corr_index_max_k_off = pd.DataFrame(results_max_k_off)\n",
    "corr_index_max_k_off['n'] =2\n",
    "corr_index_min_k_off = pd.DataFrame(results_min_k_off)\n",
    "corr_index_min_k_off['n'] =2\n",
    "\n",
    "\n",
    "\n"
   ]
  },
  {
   "cell_type": "code",
   "execution_count": null,
   "metadata": {},
   "outputs": [],
   "source": [
    "corr_index_k_off_2 = corr_index_k_off_2.sort_values(by=\"r_add\")\n",
    "corr_index_k_off_4 = corr_index_k_off_4.sort_values(by=\"r_add\")\n",
    "corr_index_max_k_off = corr_index_max_k_off.sort_values(by=\"r_add\")\n",
    "corr_index_min_k_off = corr_index_min_k_off.sort_values(by=\"r_add\")\n",
    "\n",
    "plt.plot(corr_index_k_off_2['r_add'], corr_index_k_off_2[300], label = r\"$k_{off} = 8.4$\", color = \"red\")\n",
    "# plt.plot(corr_index_k_off_4['r_add'], corr_index_k_off_4[300],  label = \"n = 4\")\n",
    "plt.plot(corr_index_max_k_off['r_add'], corr_index_max_k_off[300],  label = r\"$k_{off} = 80$\", color = \"black\")\n",
    "plt.plot(corr_index_min_k_off['r_add'], corr_index_min_k_off[300],  label = r\"$k_{off} = 1.5$\", color = \"blue\")\n",
    "\n",
    "plt.axhline(0.05, linestyle = \"--\", color = \"grey\")\n",
    "plt.axhline(-0.05, linestyle = \"--\", color = \"grey\")\n",
    "# plt.axvline(8.4, linestyle = \"--\", color = \"red\", label = r\"$k_{off} = 8.4$\")\n",
    "# plt.axvline(80, linestyle = \"--\", color = \"black\", label = r\"$k_{off} = 80$\")\n",
    "# plt.axvline(1.5, linestyle = \"--\", color = \"blue\", label = r\"$k_{off} = 1.5$\")\n",
    "plt.xlabel(r\"$r_{add}$\")\n",
    "plt.ylabel(\"Correlation\")\n",
    "plt.legend()\n",
    "plt.show()"
   ]
  },
  {
   "cell_type": "code",
   "execution_count": null,
   "metadata": {},
   "outputs": [],
   "source": [
    "#Plot average mRNA and protein levels as a function of rAdd\n",
    "folder_simulations_k_off = \"/home/mzo5929/Keerthana/grnInference/simulationData/general_simulation_data/r_add_k_off_repression/\"\n",
    "list_files = os.listdir(folder_simulations_k_off)\n",
    "file_list_2_kOff = [file for file in list_files if (\"n_2\" in file) and (\"k_off\" not in file)]\n",
    "file_list_4_kOff = [file for file in list_files if (\"n_4\" in file) and (\"k_off\" not in file)]\n",
    "\n",
    "file_list_max_k_off = [file for file in list_files if (\"n_2\" in file) and (\"max_k_off\" in file)]\n",
    "file_list_min_k_off = [file for file in list_files if (\"n_2\" in file) and (\"min_k_off\" in file)]\n",
    "\n",
    "t1 = 300\n",
    "t2 = 600\n",
    "\n",
    "\n",
    "\n",
    "# Set number of workers\n",
    "n_jobs = 8  # Use all cores, or set to a fixed number like 8\n",
    "\n",
    "# Run in parallel\n",
    "results_2_mRNA_kOff = Parallel(n_jobs=n_jobs)(\n",
    "    delayed(get_average_level)(file, folder_simulations_k_off, \"mRNA\") for file in tqdm(file_list_2_kOff)\n",
    ")\n",
    "results_2_protein_kOff= Parallel(n_jobs=n_jobs)(\n",
    "    delayed(get_average_level)(file, folder_simulations_k_off, \"protein\") for file in tqdm(file_list_2_kOff)\n",
    ")\n",
    "results_4_mRNA_kOff = Parallel(n_jobs=n_jobs)(\n",
    "    delayed(get_average_level)(file, folder_simulations_k_off, \"mRNA\") for file in tqdm(file_list_4_kOff)\n",
    ")\n",
    "results_4_protein_kOff= Parallel(n_jobs=n_jobs)(\n",
    "    delayed(get_average_level)(file, folder_simulations_k_off, \"protein\") for file in tqdm(file_list_4_kOff)\n",
    ")\n",
    "\n",
    "results_max_k_off_mRNA = Parallel(n_jobs=n_jobs)(\n",
    "    delayed(get_average_level)(file, folder_simulations_k_off,  \"mRNA\") for file in tqdm(file_list_max_k_off)\n",
    ")\n",
    "results_max_k_off_protein = Parallel(n_jobs=n_jobs)(\n",
    "    delayed(get_average_level)(file, folder_simulations_k_off,  \"protein\") for file in tqdm(file_list_max_k_off)\n",
    ")\n",
    "\n",
    "results_min_k_off_mRNA = Parallel(n_jobs=n_jobs)(\n",
    "    delayed(get_average_level)(file, folder_simulations_k_off,  \"mRNA\") for file in tqdm(file_list_min_k_off)\n",
    ")\n",
    "\n",
    "results_min_k_off_protein = Parallel(n_jobs=n_jobs)(\n",
    "    delayed(get_average_level)(file, folder_simulations_k_off,  \"protein\") for file in tqdm(file_list_min_k_off)\n",
    ")\n",
    "\n",
    "\n",
    "# Convert to DataFrame\n",
    "gene_level_2_mRNA_kOff = pd.DataFrame(results_2_mRNA_kOff)\n",
    "gene_level_2_mRNA_kOff['n'] =2\n",
    "gene_level_2_mRNA_kOff.sort_values(by = \"r_add\", inplace = True)\n",
    "gene_level_2_protein_kOff = pd.DataFrame(results_2_protein_kOff)\n",
    "gene_level_2_protein_kOff['n'] =2\n",
    "gene_level_2_protein_kOff.sort_values(by = \"r_add\", inplace = True)\n",
    "\n",
    "gene_level_4_mRNA_kOff = pd.DataFrame(results_4_mRNA_kOff)\n",
    "gene_level_4_mRNA_kOff['n'] =4\n",
    "gene_level_4_mRNA_kOff.sort_values(by = \"r_add\", inplace = True)\n",
    "gene_level_4_protein_kOff = pd.DataFrame(results_4_protein_kOff)\n",
    "gene_level_4_protein_kOff['n'] =4\n",
    "gene_level_4_protein_kOff.sort_values(by = \"r_add\", inplace = True)\n",
    "\n",
    "gene_level_2_max_k_off_mRNA = pd.DataFrame(results_max_k_off_mRNA)\n",
    "gene_level_2_max_k_off_mRNA['n'] =2\n",
    "gene_level_2_max_k_off_mRNA.sort_values(by = \"r_add\", inplace = True)\n",
    "\n",
    "gene_level_2_max_k_off_protein = pd.DataFrame(results_max_k_off_protein)\n",
    "gene_level_2_max_k_off_protein['n'] =2\n",
    "gene_level_2_max_k_off_protein.sort_values(by = \"r_add\", inplace = True)\n",
    "\n",
    "gene_level_2_min_k_off_mRNA = pd.DataFrame(results_min_k_off_mRNA)\n",
    "gene_level_2_min_k_off_mRNA['n'] =2\n",
    "gene_level_2_min_k_off_mRNA.sort_values(by = \"r_add\", inplace = True)\n",
    "\n",
    "gene_level_2_min_k_off_protein = pd.DataFrame(results_min_k_off_protein)\n",
    "gene_level_2_min_k_off_protein['n'] =2\n",
    "gene_level_2_min_k_off_protein.sort_values(by = \"r_add\", inplace = True)"
   ]
  },
  {
   "cell_type": "code",
   "execution_count": null,
   "metadata": {},
   "outputs": [],
   "source": [
    "#Plotting mRNA levels vs r_add\n",
    "\n",
    "plt.plot(gene_level_2_mRNA_kOff['r_add'], gene_level_2_mRNA_kOff[\"gene_level\"], label = \"$k_{off} = 8.4$\", color = \"red\")\n",
    "# plt.plot(gene_level_4_mRNA_kOff['r_add'], gene_level_4_mRNA_kOff[\"gene_level\"],  label = \"n = 4\")\n",
    "plt.plot(gene_level_2_max_k_off_mRNA['r_add'], gene_level_2_max_k_off_mRNA[\"gene_level\"],  label = r\"$k_{off} = 80$\", color = \"black\")\n",
    "plt.plot(gene_level_2_min_k_off_mRNA['r_add'], gene_level_2_min_k_off_mRNA[\"gene_level\"],  label = r\"$k_{off} = 1.5$\", color = \"blue\")\n",
    "\n",
    "plt.axvline(8.4, linestyle = \"--\", color = \"red\", label = r\"$k_{off} = 8.4$\")\n",
    "plt.axvline(80, linestyle = \"--\", color = \"black\", label = r\"$k_{off} = 80$\")\n",
    "plt.axvline(1.5, linestyle = \"--\", color = \"blue\", label = r\"$k_{off} = 1.5$\")\n",
    "plt.xlabel(r\"$r_{add}$\")\n",
    "plt.ylabel(\"Mean mRNA levels\")\n",
    "plt.title(r\"Repression by addition to $k_{off}$\")\n",
    "plt.legend()\n",
    "plt.show()"
   ]
  },
  {
   "cell_type": "code",
   "execution_count": null,
   "metadata": {},
   "outputs": [],
   "source": [
    "#Plotting mRNA levels vs r_add\n",
    "\n",
    "plt.plot(gene_level_2_protein_kOff['r_add'], gene_level_2_protein_kOff[\"gene_level\"], label = \"$k_{off} = 8.4$\", color = \"red\")\n",
    "# plt.plot(gene_level_4_mRNA_kOff['r_add'], gene_level_4_mRNA_kOff[\"gene_level\"],  label = \"n = 4\")\n",
    "plt.plot(gene_level_2_max_k_off_protein['r_add'], gene_level_2_max_k_off_protein[\"gene_level\"],  label = r\"$k_{off} = 80$\", color = \"black\")\n",
    "plt.plot(gene_level_2_min_k_off_protein['r_add'], gene_level_2_min_k_off_protein[\"gene_level\"],  label = r\"$k_{off} = 1.5$\", color = \"blue\")\n",
    "\n",
    "plt.axvline(8.4, linestyle = \"--\", color = \"red\", label = r\"$k_{off} = 8.4$\")\n",
    "plt.axvline(80, linestyle = \"--\", color = \"black\", label = r\"$k_{off} = 80$\")\n",
    "plt.axvline(1.5, linestyle = \"--\", color = \"blue\", label = r\"$k_{off} = 1.5$\")\n",
    "plt.xlabel(r\"$r_{add}$\")\n",
    "plt.ylabel(\"Mean protein levels\")\n",
    "plt.legend()\n",
    "plt.show()"
   ]
  }
 ],
 "metadata": {
  "kernelspec": {
   "display_name": "grnSimulationQuest",
   "language": "python",
   "name": "python3"
  },
  "language_info": {
   "codemirror_mode": {
    "name": "ipython",
    "version": 3
   },
   "file_extension": ".py",
   "mimetype": "text/x-python",
   "name": "python",
   "nbconvert_exporter": "python",
   "pygments_lexer": "ipython3",
   "version": "3.11.8"
  }
 },
 "nbformat": 4,
 "nbformat_minor": 2
}
