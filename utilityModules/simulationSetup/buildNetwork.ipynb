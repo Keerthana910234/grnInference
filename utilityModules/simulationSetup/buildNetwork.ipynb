{
 "cells": [
  {
   "cell_type": "markdown",
   "metadata": {},
   "source": [
    "## Building linear network \n",
    "Code to build a linear network, visualise it and write down the reactions occuring and set up the initial conditions.\n",
    "Adapted directly from the code written by Nico Bodkin. The model and reaction is based on Schuh, et al 2020"
   ]
  },
  {
   "cell_type": "markdown",
   "metadata": {},
   "source": [
    "### Importing the required packages for this step"
   ]
  },
  {
   "cell_type": "code",
   "execution_count": 8,
   "metadata": {},
   "outputs": [],
   "source": [
    "import pandas as pd\n",
    "import numpy as np\n",
    "import networkx as nx\n",
    "import os\n",
    "import matplotlib.pyplot as plt\n",
    "import sympy"
   ]
  },
  {
   "cell_type": "code",
   "execution_count": 6,
   "metadata": {},
   "outputs": [
    {
     "name": "stdout",
     "output_type": "stream",
     "text": [
      "Collecting sympy\n",
      "  Downloading sympy-1.13.2-py3-none-any.whl.metadata (12 kB)\n",
      "Collecting mpmath<1.4,>=1.1.0 (from sympy)\n",
      "  Using cached mpmath-1.3.0-py3-none-any.whl.metadata (8.6 kB)\n",
      "Downloading sympy-1.13.2-py3-none-any.whl (6.2 MB)\n",
      "\u001b[2K   \u001b[90m━━━━━━━━━━━━━━━━━━━━━━━━━━━━━━━━━━━━━━━━\u001b[0m \u001b[32m6.2/6.2 MB\u001b[0m \u001b[31m21.5 MB/s\u001b[0m eta \u001b[36m0:00:00\u001b[0m00:01\u001b[0m00:01\u001b[0m\n",
      "\u001b[?25hUsing cached mpmath-1.3.0-py3-none-any.whl (536 kB)\n",
      "Installing collected packages: mpmath, sympy\n",
      "Successfully installed mpmath-1.3.0 sympy-1.13.2\n",
      "\n",
      "\u001b[1m[\u001b[0m\u001b[34;49mnotice\u001b[0m\u001b[1;39;49m]\u001b[0m\u001b[39;49m A new release of pip is available: \u001b[0m\u001b[31;49m23.3.1\u001b[0m\u001b[39;49m -> \u001b[0m\u001b[32;49m24.2\u001b[0m\n",
      "\u001b[1m[\u001b[0m\u001b[34;49mnotice\u001b[0m\u001b[1;39;49m]\u001b[0m\u001b[39;49m To update, run: \u001b[0m\u001b[32;49mpip install --upgrade pip\u001b[0m\n",
      "Note: you may need to restart the kernel to use updated packages.\n"
     ]
    }
   ],
   "source": [
    "%pip install sympy"
   ]
  },
  {
   "cell_type": "markdown",
   "metadata": {},
   "source": [
    "### Creating a linear graph \n",
    "each node is a gene/ chemical species and each edge is a reaction with the weight being the strength of reaction and the sign being activation or repression."
   ]
  },
  {
   "cell_type": "code",
   "execution_count": 17,
   "metadata": {},
   "outputs": [],
   "source": [
    "def createLinearGraph(outputPath, numGenes):\n",
    "    DG = nx.DiGraph()\n",
    "    middleGene = numGenes//2\n",
    "    geneList = []\n",
    "    for i in np.arange(numGenes):\n",
    "        if i >= middleGene:\n",
    "            geneList.append(\"g\"+str(i - middleGene))\n",
    "        else:\n",
    "            geneList.append(\"g-\"+str(middleGene - i))\n",
    "    DG.add_nodes_from(geneList)\n",
    "\n",
    "    edgeList = []\n",
    "\n",
    "    for i, gene in enumerate(geneList[:-1]):\n",
    "        initGene = gene\n",
    "\n",
    "        #This is the species, \n",
    "        edgeList.append((initGene, geneList[i+1], 1))\n",
    "    \n",
    "    DG.add_weighted_edges_from(edgeList)\n",
    "    if not os.path.exists(outputPath):\n",
    "        os.mkdir(outputPath)\n",
    "    nx.write_gml(DG, os.path.join(outputPath, \"graph.gml\"))\n",
    "    return DG, geneList"
   ]
  },
  {
   "cell_type": "markdown",
   "metadata": {},
   "source": [
    "### Visualising the gene network created"
   ]
  },
  {
   "cell_type": "code",
   "execution_count": 2,
   "metadata": {},
   "outputs": [],
   "source": [
    "def drawGraph(DG, path=None):\n",
    "    if(path):\n",
    "        plt.figure(figsize=(10, 10)) \n",
    "        pos = nx.shell_layout(DG, rotate = 270)\n",
    "        nx.draw(DG, with_labels=True, font_weight='medium', node_color='lightblue', pos=pos, node_size=500, font_size=12, width=1.5, alpha=0.8)\n",
    "        plt.savefig(path, format='png', transparent=True)\n",
    "        plt.close()\n",
    "    else:\n",
    "        pos = nx.shell_layout(DG, rotate = 270)\n",
    "        nx.draw(DG, with_labels=True, font_weight='medium', node_color='lightblue', pos=pos, node_size=500, font_size=12, width=1.5, alpha=0.8)\n",
    "    return"
   ]
  },
  {
   "cell_type": "markdown",
   "metadata": {},
   "source": [
    "### Writing the reactions\n",
    "based on the described propensities which are defined above."
   ]
  },
  {
   "cell_type": "code",
   "execution_count": 9,
   "metadata": {},
   "outputs": [],
   "source": [
    "#Defining propensity when a gene is activated by mRNA from a different gene\n",
    "activationGeneralPropensity = \"({rAdd}*(activator_mRNA**{n})/({k}**{n} + activator_mRNA**{n}))*gene_I\"\n",
    "#Defining propensity when a gene is activated from the inactive state of same gene with no activator molecules present\n",
    "activationOnlyPropensity = \"{rOn}*gene_I\"\n",
    "#Defining propensity when a gene is inactivated\n",
    "inactivationGeneralPropensity = \"{rOff}*gene_A\"\n",
    "#Defining propensity from mRNA production when is the corresponding gene is active\n",
    "mrnaProductionActivated = \"{d}*{rProd}*gene_A\"\n",
    "#Defining propensity from mRNA production when is the corresponding gene is inactive\n",
    "mrnaProductionInactivated = \"{rProd}*gene_I\"\n",
    "#Defining propensity when an mRNA molecule is degraded\n",
    "degradationGeneralPropensity = \"{rDeg}*gene_mRNA\"\n",
    "\n",
    "def prepareReactions(geneList, DG):\n",
    "    reactionList = []\n",
    "    \n",
    "    for gene in geneList:\n",
    "        propensities = []\n",
    "\n",
    "        #The propensity of the gene activating without any activators\n",
    "        activationDirectPropensity = activationOnlyPropensity.replace(\"gene\", gene)\n",
    "        propensities.append(activationDirectPropensity)\n",
    "        entry = {\"species1\": gene + \"_A\", \"change1\": 1, \"propensity\": activationDirectPropensity, \"species2\": gene + \"_I\", \"change2\":-1}\n",
    "        reactionList.append(entry)\n",
    "\n",
    "        #Parsing through all the activating genes for this gene based on the directed edges in the graph and adding that to the reaction list \n",
    "        for edge in DG.in_edges(gene, data = True):\n",
    "            activationPropensity = activationGeneralPropensity.replace('activator', edge[0])\n",
    "            activationPropensity = activationPropensity.replace('gene', gene)       \n",
    "\n",
    "            #Creating reactions: Species one is the one that is created in this step and the Change1 is +1 to its population. Species2 is the entity that is consumed in the reaction and hnece change2 is -1. Basically, there are two entities involved in this reaction.\n",
    "            entry = {\"species1\": gene + \"_A\", \"change1\": 1, \"propensity\": activationPropensity, \"species2\": gene + \"_I\", \"change2\":-1}\n",
    "            reactionList.append(entry)\n",
    "        \n",
    "        #Propensity for Inactivation of gene\n",
    "        inactivationPropensity = inactivationGeneralPropensity.replace(\"gene\", gene)\n",
    "        entry = {\"species1\": gene + \"_I\", \"change1\": 1, \"propensity\": inactivationPropensity, \"species2\": gene + \"_A\", \"change2\":-1}\n",
    "        reactionList.append(entry)\n",
    "\n",
    "        #Propensity for production of mRNA from a gene in activated or inactivated state\n",
    "        productionPropensityActivated = mrnaProductionActivated.replace(\"gene\", gene)\n",
    "        entry = {\"species1\": gene + \"_mRNA\", \"change1\": 1, \"propensity\": productionPropensityActivated, \"species2\": \"-\", \"change2\":\"-\"}\n",
    "        reactionList.append(entry)\n",
    "\n",
    "        productionPropensityInactivated = mrnaProductionInactivated.replace(\"gene\", gene)\n",
    "        entry = {\"species1\": gene + \"_mRNA\", \"change1\": 1, \"propensity\": productionPropensityInactivated, \"species2\": \"-\", \"change2\":\"-\"}\n",
    "        reactionList.append(entry)\n",
    "\n",
    "        #Propensity for degradation of mRNA\n",
    "        degradationPropensity = degradationGeneralPropensity.replace(\"gene\", gene)\n",
    "        entry = {\"species1\": gene + \"_mRNA\", \"change1\": -1, \"propensity\": degradationPropensity, \"species2\": \"-\", \"change2\":\"-\"}\n",
    "        reactionList.append(entry)\n",
    "\n",
    "    reactionDF = pd.DataFrame(reactionList)\n",
    "    \n",
    "    reactionDF['time'] = pd.Series([\"-\"] * len(reactionDF))\n",
    "    return reactionDF"
   ]
  },
  {
   "cell_type": "markdown",
   "metadata": {},
   "source": [
    "### Setting up the initial sytem \n",
    "for all genes, I = 1, A = 0 and mRNA = 0."
   ]
  },
  {
   "cell_type": "code",
   "execution_count": 4,
   "metadata": {},
   "outputs": [],
   "source": [
    "def prepareInitialState(geneList):\n",
    "    stateList = []\n",
    "    for gene in geneList:\n",
    "        activatedSpecies = {\"species\": gene + \"_A\", \"count\":0}\n",
    "        inactivatedSpecies = {\"species\": gene + \"_I\", \"count\":1}\n",
    "        mRNASpecies = {\"species\": gene + \"_mRNA\", \"count\":0}\n",
    "        stateList.append(activatedSpecies)\n",
    "        stateList.append(inactivatedSpecies)\n",
    "        stateList.append(mRNASpecies)\n",
    "\n",
    "    stateListDF = pd.DataFrame(stateList)\n",
    "    return stateListDF"
   ]
  },
  {
   "cell_type": "code",
   "execution_count": 10,
   "metadata": {},
   "outputs": [],
   "source": [
    "from sympy import symbols, simplify, parse_expr\n",
    "from sympy.core.sympify import SympifyError  # Correctly import SympifyError\n",
    "import re\n",
    "\n",
    "# Define symbols for parameters\n",
    "rOn, rOff, d, rProd = symbols('rOn rOff d rProd')\n",
    "\n",
    "def regexReplace(expression, old, new):\n",
    "    # Wrap the old symbol in word boundaries to ensure complete matches\n",
    "    pattern = r'\\b' + re.escape(old) + r'\\b'\n",
    "    # Replace all instances in the expression\n",
    "    return re.sub(pattern, new, expression)\n",
    "\n",
    "def preciseRestore(expression):\n",
    "    # Dictionary of replacements with complete symbol names\n",
    "    replacements = {\n",
    "        'rOn': '{rOn}', 'rOff': '{rOff}', 'd': '{d}', 'rProd': '{rProd}', 'rDeg': '{rDeg}', \n",
    "        'k': '{k}', 'n': '{n}', 'rAdd': '{rAdd}'\n",
    "    }\n",
    "\n",
    "    for old, new in replacements.items():\n",
    "        expression = regexReplace(expression, old, new)\n",
    "\n",
    "    # Replace 'g_' back to 'g-' for species identifiers\n",
    "    expression = expression.replace('g_', 'g-')\n",
    "\n",
    "    return expression\n",
    "\n",
    "def simplifyAndRestore(expression):\n",
    "    try:\n",
    "        # Prepare the expression for sympy\n",
    "        expression = expression.replace('{', '').replace('}', '').replace('g-', 'g_')\n",
    "        expr = parse_expr(expression, evaluate=False)\n",
    "        simplified = simplify(expr)\n",
    "\n",
    "        # Precisely restore the original formatting\n",
    "        restoredExpression = preciseRestore(str(simplified))\n",
    "        return restoredExpression\n",
    "    except SympifyError as e:\n",
    "        print(f\"Error sympifying expression: {expression}. Error: {e}\")\n",
    "        return expression\n",
    "    except Exception as e:\n",
    "        print(f\"General error with expression: {expression}. Error: {e}\")\n",
    "        return expression"
   ]
  },
  {
   "cell_type": "markdown",
   "metadata": {},
   "source": [
    "### The main function \n",
    "Input the number of genes and outputs graph.gml which is a graph object, reactions.csv containing all the propensity equations for all entities and initialStates.csv which contains information of initial concentrations of all entities."
   ]
  },
  {
   "cell_type": "code",
   "execution_count": 11,
   "metadata": {},
   "outputs": [],
   "source": [
    "def main(outputPath, nGene, plotPath):\n",
    "    DG, geneList = createLinearGraph(outputPath, nGene)\n",
    "    print(geneList)\n",
    "    drawGraph(DG, plotPath)\n",
    "    reactions = prepareReactions(geneList, DG)\n",
    "    reactions.to_csv(os.path.join(outputPath, \"reactions.csv\"), index=False)\n",
    "    aggregated = reactions.groupby(['species1', 'change1', 'species2', 'change2', 'time'])['propensity'].apply(lambda x: ' + '.join(x)).reset_index()\n",
    "\n",
    "# Apply simplification and format restoration\n",
    "    aggregated['propensity'] = aggregated['propensity'].apply(lambda x: simplifyAndRestore(x))\n",
    "    aggregated.to_csv(os.path.join(outputPath, \"reactions_other.csv\"), index=False)\n",
    "    initalState = prepareInitialState(geneList)\n",
    "    initalState.to_csv(os.path.join(outputPath, \"initialState.csv\"), index=False)\n",
    "    \n",
    "\n"
   ]
  },
  {
   "cell_type": "code",
   "execution_count": 19,
   "metadata": {},
   "outputs": [
    {
     "name": "stdout",
     "output_type": "stream",
     "text": [
      "['g-2', 'g-1', 'g0', 'g1', 'g2']\n",
      "['g-3', 'g-2', 'g-1', 'g0', 'g1', 'g2']\n",
      "['g-3', 'g-2', 'g-1', 'g0', 'g1', 'g2', 'g3']\n",
      "['g-4', 'g-3', 'g-2', 'g-1', 'g0', 'g1', 'g2', 'g3']\n",
      "['g-4', 'g-3', 'g-2', 'g-1', 'g0', 'g1', 'g2', 'g3', 'g4']\n",
      "['g-5', 'g-4', 'g-3', 'g-2', 'g-1', 'g0', 'g1', 'g2', 'g3', 'g4']\n",
      "['g-5', 'g-4', 'g-3', 'g-2', 'g-1', 'g0', 'g1', 'g2', 'g3', 'g4', 'g5']\n",
      "['g-6', 'g-5', 'g-4', 'g-3', 'g-2', 'g-1', 'g0', 'g1', 'g2', 'g3', 'g4', 'g5']\n",
      "['g-6', 'g-5', 'g-4', 'g-3', 'g-2', 'g-1', 'g0', 'g1', 'g2', 'g3', 'g4', 'g5', 'g6']\n",
      "['g-7', 'g-6', 'g-5', 'g-4', 'g-3', 'g-2', 'g-1', 'g0', 'g1', 'g2', 'g3', 'g4', 'g5', 'g6']\n"
     ]
    }
   ],
   "source": [
    "# nGene =6\n",
    "for nGene in np.arange(5,15,1):\n",
    "    outputPath = f\"/home/mzo5929/Keerthana/GRNsimulation/highthroughputData/linearNetworks/reactions_{nGene}/\"\n",
    "    plotPath = f\"/home/mzo5929/Keerthana/GRNsimulation/highthroughputData/linearNetworks/graphImages_{nGene}.png\"\n",
    "    main(outputPath, nGene, plotPath)"
   ]
  }
 ],
 "metadata": {
  "kernelspec": {
   "display_name": "grnSimulationQuest",
   "language": "python",
   "name": "python3"
  },
  "language_info": {
   "codemirror_mode": {
    "name": "ipython",
    "version": 3
   },
   "file_extension": ".py",
   "mimetype": "text/x-python",
   "name": "python",
   "nbconvert_exporter": "python",
   "pygments_lexer": "ipython3",
   "version": "undefined.undefined.undefined"
  }
 },
 "nbformat": 4,
 "nbformat_minor": 2
}
