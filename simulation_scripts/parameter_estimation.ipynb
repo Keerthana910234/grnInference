{
 "cells": [
  {
   "cell_type": "code",
   "execution_count": 43,
   "metadata": {},
   "outputs": [],
   "source": [
    "#Code to generate parameters for Gillespie simulations - positive regulation"
   ]
  },
  {
   "cell_type": "code",
   "execution_count": 44,
   "metadata": {},
   "outputs": [],
   "source": [
    "import pandas as pd\n",
    "import numpy as np\n",
    "import matplotlib.pyplot as plt"
   ]
  },
  {
   "cell_type": "markdown",
   "metadata": {},
   "source": [
    "# Estimating parameters\n"
   ]
  },
  {
   "cell_type": "markdown",
   "metadata": {},
   "source": [
    "## $k_{on}$\n",
    "\n",
    "Data source:\n",
    "\n",
    "- Larsson et al, 2019\n",
    "- Ramsköld et al, 2024\n",
    "- Halpern et al, 2015\n"
   ]
  },
  {
   "cell_type": "code",
   "execution_count": 45,
   "metadata": {},
   "outputs": [
    {
     "name": "stdout",
     "output_type": "stream",
     "text": [
      "Fib 1\n",
      "Mean: 1.0104814368573711\n",
      "1st Quartile: 0.07373985735984104\n",
      "Median: 0.7420735949493393\n",
      "3rd Quartile: 1.676419183125378\n",
      "Standard Deviation: 1.124659578479667\n",
      "Minimum: 0.0001312710308114655\n",
      "Maximum: 36.49180849756235\n"
     ]
    }
   ],
   "source": [
    "ramskold_2024_fib_1 = pd.read_excel(\"/home/mzo5929/Keerthana/grnInference/parameter_data/ramskold_mousefibroblasts_datahalf1_kinetic_estimates.xlsx\")\n",
    "ramskold_2024_fib_1 = ramskold_2024_fib_1[(ramskold_2024_fib_1['ML_no_error']) & (ramskold_2024_fib_1['Lookup_successful__if_false_then_ML_is_likely_to_produce_nonsense_output'])]\n",
    "k_on = ramskold_2024_fib_1['ML_derived_burst_frequency_per_hour'].dropna()\n",
    "print(\"Fib 1\")\n",
    "print(\"Mean:\", k_on.mean())\n",
    "print(\"1st Quartile:\", k_on.quantile(0.25))\n",
    "print(\"Median:\", k_on.median())\n",
    "print(\"3rd Quartile:\", k_on.quantile(0.75))\n",
    "print(\"Standard Deviation:\", k_on.std())\n",
    "print(\"Minimum:\", k_on.min())\n",
    "print(\"Maximum:\", k_on.max())\n",
    "k_on_ramskold_fib_1 = k_on"
   ]
  },
  {
   "cell_type": "code",
   "execution_count": 46,
   "metadata": {},
   "outputs": [
    {
     "name": "stdout",
     "output_type": "stream",
     "text": [
      "Fib 2\n",
      "Mean: 1.0321422879138198\n",
      "1st Quartile: 0.06929247706444529\n",
      "Median: 0.75253835705696\n",
      "3rd Quartile: 1.679605167048039\n",
      "Standard Deviation: 1.2538736572290723\n",
      "Minimum: 0.0001371805965726848\n",
      "Maximum: 33.60957781615014\n"
     ]
    }
   ],
   "source": [
    "ramskold_2024_fib_2 = pd.read_excel(\"/home/mzo5929/Keerthana/grnInference/parameter_data/ramskold_mousefibroblasts_datahalf2_kinetic_estimates.xlsx\")\n",
    "ramskold_2024_fib_2 = ramskold_2024_fib_2[(ramskold_2024_fib_2['ML_no_error']) & (ramskold_2024_fib_2['Lookup_successful__if_false_then_ML_is_likely_to_produce_nonsense_output'])]\n",
    "k_on = ramskold_2024_fib_2['ML_derived_burst_frequency_per_hour'].dropna()\n",
    "print(\"Fib 2\")\n",
    "print(\"Mean:\", k_on.mean())\n",
    "print(\"1st Quartile:\", k_on.quantile(0.25))\n",
    "print(\"Median:\", k_on.median())\n",
    "print(\"3rd Quartile:\", k_on.quantile(0.75))\n",
    "print(\"Standard Deviation:\", k_on.std())\n",
    "print(\"Minimum:\", k_on.min())\n",
    "print(\"Maximum:\", k_on.max())\n",
    "k_on_ramskold_fib_2 = k_on"
   ]
  },
  {
   "cell_type": "code",
   "execution_count": 47,
   "metadata": {},
   "outputs": [
    {
     "name": "stdout",
     "output_type": "stream",
     "text": [
      "c562 1\n",
      "Mean: 1.7486626902709819\n",
      "1st Quartile: 0.6212398494196723\n",
      "Median: 1.2725722649316267\n",
      "3rd Quartile: 2.186065373359897\n",
      "Standard Deviation: 2.775902971643924\n",
      "Minimum: 0.001105789532173987\n",
      "Maximum: 39.0930513048507\n"
     ]
    }
   ],
   "source": [
    "ramskold_2024_k562_1 = pd.read_excel(\"/home/mzo5929/Keerthana/grnInference/parameter_data/ramskold_K562_datahalf1_kinetic_estimates.xlsx\")\n",
    "ramskold_2024_k562_1 = ramskold_2024_k562_1[(ramskold_2024_k562_1['ML_no_error']) & (ramskold_2024_k562_1['Lookup_successful__if_false_then_ML_is_likely_to_produce_nonsense_output'])]\n",
    "k_on = ramskold_2024_k562_1['ML_derived_burst_frequency_per_hour'].dropna()\n",
    "print(\"c562 1\")\n",
    "print(\"Mean:\", k_on.mean())\n",
    "print(\"1st Quartile:\", k_on.quantile(0.25))\n",
    "print(\"Median:\", k_on.median())\n",
    "print(\"3rd Quartile:\", k_on.quantile(0.75))\n",
    "print(\"Standard Deviation:\", k_on.std())\n",
    "print(\"Minimum:\", k_on.min())\n",
    "print(\"Maximum:\", k_on.max())\n",
    "k_on_ramskold_c562_1 = k_on"
   ]
  },
  {
   "cell_type": "code",
   "execution_count": 49,
   "metadata": {},
   "outputs": [
    {
     "name": "stdout",
     "output_type": "stream",
     "text": [
      "c562 2\n",
      "Mean: 1.713047274609331\n",
      "1st Quartile: 0.5984529084432129\n",
      "Median: 1.220179197632962\n",
      "3rd Quartile: 2.094331987623872\n",
      "Standard Deviation: 3.1309180798434992\n",
      "Minimum: 0.001106449070156549\n",
      "Maximum: 122.857627756417\n"
     ]
    }
   ],
   "source": [
    "ramskold_2024_k562_2 = pd.read_excel(\"/home/mzo5929/Keerthana/grnInference/parameter_data/ramskold_K562_datahalf2_kinetic_estimates.xlsx\")\n",
    "ramskold_2024_k562_2 = ramskold_2024_k562_2[(ramskold_2024_k562_2['ML_no_error']) & (ramskold_2024_k562_2['Lookup_successful__if_false_then_ML_is_likely_to_produce_nonsense_output'])]\n",
    "k_on = ramskold_2024_k562_2['ML_derived_burst_frequency_per_hour'].dropna()\n",
    "print(\"c562 2\")\n",
    "print(\"Mean:\", k_on.mean())\n",
    "print(\"1st Quartile:\", k_on.quantile(0.25))\n",
    "print(\"Median:\", k_on.median())\n",
    "print(\"3rd Quartile:\", k_on.quantile(0.75))\n",
    "print(\"Standard Deviation:\", k_on.std())\n",
    "print(\"Minimum:\", k_on.min())\n",
    "print(\"Maximum:\", k_on.max())\n",
    "k_on_ramskold_c562_2 = k_on"
   ]
  },
  {
   "cell_type": "code",
   "execution_count": null,
   "metadata": {},
   "outputs": [],
   "source": [
    "plt.hist(k_on_ramskold_c562_2[k_on_ramskold_c562_2 < 5])\n",
    "plt.show()"
   ]
  },
  {
   "cell_type": "code",
   "execution_count": 10,
   "metadata": {},
   "outputs": [],
   "source": [
    "# Limits used in larsson_2019_supp_table_3 for sanity filter\n",
    "# kon = np.array(est_params)[:,0]\n",
    "# koff = np.array(est_params)[:,1]\n",
    "# ksyn = np.array(est_params)[:,2]\n",
    "# which_kon = ~(kon < 2*1e-3)*~(kon > 1e3 - 1)\n",
    "# which_koff = ~(koff < 2*1e-3)*~(koff > 1e3 - 1)\n",
    "# which_burst = ksyn/koff > 1\n",
    "# which_ksyn = ksyn > 1\n",
    "# which = which_burst*which_koff*which_kon*which_ksyn\n"
   ]
  },
  {
   "cell_type": "code",
   "execution_count": 50,
   "metadata": {},
   "outputs": [],
   "source": [
    "def get_decay_es(index):\n",
    "    DR_ES = pd.read_csv('/home/mzo5929/Keerthana/grnInference/parameter_data/larsson_slam_seq_data.csv', sep=';')\n",
    "    DR_ES.index = DR_ES['Name']\n",
    "\n",
    "    DR_ES = DR_ES[~DR_ES.index.duplicated(keep='first')]\n",
    "\n",
    "    DR_ES = DR_ES.dropna(how='any')\n",
    "\n",
    "    DR_ES['decay'] = np.log(2)/DR_ES['Half-life (h)']\n",
    "\n",
    "\n",
    "    DR_ES_scRNA = DR_ES.reindex(index)\n",
    "    decay_ES = DR_ES_scRNA['decay']\n",
    "    decay_ES = decay_ES.replace([np.inf, 0], np.nan).dropna()\n",
    "    decay_ES = decay_ES[~decay_ES.index.duplicated(keep='first')]\n",
    "    decay_ES = decay_ES[decay_ES > 0]\n",
    "    decay_ES = decay_ES.dropna()\n",
    "    return decay_ES"
   ]
  },
  {
   "cell_type": "code",
   "execution_count": 51,
   "metadata": {},
   "outputs": [
    {
     "name": "stdout",
     "output_type": "stream",
     "text": [
      "C57 ALLELE\n",
      "Mean: 0.20596863397509274\n",
      "1st Quartile: 0.06716779331127506\n",
      "Median: 0.13085365370637642\n",
      "3rd Quartile: 0.22200547915191213\n",
      "Standard Deviation: 1.843503182642751\n",
      "Minimum: 0.0005711495551356789\n",
      "Maximum: 109.5328354708063\n",
      "CAST ALLELE\n",
      "Mean: 0.1667408067312676\n",
      "1st Quartile: 0.06632150448098165\n",
      "Median: 0.12882434192543946\n",
      "3rd Quartile: 0.21441689188305957\n",
      "Standard Deviation: 0.18584514357262674\n",
      "Minimum: 0.00038916208147576876\n",
      "Maximum: 6.265822048945427\n"
     ]
    }
   ],
   "source": [
    "#Supplementary Table 3 Transcriptional burst kinetics inferred in Embryonic stem cells for C57Bl6 and CAST alleles\n",
    "larsson_2019_supp_table_3 = pd.read_excel(\"/home/mzo5929/Keerthana/grnInference/parameter_data/larsson2019genomic_supp_table_3.xlsx\", sheet_name=None)\n",
    "larsson_2019_supp_table_3_c57b16 = larsson_2019_supp_table_3['C57']\n",
    "larsson_2019_supp_table_3_c57b16.set_index('Gene', inplace=True)\n",
    "larsson_2019_supp_table_3_c57b16['kOn'] = pd.to_numeric(larsson_2019_supp_table_3_c57b16['kOn'], errors='coerce')\n",
    "larsson_2019_supp_table_3_c57b16['kOff'] = pd.to_numeric(larsson_2019_supp_table_3_c57b16['kOff'], errors='coerce')\n",
    "larsson_2019_supp_table_3_c57b16['ksyn'] = pd.to_numeric(larsson_2019_supp_table_3_c57b16['ksyn'], errors='coerce')\n",
    "k_on_relative = larsson_2019_supp_table_3_c57b16[(larsson_2019_supp_table_3_c57b16['kOn'] > 2*1e-3) & (larsson_2019_supp_table_3_c57b16['kOn'] < (1e3 - 1))]['kOn'].dropna()\n",
    "decay_ES = get_decay_es(larsson_2019_supp_table_3_c57b16.index)\n",
    "k_on = (k_on_relative*decay_ES).dropna()\n",
    "print(\"C57 ALLELE\")\n",
    "print(\"Mean:\", k_on.mean())\n",
    "print(\"1st Quartile:\", k_on.quantile(0.25))\n",
    "print(\"Median:\", k_on.median())\n",
    "print(\"3rd Quartile:\", k_on.quantile(0.75))\n",
    "print(\"Standard Deviation:\", k_on.std())\n",
    "print(\"Minimum:\", k_on.min())\n",
    "print(\"Maximum:\", k_on.max())\n",
    "k_on_larsson_ES_c57b16 = k_on\n",
    "\n",
    "larsson_2019_supp_table_3_cast = larsson_2019_supp_table_3['CAST']\n",
    "larsson_2019_supp_table_3_cast.set_index('Gene', inplace=True)\n",
    "larsson_2019_supp_table_3_cast['kOn'] = pd.to_numeric(larsson_2019_supp_table_3_cast['kOn'], errors='coerce')\n",
    "larsson_2019_supp_table_3_cast['kOff'] = pd.to_numeric(larsson_2019_supp_table_3_cast['kOff'], errors='coerce')\n",
    "larsson_2019_supp_table_3_cast['ksyn'] = pd.to_numeric(larsson_2019_supp_table_3_cast['ksyn'], errors='coerce')\n",
    "k_on_relative = larsson_2019_supp_table_3_cast[(larsson_2019_supp_table_3_cast['kOn'] > 2*1e-3) & (larsson_2019_supp_table_3_cast['kOn'] < (1e3 - 1))]['kOn'].dropna()\n",
    "decay_ES = get_decay_es(larsson_2019_supp_table_3_c57b16.index)\n",
    "k_on = (k_on_relative*decay_ES).dropna()\n",
    "\n",
    "print(\"CAST ALLELE\")\n",
    "print(\"Mean:\", k_on.mean())\n",
    "print(\"1st Quartile:\", k_on.quantile(0.25))\n",
    "print(\"Median:\", k_on.median())\n",
    "print(\"3rd Quartile:\", k_on.quantile(0.75))\n",
    "print(\"Standard Deviation:\", k_on.std())\n",
    "print(\"Minimum:\", k_on.min())\n",
    "print(\"Maximum:\", k_on.max())\n",
    "k_on_larsson_ES_cast = k_on"
   ]
  },
  {
   "cell_type": "code",
   "execution_count": 52,
   "metadata": {},
   "outputs": [
    {
     "name": "stdout",
     "output_type": "stream",
     "text": [
      "C57 ALLELE\n",
      "Mean: 0.1335304672296609\n",
      "1st Quartile: 0.06036726742651073\n",
      "Median: 0.10997276867126132\n",
      "3rd Quartile: 0.17468754222604926\n",
      "Standard Deviation: 0.11240275328442897\n",
      "Minimum: 0.0001946294691895875\n",
      "Maximum: 1.281125808162066\n",
      "CAST ALLELE\n",
      "Mean: 0.13093967842275828\n",
      "1st Quartile: 0.05771800391528113\n",
      "Median: 0.1077028926581953\n",
      "3rd Quartile: 0.17257307127448016\n",
      "Standard Deviation: 0.10953479712417086\n",
      "Minimum: 0.00028271660005847087\n",
      "Maximum: 1.395213667114097\n"
     ]
    }
   ],
   "source": [
    "# Supplementary Table 1 Transcriptional burst kinetics inferred in Fibroblasts for C57Bl6 and CAST alleles. \n",
    "\n",
    "larsson_2019_supp_table_1 = pd.read_excel(\"/home/mzo5929/Keerthana/grnInference/parameter_data/larsson2019genomic_supp_table_1.xlsx\", sheet_name=None)\n",
    "larsson_2019_supp_table_1_c57b16 = larsson_2019_supp_table_1['C57']\n",
    "larsson_2019_supp_table_1_c57b16.index = larsson_2019_supp_table_1_c57b16['Gene']\n",
    "larsson_2019_supp_table_1_c57b16['kOn'] = pd.to_numeric(larsson_2019_supp_table_1_c57b16['kOn'], errors='coerce')\n",
    "larsson_2019_supp_table_1_c57b16['kOff'] = pd.to_numeric(larsson_2019_supp_table_1_c57b16['Koff'], errors='coerce')\n",
    "larsson_2019_supp_table_1_c57b16['ksyn'] = pd.to_numeric(larsson_2019_supp_table_1_c57b16['ksyn'], errors='coerce')\n",
    "k_on_relative = larsson_2019_supp_table_1_c57b16[(larsson_2019_supp_table_1_c57b16['kOn'] > 2*1e-3) & (larsson_2019_supp_table_1_c57b16['kOn'] < (1e3 - 1))]['kOn'].dropna()\n",
    "\n",
    "\n",
    "decay_ES = get_decay_es(larsson_2019_supp_table_1_c57b16.index)\n",
    "k_on = (k_on_relative*decay_ES).dropna()\n",
    "print(\"C57 ALLELE\")\n",
    "print(\"Mean:\", k_on.mean())\n",
    "print(\"1st Quartile:\", k_on.quantile(0.25))\n",
    "print(\"Median:\", k_on.median())\n",
    "print(\"3rd Quartile:\", k_on.quantile(0.75))\n",
    "print(\"Standard Deviation:\", k_on.std())\n",
    "print(\"Minimum:\", k_on.min())\n",
    "print(\"Maximum:\", k_on.max())\n",
    "k_on_larsson_Fib_c57b16 = k_on\n",
    "\n",
    "larsson_2019_supp_table_1_cast = larsson_2019_supp_table_1['CAST']\n",
    "larsson_2019_supp_table_1_cast.index = larsson_2019_supp_table_1_cast['Gene']\n",
    "larsson_2019_supp_table_1_cast['kOn'] = pd.to_numeric(larsson_2019_supp_table_1_cast['kOn'], errors='coerce')\n",
    "larsson_2019_supp_table_1_cast['kOff'] = pd.to_numeric(larsson_2019_supp_table_1_cast['Koff'], errors='coerce')\n",
    "larsson_2019_supp_table_1_cast['ksyn'] = pd.to_numeric(larsson_2019_supp_table_1_cast['ksyn'], errors='coerce')\n",
    "k_on_relative = larsson_2019_supp_table_1_cast[(larsson_2019_supp_table_1_cast['kOn'] > 2*1e-3) & (larsson_2019_supp_table_1_cast['kOn'] < (1e3 - 1))]['kOn'].dropna()\n",
    "decay_ES = get_decay_es(larsson_2019_supp_table_1_cast.index)\n",
    "k_on = (k_on_relative*decay_ES).dropna()\n",
    "print(\"CAST ALLELE\")\n",
    "print(\"Mean:\", k_on.mean())\n",
    "print(\"1st Quartile:\", k_on.quantile(0.25))\n",
    "print(\"Median:\", k_on.median())\n",
    "print(\"3rd Quartile:\", k_on.quantile(0.75))\n",
    "print(\"Standard Deviation:\", k_on.std())\n",
    "print(\"Minimum:\", k_on.min())\n",
    "print(\"Maximum:\", k_on.max())\n",
    "k_on_larsson_Fib_cast = k_on"
   ]
  },
  {
   "cell_type": "code",
   "execution_count": 53,
   "metadata": {},
   "outputs": [
    {
     "name": "stdout",
     "output_type": "stream",
     "text": [
      "Halpern\n",
      "Mean: 0.35886363636363644\n",
      "1st Quartile: 0.06825\n",
      "Median: 0.118\n",
      "3rd Quartile: 0.595\n",
      "Standard Deviation: 0.42864796250253634\n",
      "Minimum: 0.001\n",
      "Maximum: 1.32\n"
     ]
    }
   ],
   "source": [
    "halpern = pd.read_excel(\"/home/mzo5929/Keerthana/grnInference/parameter_data/halpern2015bursty_supp_table.xlsx\")\n",
    "halpern = halpern.dropna()\n",
    "k_on = halpern['Kon(1/hr)']\n",
    "print(\"Halpern\")\n",
    "print(\"Mean:\", k_on.mean())\n",
    "print(\"1st Quartile:\", k_on.quantile(0.25))\n",
    "print(\"Median:\", k_on.median())\n",
    "print(\"3rd Quartile:\", k_on.quantile(0.75))\n",
    "print(\"Standard Deviation:\", k_on.std())\n",
    "print(\"Minimum:\", k_on.min())\n",
    "print(\"Maximum:\", k_on.max())\n",
    "k_on_halpern = k_on"
   ]
  },
  {
   "cell_type": "code",
   "execution_count": 54,
   "metadata": {},
   "outputs": [
    {
     "name": "stdout",
     "output_type": "stream",
     "text": [
      "Mean: 1.0391029410088914\n",
      "5th Percentile: 0.01100183312142585\n",
      "1st Quartile: 0.09705559377128055\n",
      "Median: 0.5474154439351583\n",
      "3rd Quartile: 1.561003938486209\n",
      "95th Percentile: 3.17445158980805\n",
      "Standard Deviation: 1.9415568108366754\n",
      "Minimum: 0.0001312710308114655\n",
      "Maximum: 122.857627756417\n"
     ]
    }
   ],
   "source": [
    "#Merge the all the lists to calculate the combined stats\n",
    "k_on = pd.concat([k_on_halpern, k_on_ramskold_fib_2, k_on_ramskold_c562_2, k_on_ramskold_c562_1, k_on_ramskold_fib_1, k_on_larsson_Fib_cast, k_on_larsson_Fib_c57b16, k_on_larsson_ES_cast, k_on_larsson_ES_c57b16], ignore_index=True)\n",
    "print(\"Mean:\", k_on.mean())\n",
    "print(\"5th Percentile:\", k_on.quantile(0.05))\n",
    "print(\"1st Quartile:\", k_on.quantile(0.25))\n",
    "print(\"Median:\", k_on.median())\n",
    "print(\"3rd Quartile:\", k_on.quantile(0.75))\n",
    "print(\"95th Percentile:\", k_on.quantile(0.95))\n",
    "print(\"Standard Deviation:\", k_on.std())\n",
    "print(\"Minimum:\", k_on.min())\n",
    "print(\"Maximum:\", k_on.max())"
   ]
  },
  {
   "cell_type": "code",
   "execution_count": 56,
   "metadata": {},
   "outputs": [
    {
     "data": {
      "image/png": "[encoded data removed]",
      "text/plain": [
       "<Figure size 600x400 with 1 Axes>"
      ]
     },
     "metadata": {},
     "output_type": "display_data"
    }
   ],
   "source": [
    "values = k_on\n",
    "values = values[values > 0]\n",
    "\n",
    "# Define log-spaced bins\n",
    "n_bins = 100\n",
    "min_val = values.min()\n",
    "max_val = values.max()\n",
    "log_bins = np.logspace(np.log10(min_val), np.log10(max_val), n_bins)\n",
    "\n",
    "# Plot\n",
    "plt.figure(figsize=(6, 4))\n",
    "plt.hist(values, bins=log_bins)\n",
    "plt.xscale('log')\n",
    "# plt.yscale('log')\n",
    "plt.xlabel(r\"$\\k_{on}$ (log scale)\")\n",
    "plt.ylabel(\"Frequency (log scale)\")\n",
    "plt.title(r\"Log-Binned Histogram of $k_{on}$\")\n",
    "plt.tight_layout()\n",
    "plt.show()"
   ]
  },
  {
   "cell_type": "markdown",
   "metadata": {},
   "source": [
    "# $\\frac{k_{on}}{k_{off}}$\n"
   ]
  },
  {
   "cell_type": "code",
   "execution_count": 2,
   "metadata": {},
   "outputs": [
    {
     "name": "stdout",
     "output_type": "stream",
     "text": [
      "Halpern\n",
      "Mean: 0.43103035877105084\n",
      "1st Quartile: 0.092786830709607\n",
      "Median: 0.447810650887574\n",
      "3rd Quartile: 0.7077114237064536\n",
      "Standard Deviation: 0.3113556102945432\n",
      "Minimum: 0.022670025188916875\n",
      "Maximum: 0.8634146341463415\n"
     ]
    }
   ],
   "source": [
    "halpern = pd.read_excel(\"/home/mzo5929/Keerthana/grnInference/parameter_data/halpern2015bursty_supp_table.xlsx\")\n",
    "halpern = halpern.dropna()\n",
    "halpern\n",
    "k_on_off_ratio = halpern['Kon(1/hr)']/(halpern['Koff(1/hr)'] + halpern['Kon(1/hr)'])\n",
    "print(\"Halpern\")\n",
    "print(\"Mean:\", k_on_off_ratio.mean())\n",
    "print(\"1st Quartile:\", k_on_off_ratio.quantile(0.25))\n",
    "print(\"Median:\", k_on_off_ratio.median())\n",
    "print(\"3rd Quartile:\", k_on_off_ratio.quantile(0.75))\n",
    "print(\"Standard Deviation:\", k_on_off_ratio.std())\n",
    "print(\"Minimum:\", k_on_off_ratio.min())\n",
    "print(\"Maximum:\", k_on_off_ratio.max())\n",
    "k_on_off_ratio_halpern = k_on_off_ratio"
   ]
  },
  {
   "cell_type": "code",
   "execution_count": 3,
   "metadata": {},
   "outputs": [
    {
     "name": "stdout",
     "output_type": "stream",
     "text": [
      "Mean: 0.07450436794657793\n",
      "1st Quartile: 0.006052882096263286\n",
      "Median: 0.03209425232488192\n",
      "3rd Quartile: 0.1207386928132011\n",
      "Standard Deviation: 0.09199143752688607\n",
      "Minimum: 0.00015127471569377021\n",
      "Maximum: 0.9577991627878882\n",
      "CAST ALLELE\n",
      "Mean: 0.07855095554870943\n",
      "1st Quartile: 0.006958193064538834\n",
      "Median: 0.042031151521968055\n",
      "3rd Quartile: 0.12922519933317\n",
      "Standard Deviation: 0.08901714975542083\n",
      "Minimum: 0.00017839512122839096\n",
      "Maximum: 1.0449276086000332\n"
     ]
    }
   ],
   "source": [
    "# # Supplementary Table 1 Transcriptional burst kinetics inferred in Fibroblasts for C57Bl6 and CAST alleles. \n",
    "\n",
    "larsson_2019_supp_table_1 = pd.read_excel(\"/home/mzo5929/Keerthana/grnInference/parameter_data/larsson2019genomic_supp_table_1.xlsx\", sheet_name=None)\n",
    "larsson_2019_supp_table_1_c57b16 = larsson_2019_supp_table_1['C57']\n",
    "larsson_2019_supp_table_1_c57b16.index = larsson_2019_supp_table_1_c57b16['Gene']\n",
    "larsson_2019_supp_table_1_c57b16['kOn'] = pd.to_numeric(larsson_2019_supp_table_1_c57b16['kOn'], errors='coerce')\n",
    "larsson_2019_supp_table_1_c57b16['kOff'] = pd.to_numeric(larsson_2019_supp_table_1_c57b16['Koff'], errors='coerce')\n",
    "larsson_2019_supp_table_1_c57b16['ksyn'] = pd.to_numeric(larsson_2019_supp_table_1_c57b16['ksyn'], errors='coerce')\n",
    "larsson_2019_supp_table_1_c57b16 = larsson_2019_supp_table_1_c57b16[(larsson_2019_supp_table_1_c57b16['kOff'] > 2*1e-3) & (larsson_2019_supp_table_1_c57b16['kOff'] < (1e3 - 1))]\n",
    "larsson_2019_supp_table_1_c57b16 = larsson_2019_supp_table_1_c57b16[(larsson_2019_supp_table_1_c57b16['kOn'] > 2*1e-3) & (larsson_2019_supp_table_1_c57b16['kOn'] < (1e3 - 1))]\n",
    "larsson_2019_supp_table_1_c57b16['on_off_ratio'] = larsson_2019_supp_table_1_c57b16['kOn']/(larsson_2019_supp_table_1_c57b16['kOn'] + larsson_2019_supp_table_1_c57b16['kOff'])\n",
    "k_on_off_ratio = larsson_2019_supp_table_1_c57b16['on_off_ratio'].dropna()\n",
    "print(\"Mean:\", k_on_off_ratio.mean())\n",
    "print(\"1st Quartile:\", k_on_off_ratio.quantile(0.25))\n",
    "print(\"Median:\", k_on_off_ratio.median())\n",
    "print(\"3rd Quartile:\", k_on_off_ratio.quantile(0.75))\n",
    "print(\"Standard Deviation:\", k_on_off_ratio.std())\n",
    "print(\"Minimum:\", k_on_off_ratio.min())\n",
    "print(\"Maximum:\", k_on_off_ratio.max())\n",
    "k_on_off_ratio_larsson_Fib_c57b16 = k_on_off_ratio\n",
    "\n",
    "# k_off_relative = larsson_2019_supp_table_1_c57b16[(larsson_2019_supp_table_1_c57b16['kOff'] > 2*1e-3) & (larsson_2019_supp_table_1_c57b16['kOff'] < (1e3 - 1))]['kOff'].dropna()\n",
    "# decay_ES = get_decay_es(larsson_2019_supp_table_1_c57b16.index)\n",
    "# k_off = (k_off_relative*decay_ES).dropna()\n",
    "# print(\"C57 ALLELE\")\n",
    "# print(\"Mean:\", k_off.mean())\n",
    "# print(\"1st Quartile:\", k_off.quantile(0.25))\n",
    "# print(\"Median:\", k_off.median())\n",
    "# print(\"3rd Quartile:\", k_off.quantile(0.75))\n",
    "# print(\"Standard Deviation:\", k_off.std())\n",
    "# print(\"Minimum:\", k_off.min())\n",
    "# print(\"Maximum:\", k_off.max())\n",
    "# k_off_larsson_Fib_c57b16 = k_off\n",
    "\n",
    "larsson_2019_supp_table_1_cast = larsson_2019_supp_table_1['CAST']\n",
    "larsson_2019_supp_table_1_cast.index = larsson_2019_supp_table_1_cast['Gene']\n",
    "larsson_2019_supp_table_1_cast['kOn'] = pd.to_numeric(larsson_2019_supp_table_1_cast['kOn'], errors='coerce')\n",
    "larsson_2019_supp_table_1_cast['kOff'] = pd.to_numeric(larsson_2019_supp_table_1_cast['Koff'], errors='coerce')\n",
    "larsson_2019_supp_table_1_cast['ksyn'] = pd.to_numeric(larsson_2019_supp_table_1_cast['ksyn'], errors='coerce')\n",
    "larsson_2019_supp_table_1_cast = larsson_2019_supp_table_1_cast[(larsson_2019_supp_table_1_cast['kOff'] > 2*1e-3) & (larsson_2019_supp_table_1_cast['kOff'] < (1e3 - 1))]\n",
    "larsson_2019_supp_table_1_cast = larsson_2019_supp_table_1_cast[(larsson_2019_supp_table_1_cast['kOn'] > 2*1e-3) & (larsson_2019_supp_table_1_cast['kOn'] < (1e3 - 1))]\n",
    "larsson_2019_supp_table_1_cast['on_off_ratio'] = larsson_2019_supp_table_1_cast['kOn']/(larsson_2019_supp_table_1_c57b16['kOn'] + larsson_2019_supp_table_1_cast['kOff'])\n",
    "k_on_off_ratio = larsson_2019_supp_table_1_cast['on_off_ratio'].dropna()\n",
    "\n",
    "print(\"CAST ALLELE\")\n",
    "print(\"Mean:\", k_on_off_ratio.mean())\n",
    "print(\"1st Quartile:\", k_on_off_ratio.quantile(0.25))\n",
    "print(\"Median:\", k_on_off_ratio.median())\n",
    "print(\"3rd Quartile:\", k_on_off_ratio.quantile(0.75))\n",
    "print(\"Standard Deviation:\", k_on_off_ratio.std())\n",
    "print(\"Minimum:\", k_on_off_ratio.min())\n",
    "print(\"Maximum:\", k_on_off_ratio.max())\n",
    "k_on_off_ratio_Fib_cast = k_on_off_ratio\n",
    "\n"
   ]
  },
  {
   "cell_type": "code",
   "execution_count": 23,
   "metadata": {},
   "outputs": [
    {
     "name": "stdout",
     "output_type": "stream",
     "text": [
      "C57 ALLELE\n",
      "Mean: 0.16354636050804053\n",
      "1st Quartile: 0.012668591100686518\n",
      "Median: 0.11741389270494401\n",
      "3rd Quartile: 0.2778489605668524\n",
      "Standard Deviation: 0.16217252055703074\n",
      "Minimum: 0.00011476219375226161\n",
      "Maximum: 0.9997981284494802\n",
      "CAST ALLELE\n",
      "Mean: 0.18015531235741947\n",
      "1st Quartile: 0.03154586762630685\n",
      "Median: 0.14456269575862996\n",
      "3rd Quartile: 0.29400796556660136\n",
      "Standard Deviation: 0.16222166015247572\n",
      "Minimum: 0.0002805261497330909\n",
      "Maximum: 0.9943248073176939\n"
     ]
    },
    {
     "name": "stderr",
     "output_type": "stream",
     "text": [
      "/tmp/ipykernel_2964875/2304199922.py:19: RuntimeWarning: '<' not supported between instances of 'int' and 'datetime.datetime', sort order is undefined for incomparable objects.\n",
      "  larsson_2019_supp_table_3_c57b16['on_off_ratio'] = larsson_2019_supp_table_3_c57b16['kOn']/(larsson_2019_supp_table_1_c57b16['kOn'] + larsson_2019_supp_table_3_c57b16['kOff'])\n",
      "/tmp/ipykernel_2964875/2304199922.py:19: RuntimeWarning: '<' not supported between instances of 'datetime.datetime' and 'int', sort order is undefined for incomparable objects.\n",
      "  larsson_2019_supp_table_3_c57b16['on_off_ratio'] = larsson_2019_supp_table_3_c57b16['kOn']/(larsson_2019_supp_table_1_c57b16['kOn'] + larsson_2019_supp_table_3_c57b16['kOff'])\n"
     ]
    }
   ],
   "source": [
    "#Supplementary Table 3 Transcriptional burst kinetics inferred in Embryonic stem cells for C57Bl6 and CAST alleles\n",
    "larsson_2019_supp_table_3 = pd.read_excel(\"/home/mzo5929/Keerthana/grnInference/parameter_data/larsson2019genomic_supp_table_3.xlsx\", sheet_name=None)\n",
    "larsson_2019_supp_table_3_c57b16 = larsson_2019_supp_table_3['C57'].reset_index(drop=True)\n",
    "# larsson_2019_supp_table_3_c57b16.set_index('Gene', inplace=True)\n",
    "larsson_2019_supp_table_3_c57b16['kOn'] = pd.to_numeric(larsson_2019_supp_table_3_c57b16['kOn'], errors='coerce')\n",
    "larsson_2019_supp_table_3_c57b16['kOff'] = pd.to_numeric(larsson_2019_supp_table_3_c57b16['kOff'], errors='coerce')\n",
    "larsson_2019_supp_table_3_c57b16['ksyn'] = pd.to_numeric(larsson_2019_supp_table_3_c57b16['ksyn'], errors='coerce')\n",
    "larsson_2019_supp_table_3_c57b16 = larsson_2019_supp_table_3_c57b16[(larsson_2019_supp_table_3_c57b16['kOff'] > 2*1e-3) & (larsson_2019_supp_table_3_c57b16['kOff'] < (1e3 - 1))]\n",
    "larsson_2019_supp_table_3_c57b16 = larsson_2019_supp_table_3_c57b16[(larsson_2019_supp_table_3_c57b16['kOn'] > 2*1e-3) & (larsson_2019_supp_table_3_c57b16['kOn'] < (1e3 - 1))]\n",
    "k_on_off_ratio = pd.Series(larsson_2019_supp_table_3_c57b16['kOn'].values/(larsson_2019_supp_table_3_c57b16['kOn'].values + larsson_2019_supp_table_3_c57b16['kOff'].values))\n",
    "\n",
    "print(\"C57 ALLELE\")\n",
    "print(\"Mean:\", k_on_off_ratio.mean())\n",
    "print(\"1st Quartile:\", k_on_off_ratio.quantile(0.25))\n",
    "print(\"Median:\", k_on_off_ratio.median())\n",
    "print(\"3rd Quartile:\", k_on_off_ratio.quantile(0.75))\n",
    "print(\"Standard Deviation:\", k_on_off_ratio.std())\n",
    "larsson_2019_supp_table_1_c57b16 = larsson_2019_supp_table_1_c57b16[~larsson_2019_supp_table_1_c57b16.index.duplicated(keep='first')]\n",
    "larsson_2019_supp_table_3_c57b16['on_off_ratio'] = larsson_2019_supp_table_3_c57b16['kOn']/(larsson_2019_supp_table_1_c57b16['kOn'] + larsson_2019_supp_table_3_c57b16['kOff'])\n",
    "print(\"Minimum:\", k_on_off_ratio.min())\n",
    "print(\"Maximum:\", k_on_off_ratio.max())\n",
    "k_on_off_ratio_larsson_ES_c57b16 = k_on_off_ratio\n",
    "\n",
    "larsson_2019_supp_table_3_cast = larsson_2019_supp_table_3['CAST']\n",
    "# larsson_2019_supp_table_3_cast.set_index('Gene', inplace=True)\n",
    "larsson_2019_supp_table_3_cast['kOn'] = pd.to_numeric(larsson_2019_supp_table_3_cast['kOn'], errors='coerce')\n",
    "larsson_2019_supp_table_3_cast['kOff'] = pd.to_numeric(larsson_2019_supp_table_3_cast['kOff'], errors='coerce')\n",
    "larsson_2019_supp_table_3_cast['ksyn'] = pd.to_numeric(larsson_2019_supp_table_3_cast['ksyn'], errors='coerce')\n",
    "larsson_2019_supp_table_3_cast = larsson_2019_supp_table_3_cast[(larsson_2019_supp_table_3_cast['kOff'] > 2*1e-3) & (larsson_2019_supp_table_3_cast['kOff'] < (1e3 - 1))]\n",
    "larsson_2019_supp_table_3_cast = larsson_2019_supp_table_3_cast[(larsson_2019_supp_table_3_cast['kOn'] > 2*1e-3) & (larsson_2019_supp_table_3_cast['kOn'] < (1e3 - 1))]\n",
    "\n",
    "k_on_off_ratio = pd.Series(larsson_2019_supp_table_3_cast['kOn'].values/(larsson_2019_supp_table_3_cast['kOn'].values + larsson_2019_supp_table_3_cast['kOff'].values))\n",
    "\n",
    "print(\"CAST ALLELE\")\n",
    "print(\"Mean:\", k_on_off_ratio.mean())\n",
    "print(\"1st Quartile:\", k_on_off_ratio.quantile(0.25))\n",
    "print(\"Median:\", k_on_off_ratio.median())\n",
    "print(\"3rd Quartile:\", k_on_off_ratio.quantile(0.75))\n",
    "print(\"Standard Deviation:\", k_on_off_ratio.std())\n",
    "print(\"Minimum:\", k_on_off_ratio.min())\n",
    "print(\"Maximum:\", k_on_off_ratio.max())\n",
    "k_on_off_ratio_larsson_ES_cast = k_on_off_ratio"
   ]
  },
  {
   "cell_type": "code",
   "execution_count": 24,
   "metadata": {},
   "outputs": [
    {
     "name": "stdout",
     "output_type": "stream",
     "text": [
      "Mean: 0.12238691082505412\n",
      "5th percentile: 0.002233459155496191\n",
      "1st Quartile: 0.009133447304822781\n",
      "Median: 0.06844946053158957\n",
      "3rd Quartile: 0.19597301468801928\n",
      "95th percentile: 0.41215929058872686\n",
      "Standard Deviation: 0.13909746513031548\n",
      "Minimum: 0.00011476219375226161\n",
      "Maximum: 1.0449276086000332\n"
     ]
    }
   ],
   "source": [
    "#Merge the all the lists to calculate the combined stats\n",
    "k_on_off_ratio = pd.concat([k_on_off_ratio_halpern, k_on_off_ratio_Fib_cast, k_on_off_ratio_larsson_Fib_c57b16,k_on_off_ratio_larsson_ES_cast, k_on_off_ratio_larsson_ES_c57b16], ignore_index=True)\n",
    "print(\"Mean:\", k_on_off_ratio.mean())\n",
    "print(\"5th percentile:\", k_on_off_ratio.quantile(0.05))\n",
    "print(\"1st Quartile:\", k_on_off_ratio.quantile(0.25))\n",
    "print(\"Median:\", k_on_off_ratio.median())\n",
    "print(\"3rd Quartile:\", k_on_off_ratio.quantile(0.75))\n",
    "print(\"95th percentile:\", k_on_off_ratio.quantile(0.95))\n",
    "print(\"Standard Deviation:\", k_on_off_ratio.std())\n",
    "print(\"Minimum:\", k_on_off_ratio.min())\n",
    "print(\"Maximum:\", k_on_off_ratio.max())"
   ]
  },
  {
   "cell_type": "code",
   "execution_count": 38,
   "metadata": {},
   "outputs": [
    {
     "data": {
      "image/png": "[encoded data removed]",
      "text/plain": [
       "<Figure size 600x400 with 1 Axes>"
      ]
     },
     "metadata": {},
     "output_type": "display_data"
    }
   ],
   "source": [
    "values = k_on_off_ratio\n",
    "values = values[values > 0]\n",
    "\n",
    "# Define log-spaced bins\n",
    "n_bins = 100\n",
    "min_val = values.min()\n",
    "max_val = values.max()\n",
    "log_bins = np.logspace(np.log10(min_val), np.log10(max_val), n_bins)\n",
    "\n",
    "# Plot\n",
    "plt.figure(figsize=(6, 4))\n",
    "plt.hist(values, bins=log_bins)\n",
    "plt.xscale('log')\n",
    "# plt.yscale('log')\n",
    "plt.xlabel(r\"$\\pi_{on}$ (log scale)\")\n",
    "plt.ylabel(\"Frequency (log scale)\")\n",
    "plt.title(\"Log-Binned Histogram of Burst Fraction\")\n",
    "plt.tight_layout()\n",
    "plt.show()"
   ]
  },
  {
   "cell_type": "markdown",
   "metadata": {},
   "source": [
    "## $k_{off}$\n",
    "\n",
    "Data source:\n",
    "\n",
    "- Larsson et al, 2019\n",
    "- Halpern et al, 2015\n"
   ]
  },
  {
   "cell_type": "code",
   "execution_count": null,
   "metadata": {},
   "outputs": [],
   "source": [
    "halpern = pd.read_excel(\"/home/mzo5929/Keerthana/grnInference/parameter_data/halpern2015bursty_supp_table.xlsx\")\n",
    "halpern = halpern.dropna()\n",
    "halpern\n",
    "k_off = halpern['Koff(1/hr)']\n",
    "print(\"Halpern\")\n",
    "print(\"Mean:\", k_off.mean())\n",
    "print(\"1st Quartile:\", k_off.quantile(0.25))\n",
    "print(\"Median:\", k_off.median())\n",
    "print(\"3rd Quartile:\", k_off.quantile(0.75))\n",
    "print(\"Standard Deviation:\", k_off.std())\n",
    "print(\"Minimum:\", k_off.min())\n",
    "print(\"Maximum:\", k_off.max())\n",
    "k_off_halpern = k_off"
   ]
  },
  {
   "cell_type": "code",
   "execution_count": 6,
   "metadata": {},
   "outputs": [
    {
     "name": "stdout",
     "output_type": "stream",
     "text": [
      "Mean: 0.10023770330418881\n",
      "1st Quartile: 0.006089742591473485\n",
      "Median: 0.03315844845025037\n",
      "3rd Quartile: 0.13731833145130126\n",
      "Standard Deviation: 0.39777185820682737\n",
      "Minimum: 0.0001512976031956788\n",
      "Maximum: 22.696212351753907\n"
     ]
    }
   ],
   "source": [
    "# # Supplementary Table 1 Transcriptional burst kinetics inferred in Fibroblasts for C57Bl6 and CAST alleles. \n",
    "\n",
    "# larsson_2019_supp_table_1 = pd.read_excel(\"/home/mzo5929/Keerthana/grnInference/parameter_data/larsson2019genomic_supp_table_1.xlsx\", sheet_name=None)\n",
    "# larsson_2019_supp_table_1_c57b16 = larsson_2019_supp_table_1['C57']\n",
    "# larsson_2019_supp_table_1_c57b16.index = larsson_2019_supp_table_1_c57b16['Gene']\n",
    "# larsson_2019_supp_table_1_c57b16['kOn'] = pd.to_numeric(larsson_2019_supp_table_1_c57b16['kOn'], errors='coerce')\n",
    "# larsson_2019_supp_table_1_c57b16['kOff'] = pd.to_numeric(larsson_2019_supp_table_1_c57b16['Koff'], errors='coerce')\n",
    "# larsson_2019_supp_table_1_c57b16['ksyn'] = pd.to_numeric(larsson_2019_supp_table_1_c57b16['ksyn'], errors='coerce')\n",
    "# k_off_relative = larsson_2019_supp_table_1_c57b16[(larsson_2019_supp_table_1_c57b16['kOff'] > 2*1e-3) & (larsson_2019_supp_table_1_c57b16['kOff'] < (1e3 - 1))]['kOff'].dropna()\n",
    "# decay_ES = get_decay_es(larsson_2019_supp_table_1_c57b16.index)\n",
    "# k_off = (k_off_relative*decay_ES).dropna()\n",
    "# print(\"C57 ALLELE\")\n",
    "# print(\"Mean:\", k_off.mean())\n",
    "# print(\"1st Quartile:\", k_off.quantile(0.25))\n",
    "# print(\"Median:\", k_off.median())\n",
    "# print(\"3rd Quartile:\", k_off.quantile(0.75))\n",
    "# print(\"Standard Deviation:\", k_off.std())\n",
    "# print(\"Minimum:\", k_off.min())\n",
    "# print(\"Maximum:\", k_off.max())\n",
    "# k_off_larsson_Fib_c57b16 = k_off\n",
    "\n",
    "# larsson_2019_supp_table_1_cast = larsson_2019_supp_table_1['CAST']\n",
    "# larsson_2019_supp_table_1_cast.index = larsson_2019_supp_table_1_cast['Gene']\n",
    "# larsson_2019_supp_table_1_cast['kOn'] = pd.to_numeric(larsson_2019_supp_table_1_cast['kOn'], errors='coerce')\n",
    "# larsson_2019_supp_table_1_cast['kOff'] = pd.to_numeric(larsson_2019_supp_table_1_cast['Koff'], errors='coerce')\n",
    "# larsson_2019_supp_table_1_cast['ksyn'] = pd.to_numeric(larsson_2019_supp_table_1_cast['ksyn'], errors='coerce')\n",
    "# k_off_relative = larsson_2019_supp_table_1_cast[(larsson_2019_supp_table_1_cast['kOff'] > 2*1e-3) & (larsson_2019_supp_table_1_cast['kOff'] < (1e3 - 1))]['kOff'].dropna()\n",
    "# decay_ES = get_decay_es(larsson_2019_supp_table_1_cast.index)\n",
    "# k_off = (k_off_relative*decay_ES).dropna()\n",
    "# print(\"CAST ALLELE\")\n",
    "# print(\"Mean:\", k_off.mean())\n",
    "# print(\"1st Quartile:\", k_off.quantile(0.25))\n",
    "# print(\"Median:\", k_off.median())\n",
    "# print(\"3rd Quartile:\", k_off.quantile(0.75))\n",
    "# print(\"Standard Deviation:\", k_off.std())\n",
    "# print(\"Minimum:\", k_off.min())\n",
    "# print(\"Maximum:\", k_off.max())\n",
    "# k_off_larsson_Fib_cast = k_off\n",
    "\n",
    "larsson_2019_supp_table_1_c57b16['on_off_ratio'] = larsson_2019_supp_table_1_c57b16['kOn']/larsson_2019_supp_table_1_c57b16['kOff']\n",
    "k_on_off_ratio = larsson_2019_supp_table_1_c57b16['on_off_ratio'].dropna()\n",
    "print(\"Mean:\", k_on_off_ratio.mean())\n",
    "print(\"1st Quartile:\", k_on_off_ratio.quantile(0.25))\n",
    "print(\"Median:\", k_on_off_ratio.median())\n",
    "print(\"3rd Quartile:\", k_on_off_ratio.quantile(0.75))\n",
    "print(\"Standard Deviation:\", k_on_off_ratio.std())\n",
    "print(\"Minimum:\", k_on_off_ratio.min())\n",
    "print(\"Maximum:\", k_on_off_ratio.max())\n"
   ]
  },
  {
   "cell_type": "code",
   "execution_count": null,
   "metadata": {},
   "outputs": [],
   "source": [
    "#Supplementary Table 3 Transcriptional burst kinetics inferred in Embryonic stem cells for C57Bl6 and CAST alleles\n",
    "larsson_2019_supp_table_3 = pd.read_excel(\"/home/mzo5929/Keerthana/grnInference/parameter_data/larsson2019genomic_supp_table_3.xlsx\", sheet_name=None)\n",
    "larsson_2019_supp_table_3_c57b16 = larsson_2019_supp_table_3['C57']\n",
    "larsson_2019_supp_table_3_c57b16.set_index('Gene', inplace=True)\n",
    "larsson_2019_supp_table_3_c57b16['kOn'] = pd.to_numeric(larsson_2019_supp_table_3_c57b16['kOn'], errors='coerce')\n",
    "larsson_2019_supp_table_3_c57b16['kOff'] = pd.to_numeric(larsson_2019_supp_table_3_c57b16['kOff'], errors='coerce')\n",
    "larsson_2019_supp_table_3_c57b16['ksyn'] = pd.to_numeric(larsson_2019_supp_table_3_c57b16['ksyn'], errors='coerce')\n",
    "k_off_relative = larsson_2019_supp_table_3_c57b16[(larsson_2019_supp_table_3_c57b16['kOff'] > 2*1e-3) & (larsson_2019_supp_table_3_c57b16['kOff'] < (1e3 - 1))]['kOff'].dropna()\n",
    "decay_ES = get_decay_es(larsson_2019_supp_table_3_c57b16.index)\n",
    "k_off = (k_off_relative*decay_ES).dropna()\n",
    "print(\"C57 ALLELE\")\n",
    "print(\"Mean:\", k_off.mean())\n",
    "print(\"1st Quartile:\", k_off.quantile(0.25))\n",
    "print(\"Median:\", k_off.median())\n",
    "print(\"3rd Quartile:\", k_off.quantile(0.75))\n",
    "print(\"Standard Deviation:\", k_off.std())\n",
    "print(\"Minimum:\", k_off.min())\n",
    "print(\"Maximum:\", k_off.max())\n",
    "k_off_larsson_ES_c57b16 = k_off\n",
    "\n",
    "larsson_2019_supp_table_3_cast = larsson_2019_supp_table_3['CAST']\n",
    "larsson_2019_supp_table_3_cast.set_index('Gene', inplace=True)\n",
    "larsson_2019_supp_table_3_cast['kOn'] = pd.to_numeric(larsson_2019_supp_table_3_cast['kOn'], errors='coerce')\n",
    "larsson_2019_supp_table_3_cast['kOff'] = pd.to_numeric(larsson_2019_supp_table_3_cast['kOff'], errors='coerce')\n",
    "larsson_2019_supp_table_3_cast['ksyn'] = pd.to_numeric(larsson_2019_supp_table_3_cast['ksyn'], errors='coerce')\n",
    "k_off_relative = larsson_2019_supp_table_3_cast[(larsson_2019_supp_table_3_cast['kOff'] > 2*1e-3) & (larsson_2019_supp_table_3_cast['kOff'] < (1e3 - 1))]['kOff'].dropna()\n",
    "decay_ES = get_decay_es(larsson_2019_supp_table_3_c57b16.index)\n",
    "k_off = (k_off_relative*decay_ES).dropna()\n",
    "print(\"CAST ALLELE\")\n",
    "print(\"Mean:\", k_off.mean())\n",
    "print(\"1st Quartile:\", k_off.quantile(0.25))\n",
    "print(\"Median:\", k_off.median())\n",
    "print(\"3rd Quartile:\", k_off.quantile(0.75))\n",
    "print(\"Standard Deviation:\", k_off.std())\n",
    "print(\"Minimum:\", k_off.min())\n",
    "print(\"Maximum:\", k_off.max())\n",
    "k_off_larsson_ES_cast = k_off"
   ]
  },
  {
   "cell_type": "code",
   "execution_count": null,
   "metadata": {},
   "outputs": [],
   "source": [
    "#Merge the all the lists to calculate the combined stats\n",
    "k_off = pd.concat([k_off_halpern, k_off_larsson_Fib_cast, k_off_larsson_Fib_c57b16, k_off_larsson_ES_cast, k_off_larsson_ES_c57b16], ignore_index=True)\n",
    "print(\"Mean:\", k_off.mean())\n",
    "print(\"5th percentile:\", k_off.quantile(0.05))\n",
    "print(\"1st Quartile:\", k_off.quantile(0.25))\n",
    "print(\"Median:\", k_off.median())\n",
    "print(\"3rd Quartile:\", k_off.quantile(0.75))\n",
    "print(\"95th percentile:\", k_off.quantile(0.95))\n",
    "print(\"Standard Deviation:\", k_off.std())\n",
    "print(\"Minimum:\", k_off.min())\n",
    "print(\"Maximum:\", k_off.max())"
   ]
  },
  {
   "cell_type": "code",
   "execution_count": null,
   "metadata": {},
   "outputs": [],
   "source": [
    "import numpy as np\n",
    "\n",
    "# Define logarithmic bins\n",
    "bins = np.logspace(np.log10(k_off.min()), np.log10(k_off.max()), 100)\n",
    "\n",
    "# Plot histogram\n",
    "plt.hist(k_off, bins=bins)\n",
    "plt.xscale('log')\n",
    "plt.show()"
   ]
  },
  {
   "cell_type": "markdown",
   "metadata": {},
   "source": [
    "## mRNA production rate\n",
    "\n",
    "Data source:\n",
    "\n",
    "- Hausser et al 2019\n",
    "- Schwanhausser et al 2011\n",
    "- Larsson et al, 2019\n",
    "- Halpern et al, 2015\n"
   ]
  },
  {
   "cell_type": "code",
   "execution_count": 57,
   "metadata": {},
   "outputs": [
    {
     "name": "stdout",
     "output_type": "stream",
     "text": [
      "Mean: 1.5900224938916907\n",
      "1st Quartile: 0.3621236921704073\n",
      "Median: 0.731865584320867\n",
      "3rd Quartile: 1.5567303452237757\n",
      "Standard Deviation: 3.6979052446592164\n",
      "Minimum: 0.016568613609091048\n",
      "Maximum: 117.51217943018719\n"
     ]
    }
   ],
   "source": [
    "hauser_prod_m = pd.read_excel('/home/mzo5929/Keerthana/grnInference/parameter_data/hausser2019central.ods', 'H__sapiens_rates')\n",
    "hauser_prod_m = hauser_prod_m.dropna()\n",
    "k_syn_mRNA = hauser_prod_m['mRNA/h']\n",
    "print(\"Mean:\", k_syn_mRNA.mean())\n",
    "print(\"1st Quartile:\", k_syn_mRNA.quantile(0.25))\n",
    "print(\"Median:\", k_syn_mRNA.median())\n",
    "print(\"3rd Quartile:\", k_syn_mRNA.quantile(0.75))\n",
    "print(\"Standard Deviation:\", k_syn_mRNA.std())\n",
    "print(\"Minimum:\", k_syn_mRNA.min())\n",
    "print(\"Maximum:\", k_syn_mRNA.max())\n",
    "k_syn_mRNA_hauser = k_syn_mRNA"
   ]
  },
  {
   "cell_type": "code",
   "execution_count": 58,
   "metadata": {},
   "outputs": [
    {
     "name": "stdout",
     "output_type": "stream",
     "text": [
      "Mean: 4.146621853546911\n",
      "1st Quartile: 1.15\n",
      "Median: 2.07\n",
      "3rd Quartile: 3.88\n",
      "Standard Deviation: 13.315582084109296\n",
      "Minimum: 0.08\n",
      "Maximum: 571.92\n",
      "Mean: 3.507431350114417\n",
      "1st Quartile: 0.98\n",
      "Median: 1.78\n",
      "3rd Quartile: 3.31\n",
      "Standard Deviation: 13.172891287552766\n",
      "Minimum: 0.07\n",
      "Maximum: 651.73\n"
     ]
    }
   ],
   "source": [
    "schwan_prod_m = pd.read_excel('/home/mzo5929/Keerthana/grnInference/parameter_data/schwanhäusser2011global_supp_table_3.xls')\n",
    "schwan_prod_m =  schwan_prod_m.dropna()\n",
    "k_syn_mRNA = schwan_prod_m['transcription rate (vsr) experiment [molecules/(cell*h)]']\n",
    "print(\"Mean:\", k_syn_mRNA.mean())\n",
    "print(\"1st Quartile:\", k_syn_mRNA.quantile(0.25))\n",
    "print(\"Median:\", k_syn_mRNA.median())\n",
    "print(\"3rd Quartile:\", k_syn_mRNA.quantile(0.75))\n",
    "print(\"Standard Deviation:\", k_syn_mRNA.std())\n",
    "print(\"Minimum:\", k_syn_mRNA.min())\n",
    "print(\"Maximum:\", k_syn_mRNA.max())\n",
    "k_syn_mRNA_schwan_1 = k_syn_mRNA\n",
    "\n",
    "k_syn_mRNA = schwan_prod_m['transcription rate (vsr) replicate [molecules/(cell*h)]']\n",
    "print(\"Mean:\", k_syn_mRNA.mean())\n",
    "print(\"1st Quartile:\", k_syn_mRNA.quantile(0.25))\n",
    "print(\"Median:\", k_syn_mRNA.median())\n",
    "print(\"3rd Quartile:\", k_syn_mRNA.quantile(0.75))\n",
    "print(\"Standard Deviation:\", k_syn_mRNA.std())\n",
    "print(\"Minimum:\", k_syn_mRNA.min())\n",
    "print(\"Maximum:\", k_syn_mRNA.max())\n",
    "k_syn_mRNA_schwan_2 = k_syn_mRNA"
   ]
  },
  {
   "cell_type": "code",
   "execution_count": 59,
   "metadata": {},
   "outputs": [
    {
     "name": "stdout",
     "output_type": "stream",
     "text": [
      "C57 ALLELE\n",
      "Mean: 43.52752233644856\n",
      "1st Quartile: 2.405940433099181\n",
      "Median: 8.766719996802166\n",
      "3rd Quartile: 42.93261451233543\n",
      "Standard Deviation: 101.50850868333107\n",
      "Minimum: 0.08467314616502365\n",
      "Maximum: 1811.473988062271\n",
      "CAST ALLELE\n",
      "Mean: 14.141586491991884\n",
      "1st Quartile: 0.41751385884275094\n",
      "Median: 1.8433326091467346\n",
      "3rd Quartile: 17.034755395993237\n",
      "Standard Deviation: 28.80028362274809\n",
      "Minimum: 0.0014490302964366027\n",
      "Maximum: 391.24652852939187\n"
     ]
    }
   ],
   "source": [
    "# Supplementary Table 1 Transcriptional burst kinetics inferred in Fibroblasts for C57Bl6 and CAST alleles. \n",
    "\n",
    "larsson_2019_supp_table_1 = pd.read_excel(\"/home/mzo5929/Keerthana/grnInference/parameter_data/larsson2019genomic_supp_table_1.xlsx\", sheet_name=None)\n",
    "larsson_2019_supp_table_1_c57b16 = larsson_2019_supp_table_1['C57']\n",
    "larsson_2019_supp_table_1_c57b16.index = larsson_2019_supp_table_1_c57b16['Gene']\n",
    "larsson_2019_supp_table_1_c57b16['kOn'] = pd.to_numeric(larsson_2019_supp_table_1_c57b16['kOn'], errors='coerce')\n",
    "larsson_2019_supp_table_1_c57b16['kOff'] = pd.to_numeric(larsson_2019_supp_table_1_c57b16['Koff'], errors='coerce')\n",
    "larsson_2019_supp_table_1_c57b16['kSyn'] = pd.to_numeric(larsson_2019_supp_table_1_c57b16['ksyn'], errors='coerce')\n",
    "kSyn_relative = larsson_2019_supp_table_1_c57b16[(larsson_2019_supp_table_1_c57b16['kSyn'] > 1)]['kSyn'].dropna()\n",
    "decay_ES = get_decay_es(larsson_2019_supp_table_1_c57b16.index)\n",
    "kSyn = (kSyn_relative*decay_ES).dropna()\n",
    "print(\"C57 ALLELE\")\n",
    "print(\"Mean:\", kSyn.mean())\n",
    "print(\"1st Quartile:\", kSyn.quantile(0.25))\n",
    "print(\"Median:\", kSyn.median())\n",
    "print(\"3rd Quartile:\", kSyn.quantile(0.75))\n",
    "print(\"Standard Deviation:\", kSyn.std())\n",
    "print(\"Minimum:\", kSyn.min())\n",
    "print(\"Maximum:\", kSyn.max())\n",
    "kSyn_larsson_Fib_c57b16 = kSyn\n",
    "\n",
    "larsson_2019_supp_table_1_cast = larsson_2019_supp_table_1['CAST']\n",
    "larsson_2019_supp_table_1_cast.index = larsson_2019_supp_table_1_cast['Gene']\n",
    "larsson_2019_supp_table_1_cast['kOn'] = pd.to_numeric(larsson_2019_supp_table_1_cast['kOn'], errors='coerce')\n",
    "larsson_2019_supp_table_1_cast['kOff'] = pd.to_numeric(larsson_2019_supp_table_1_cast['Koff'], errors='coerce')\n",
    "larsson_2019_supp_table_1_cast['kSyn'] = pd.to_numeric(larsson_2019_supp_table_1_cast['ksyn'], errors='coerce')\n",
    "kSyn_relative = larsson_2019_supp_table_1_cast[(larsson_2019_supp_table_1_cast['kSyn'] > 1) ]['kOff'].dropna()\n",
    "decay_ES = get_decay_es(larsson_2019_supp_table_1_cast.index)\n",
    "kSyn = (kSyn_relative*decay_ES).dropna()\n",
    "print(\"CAST ALLELE\")\n",
    "print(\"Mean:\", kSyn.mean())\n",
    "print(\"1st Quartile:\", kSyn.quantile(0.25))\n",
    "print(\"Median:\", kSyn.median())\n",
    "print(\"3rd Quartile:\", kSyn.quantile(0.75))\n",
    "print(\"Standard Deviation:\", kSyn.std())\n",
    "print(\"Minimum:\", kSyn.min())\n",
    "print(\"Maximum:\", kSyn.max())\n",
    "kSyn_larsson_Fib_cast = kSyn"
   ]
  },
  {
   "cell_type": "code",
   "execution_count": 60,
   "metadata": {},
   "outputs": [
    {
     "name": "stdout",
     "output_type": "stream",
     "text": [
      "C57 ALLELE\n",
      "Mean: 17.119561989988256\n",
      "1st Quartile: 1.241830252917722\n",
      "Median: 2.5615520772774274\n",
      "3rd Quartile: 8.730990937087626\n",
      "Standard Deviation: 55.551706724159004\n",
      "Minimum: 0.07928329642780627\n",
      "Maximum: 1737.3605811558798\n",
      "CAST ALLELE\n",
      "Mean: 18.779983765639955\n",
      "1st Quartile: 1.1960150546665667\n",
      "Median: 2.377674318502197\n",
      "3rd Quartile: 6.776839132236907\n",
      "Standard Deviation: 187.3579508823569\n",
      "Minimum: 0.13704156464186898\n",
      "Maximum: 10079.59680180326\n"
     ]
    }
   ],
   "source": [
    "#Supplementary Table 3 Transcriptional burst kinetics inferred in Embryonic stem cells for C57Bl6 and CAST alleles\n",
    "larsson_2019_supp_table_3 = pd.read_excel(\"/home/mzo5929/Keerthana/grnInference/parameter_data/larsson2019genomic_supp_table_3.xlsx\", sheet_name=None)\n",
    "larsson_2019_supp_table_3_c57b16 = larsson_2019_supp_table_3['C57']\n",
    "larsson_2019_supp_table_3_c57b16.set_index('Gene', inplace=True)\n",
    "larsson_2019_supp_table_3_c57b16['kOn'] = pd.to_numeric(larsson_2019_supp_table_3_c57b16['kOn'], errors='coerce')\n",
    "larsson_2019_supp_table_3_c57b16['kOff'] = pd.to_numeric(larsson_2019_supp_table_3_c57b16['kOff'], errors='coerce')\n",
    "larsson_2019_supp_table_3_c57b16['kSyn'] = pd.to_numeric(larsson_2019_supp_table_3_c57b16['ksyn'], errors='coerce')\n",
    "kSyn_relative = larsson_2019_supp_table_3_c57b16[(larsson_2019_supp_table_3_c57b16['kSyn'] > 1)]['kSyn'].dropna()\n",
    "decay_ES = get_decay_es(larsson_2019_supp_table_3_c57b16.index)\n",
    "kSyn = (kSyn_relative*decay_ES).dropna()\n",
    "print(\"C57 ALLELE\")\n",
    "print(\"Mean:\", kSyn.mean())\n",
    "print(\"1st Quartile:\", kSyn.quantile(0.25))\n",
    "print(\"Median:\", kSyn.median())\n",
    "print(\"3rd Quartile:\", kSyn.quantile(0.75))\n",
    "print(\"Standard Deviation:\", kSyn.std())\n",
    "print(\"Minimum:\", kSyn.min())\n",
    "print(\"Maximum:\", kSyn.max())\n",
    "kSyn_larsson_ES_c57b16 = kSyn\n",
    "\n",
    "larsson_2019_supp_table_3_cast = larsson_2019_supp_table_3['CAST']\n",
    "larsson_2019_supp_table_3_cast.set_index('Gene', inplace=True)\n",
    "larsson_2019_supp_table_3_cast['kOn'] = pd.to_numeric(larsson_2019_supp_table_3_cast['kOn'], errors='coerce')\n",
    "larsson_2019_supp_table_3_cast['kOff'] = pd.to_numeric(larsson_2019_supp_table_3_cast['kOff'], errors='coerce')\n",
    "larsson_2019_supp_table_3_cast['kSyn'] = pd.to_numeric(larsson_2019_supp_table_3_cast['ksyn'], errors='coerce')\n",
    "kSyn_relative = larsson_2019_supp_table_3_cast[(larsson_2019_supp_table_3_cast['kSyn'] > 1)]['kSyn'].dropna()\n",
    "decay_ES = get_decay_es(larsson_2019_supp_table_3_c57b16.index)\n",
    "kSyn = (kSyn_relative*decay_ES).dropna()\n",
    "print(\"CAST ALLELE\")\n",
    "print(\"Mean:\", kSyn.mean())\n",
    "print(\"1st Quartile:\", kSyn.quantile(0.25))\n",
    "print(\"Median:\", kSyn.median())\n",
    "print(\"3rd Quartile:\", kSyn.quantile(0.75))\n",
    "print(\"Standard Deviation:\", kSyn.std())\n",
    "print(\"Minimum:\", kSyn.min())\n",
    "print(\"Maximum:\", kSyn.max())\n",
    "kSyn_larsson_ES_cast = kSyn"
   ]
  },
  {
   "cell_type": "code",
   "execution_count": 61,
   "metadata": {},
   "outputs": [
    {
     "name": "stdout",
     "output_type": "stream",
     "text": [
      "Halpern\n",
      "Mean: 236.2695466722518\n",
      "1st Quartile: 73.51715024618431\n",
      "Median: 145.53947286866213\n",
      "3rd Quartile: 385.0889958726889\n",
      "Standard Deviation: 207.2770047240166\n",
      "Minimum: 1.7130540809349162\n",
      "Maximum: 703.4073140268565\n"
     ]
    }
   ],
   "source": [
    "halpern = pd.read_excel(\"/home/mzo5929/Keerthana/grnInference/parameter_data/halpern2015bursty_supp_table.xlsx\")\n",
    "halpern = halpern.dropna()\n",
    "halpern\n",
    "k_syn = halpern['µ(mRNA/hr)']\n",
    "print(\"Halpern\")\n",
    "print(\"Mean:\", k_syn.mean())\n",
    "print(\"1st Quartile:\", k_syn.quantile(0.25))\n",
    "print(\"Median:\", k_syn.median())\n",
    "print(\"3rd Quartile:\", k_syn.quantile(0.75))\n",
    "print(\"Standard Deviation:\", k_syn.std())\n",
    "print(\"Minimum:\", k_syn.min())\n",
    "print(\"Maximum:\", k_syn.max())\n",
    "k_syn_halpern = k_syn"
   ]
  },
  {
   "cell_type": "code",
   "execution_count": 62,
   "metadata": {},
   "outputs": [
    {
     "name": "stdout",
     "output_type": "stream",
     "text": [
      "Mean: 12.680953949877852\n",
      "5th percentile: 0.21167892608836905\n",
      "1st Quartile: 0.7281443177464193\n",
      "Median: 1.7305852886951874\n",
      "3rd Quartile: 4.877530803765224\n",
      "95th percentile: 57.969081890244844\n",
      "Standard Deviation: 75.43996137150044\n",
      "Minimum: 0.0014490302964366027\n",
      "Maximum: 10079.59680180326\n"
     ]
    }
   ],
   "source": [
    "#Merge the all the lists to calculate the combined stats\n",
    "kSyn = pd.concat([k_syn_mRNA_hauser, k_syn_mRNA_schwan_2, k_syn_mRNA_schwan_1, k_syn_halpern, kSyn_larsson_Fib_cast, kSyn_larsson_Fib_c57b16, kSyn_larsson_ES_c57b16, kSyn_larsson_ES_cast], ignore_index=True)\n",
    "print(\"Mean:\", kSyn.mean())\n",
    "print(\"5th percentile:\", kSyn.quantile(0.05))\n",
    "print(\"1st Quartile:\", kSyn.quantile(0.25))\n",
    "print(\"Median:\", kSyn.median())\n",
    "print(\"3rd Quartile:\", kSyn.quantile(0.75))\n",
    "print(\"95th percentile:\", kSyn.quantile(0.95))\n",
    "print(\"Standard Deviation:\", kSyn.std())\n",
    "print(\"Minimum:\", kSyn.min())\n",
    "print(\"Maximum:\", kSyn.max())"
   ]
  },
  {
   "cell_type": "code",
   "execution_count": 63,
   "metadata": {},
   "outputs": [
    {
     "data": {
      "image/png": "[encoded data removed]",
      "text/plain": [
       "<Figure size 640x480 with 1 Axes>"
      ]
     },
     "metadata": {},
     "output_type": "display_data"
    }
   ],
   "source": [
    "import numpy as np\n",
    "\n",
    "# Define logarithmic bins\n",
    "bins = np.logspace(np.log10(kSyn.min()), np.log10(kSyn.max()), 100)\n",
    "\n",
    "# Plot histogram\n",
    "plt.hist(kSyn, bins=bins)\n",
    "plt.xscale('log')\n",
    "plt.show()"
   ]
  },
  {
   "cell_type": "markdown",
   "metadata": {},
   "source": [
    "## Protein production rate\n",
    "\n",
    "Data source:\n",
    "\n",
    "- Hausser et al 2019\n",
    "- Schwanhausser et al 2011\n"
   ]
  },
  {
   "cell_type": "code",
   "execution_count": 64,
   "metadata": {},
   "outputs": [
    {
     "name": "stdout",
     "output_type": "stream",
     "text": [
      "Mean: 1369.2222770774622\n",
      "1st Quartile: 627.7523519193219\n",
      "Median: 1058.8354543427658\n",
      "3rd Quartile: 1657.7334293264437\n",
      "Standard Deviation: 3156.6506631935385\n",
      "Minimum: 19.232864319042267\n",
      "Maximum: 168205.92564997508\n"
     ]
    }
   ],
   "source": [
    "hauser_prod_m = pd.read_excel('/home/mzo5929/Keerthana/grnInference/parameter_data/hausser2019central.ods', 'H__sapiens_rates')\n",
    "hauser_prod_m = hauser_prod_m.dropna()\n",
    "prod_prot = hauser_prod_m['protein/h']\n",
    "print(\"Mean:\", prod_prot.mean())\n",
    "print(\"1st Quartile:\", prod_prot.quantile(0.25))\n",
    "print(\"Median:\", prod_prot.median())\n",
    "print(\"3rd Quartile:\", prod_prot.quantile(0.75))\n",
    "print(\"Standard Deviation:\", prod_prot.std())\n",
    "print(\"Minimum:\", prod_prot.min())\n",
    "print(\"Maximum:\", prod_prot.max())\n",
    "prod_prot_hauser = prod_prot"
   ]
  },
  {
   "cell_type": "code",
   "execution_count": 65,
   "metadata": {},
   "outputs": [
    {
     "name": "stdout",
     "output_type": "stream",
     "text": [
      "Mean: 551.7847540045766\n",
      "1st Quartile: 61.3975\n",
      "Median: 166.97\n",
      "3rd Quartile: 385.7975\n",
      "Standard Deviation: 5973.56472626392\n",
      "Minimum: 0.19\n",
      "Maximum: 254666.99\n",
      "Mean: 441.5190389016018\n",
      "1st Quartile: 40.605000000000004\n",
      "Median: 128.71\n",
      "3rd Quartile: 343.295\n",
      "Standard Deviation: 3905.956754668903\n",
      "Minimum: 0.1\n",
      "Maximum: 197957.19\n"
     ]
    }
   ],
   "source": [
    "schwan_prod_m = pd.read_excel('/home/mzo5929/Keerthana/grnInference/parameter_data/schwanhäusser2011global_supp_table_3.xls')\n",
    "schwan_prod_m =  schwan_prod_m.dropna()\n",
    "prot_prod = schwan_prod_m['translation rate constant (ksp) experiment [molecules/(mRNA*h)]']\n",
    "print(\"Mean:\", prot_prod.mean())\n",
    "print(\"1st Quartile:\", prot_prod.quantile(0.25))\n",
    "print(\"Median:\", prot_prod.median())\n",
    "print(\"3rd Quartile:\", prot_prod.quantile(0.75))\n",
    "print(\"Standard Deviation:\", prot_prod.std())\n",
    "print(\"Minimum:\", prot_prod.min())\n",
    "print(\"Maximum:\", prot_prod.max())\n",
    "prot_prod_schwan_1 = prot_prod\n",
    "\n",
    "prot_prod = schwan_prod_m['translation rate constant (ksp) replicate [molecules/(mRNA*h)]']\n",
    "print(\"Mean:\", prot_prod.mean())\n",
    "\n",
    "print(\"1st Quartile:\", prot_prod.quantile(0.25))\n",
    "print(\"Median:\", prot_prod.median())\n",
    "print(\"3rd Quartile:\", prot_prod.quantile(0.75))\n",
    "\n",
    "print(\"Standard Deviation:\", prot_prod.std())\n",
    "print(\"Minimum:\", prot_prod.min())\n",
    "print(\"Maximum:\", prot_prod.max())\n",
    "prot_prod_schwan_2 = prot_prod"
   ]
  },
  {
   "cell_type": "code",
   "execution_count": 66,
   "metadata": {},
   "outputs": [
    {
     "name": "stdout",
     "output_type": "stream",
     "text": [
      "Mean: 974.1045967895525\n",
      "5th percentile: 19.4\n",
      "1st Quartile: 167.55\n",
      "Median: 558.0020905949287\n",
      "3rd Quartile: 1209.8987637455139\n",
      "95th percentile: 2663.7287298510328\n",
      "Standard Deviation: 4144.0154727637155\n",
      "Minimum: 0.1\n",
      "Maximum: 254666.99\n"
     ]
    }
   ],
   "source": [
    "#Merge the all the lists to calculate the combined stats\n",
    "kSyn_protein = pd.concat([prot_prod_schwan_2, prot_prod_schwan_1, prod_prot_hauser], ignore_index=True)\n",
    "print(\"Mean:\", kSyn_protein.mean())\n",
    "print(\"5th percentile:\", kSyn_protein.quantile(0.05))\n",
    "print(\"1st Quartile:\", kSyn_protein.quantile(0.25))\n",
    "print(\"Median:\", kSyn_protein.median())\n",
    "print(\"3rd Quartile:\", kSyn_protein.quantile(0.75))\n",
    "print(\"95th percentile:\", kSyn_protein.quantile(0.95))\n",
    "print(\"Standard Deviation:\", kSyn_protein.std())\n",
    "print(\"Minimum:\", kSyn_protein.min())\n",
    "print(\"Maximum:\", kSyn_protein.max())"
   ]
  },
  {
   "cell_type": "code",
   "execution_count": 67,
   "metadata": {},
   "outputs": [
    {
     "data": {
      "image/png": "[encoded data removed]",
      "text/plain": [
       "<Figure size 640x480 with 1 Axes>"
      ]
     },
     "metadata": {},
     "output_type": "display_data"
    }
   ],
   "source": [
    "import numpy as np\n",
    "\n",
    "# Define logarithmic bins\n",
    "bins = np.logspace(np.log10(kSyn_protein.min()), np.log10(kSyn_protein.max()), 100)\n",
    "\n",
    "# Plot histogram\n",
    "plt.hist(kSyn_protein, bins=bins)\n",
    "plt.xscale('log')\n",
    "plt.show()"
   ]
  },
  {
   "cell_type": "markdown",
   "metadata": {},
   "source": [
    "## mRNA half-life\n",
    "\n",
    "Data source:\n",
    "\n",
    "- Hausser et al 2019\n",
    "- Schwanhausser et al 2011\n",
    "- Herzog et al, 2017\n",
    "- Friedel et al, 2009\n",
    "- Halpern et al, 2015\n",
    "- Slam-seq\n"
   ]
  },
  {
   "cell_type": "code",
   "execution_count": 68,
   "metadata": {},
   "outputs": [
    {
     "name": "stdout",
     "output_type": "stream",
     "text": [
      "Mean: 9.959902745995423\n",
      "1st Quartile: 6.91\n",
      "Median: 9.245000000000001\n",
      "3rd Quartile: 12.3225\n",
      "Standard Deviation: 4.187333654951837\n",
      "Minimum: 1.43\n",
      "Maximum: 29.59\n",
      "Mean: 12.248884439359268\n",
      "1st Quartile: 7.6775\n",
      "Median: 10.8\n",
      "3rd Quartile: 15.022499999999999\n",
      "Standard Deviation: 6.790006918133548\n",
      "Minimum: 1.65\n",
      "Maximum: 62.27\n"
     ]
    }
   ],
   "source": [
    "schwan_mRNA_half_life = pd.read_excel('/home/mzo5929/Keerthana/grnInference/parameter_data/schwanhäusser2011global_supp_table_3.xls')\n",
    "schwan_mRNA_half_life =  schwan_mRNA_half_life.dropna()\n",
    "schwan_mRNA_half_life\n",
    "mRNA_half_life = schwan_mRNA_half_life['mRNA half-life experiment [h]']\n",
    "print(\"Mean:\", mRNA_half_life.mean())\n",
    "print(\"1st Quartile:\", mRNA_half_life.quantile(0.25))\n",
    "print(\"Median:\", mRNA_half_life.median())\n",
    "print(\"3rd Quartile:\", mRNA_half_life.quantile(0.75))\n",
    "print(\"Standard Deviation:\", mRNA_half_life.std())\n",
    "print(\"Minimum:\", mRNA_half_life.min())\n",
    "print(\"Maximum:\", mRNA_half_life.max())\n",
    "mRNA_half_life_schwan_1 = mRNA_half_life\n",
    "\n",
    "mRNA_half_life = schwan_mRNA_half_life['mRNA half-life replicate [h]']\n",
    "print(\"Mean:\", mRNA_half_life.mean())\n",
    "print(\"1st Quartile:\", mRNA_half_life.quantile(0.25))\n",
    "print(\"Median:\", mRNA_half_life.median())\n",
    "print(\"3rd Quartile:\", mRNA_half_life.quantile(0.75))\n",
    "print(\"Standard Deviation:\", mRNA_half_life.std())\n",
    "print(\"Minimum:\", mRNA_half_life.min())\n",
    "print(\"Maximum:\", mRNA_half_life.max())\n",
    "mRNA_half_life_schwan_2 = mRNA_half_life"
   ]
  },
  {
   "cell_type": "code",
   "execution_count": 69,
   "metadata": {},
   "outputs": [
    {
     "name": "stdout",
     "output_type": "stream",
     "text": [
      "Halpern\n",
      "Mean: 24.401002766849537\n",
      "1st Quartile: 0.6190142305991742\n",
      "Median: 3.7897773563181563\n",
      "3rd Quartile: 16.315964477466245\n",
      "Standard Deviation: 72.85899478774019\n",
      "Minimum: 0.2779258943704672\n",
      "Maximum: 346.5735902799726\n"
     ]
    }
   ],
   "source": [
    "halpern = pd.read_excel(\"/home/mzo5929/Keerthana/grnInference/parameter_data/halpern2015bursty_supp_table.xlsx\")\n",
    "halpern = halpern.dropna()\n",
    "halpern\n",
    "k_deg = halpern['δ(1/hr)']\n",
    "mRNA_half_life = np.log(2)/k_deg\n",
    "print(\"Halpern\")\n",
    "print(\"Mean:\", mRNA_half_life.mean())\n",
    "print(\"1st Quartile:\", mRNA_half_life.quantile(0.25))\n",
    "print(\"Median:\", mRNA_half_life.median())\n",
    "print(\"3rd Quartile:\", mRNA_half_life.quantile(0.75))\n",
    "print(\"Standard Deviation:\", mRNA_half_life.std())\n",
    "print(\"Minimum:\", mRNA_half_life.min())\n",
    "print(\"Maximum:\", mRNA_half_life.max())\n",
    "mRNA_half_life_halpern = mRNA_half_life"
   ]
  },
  {
   "cell_type": "code",
   "execution_count": 70,
   "metadata": {},
   "outputs": [
    {
     "name": "stdout",
     "output_type": "stream",
     "text": [
      "herzog\n",
      "Mean: 4.259592611070534\n",
      "1st Quartile: 2.67063158395808\n",
      "Median: 3.73821555962394\n",
      "3rd Quartile: 5.14741182373285\n",
      "Standard Deviation: 2.4147606554131196\n",
      "Minimum: 0.485781171980553\n",
      "Maximum: 24.0\n"
     ]
    }
   ],
   "source": [
    "herzog = pd.read_excel('/home/mzo5929/Keerthana/grnInference/parameter_data/herzog2017thiol_supp_table_2.xls')\n",
    "herzog = herzog.dropna()\n",
    "mRNA_half_life = herzog['Half-life (h)']\n",
    "print(\"herzog\")\n",
    "print(\"Mean:\", mRNA_half_life.mean())\n",
    "print(\"1st Quartile:\", mRNA_half_life.quantile(0.25))\n",
    "print(\"Median:\", mRNA_half_life.median())\n",
    "print(\"3rd Quartile:\", mRNA_half_life.quantile(0.75))\n",
    "print(\"Standard Deviation:\", mRNA_half_life.std())\n",
    "print(\"Minimum:\", mRNA_half_life.min())\n",
    "print(\"Maximum:\", mRNA_half_life.max())\n",
    "mRNA_half_life_herzog = mRNA_half_life"
   ]
  },
  {
   "cell_type": "code",
   "execution_count": 71,
   "metadata": {},
   "outputs": [
    {
     "name": "stdout",
     "output_type": "stream",
     "text": [
      "friedel\n",
      "Mean: 6.36398187787755\n",
      "1st Quartile: 2.508271949728267\n",
      "Median: 4.58488558002255\n",
      "3rd Quartile: 7.876594969465133\n",
      "Standard Deviation: 6.135177766087061\n",
      "Minimum: 0.10308591716422867\n",
      "Maximum: 97.62936701260699\n"
     ]
    }
   ],
   "source": [
    "friedel = pd.read_excel(\"/home/mzo5929/Keerthana/grnInference/parameter_data/friedel2009conserved.xls\")\n",
    "friedel.columns = friedel.iloc[0]\n",
    "friedel = friedel[1:]\n",
    "mRNA_half_life = friedel[\"Half-life [h]\"]\n",
    "print(\"friedel\")\n",
    "print(\"Mean:\", mRNA_half_life.mean())\n",
    "print(\"1st Quartile:\", mRNA_half_life.quantile(0.25))\n",
    "print(\"Median:\", mRNA_half_life.median())\n",
    "print(\"3rd Quartile:\", mRNA_half_life.quantile(0.75))\n",
    "print(\"Standard Deviation:\", mRNA_half_life.std())\n",
    "print(\"Minimum:\", mRNA_half_life.min())\n",
    "print(\"Maximum:\", mRNA_half_life.max())\n",
    "mRNA_half_life_friedel = mRNA_half_life\n",
    "\n"
   ]
  },
  {
   "cell_type": "code",
   "execution_count": 73,
   "metadata": {},
   "outputs": [
    {
     "name": "stdout",
     "output_type": "stream",
     "text": [
      "slam-seq\n",
      "Mean: 4.281614662864467\n",
      "1st Quartile: 2.666909792\n",
      "Median: 3.736625762\n",
      "3rd Quartile: 5.162719028\n",
      "Standard Deviation: 2.4667124446433175\n",
      "Minimum: 0.485781172\n",
      "Maximum: 24.0\n"
     ]
    }
   ],
   "source": [
    "DR_ES = pd.read_csv('/home/mzo5929/Keerthana/grnInference/parameter_data/larsson_slam_seq_data.csv', sep=';')\n",
    "DR_ES.index = DR_ES['Name']\n",
    "DR_ES = DR_ES[~DR_ES.index.duplicated(keep='first')]\n",
    "DR_ES = DR_ES.dropna(how='any')\n",
    "DR_ES['decay'] = np.log(2)/DR_ES['Half-life (h)']\n",
    "decay_ES = DR_ES['decay']\n",
    "decay_ES = decay_ES.replace([np.inf, 0], np.nan).dropna()\n",
    "decay_ES = decay_ES[~decay_ES.index.duplicated(keep='first')]\n",
    "decay_ES = decay_ES[decay_ES > 0]\n",
    "decay_ES = decay_ES.dropna()\n",
    "\n",
    "mRNA_half_life = np.log(2)/decay_ES\n",
    "print(\"slam-seq\")\n",
    "print(\"Mean:\", mRNA_half_life.mean())\n",
    "print(\"1st Quartile:\", mRNA_half_life.quantile(0.25))\n",
    "print(\"Median:\", mRNA_half_life.median())\n",
    "print(\"3rd Quartile:\", mRNA_half_life.quantile(0.75))\n",
    "print(\"Standard Deviation:\", mRNA_half_life.std())\n",
    "print(\"Minimum:\", mRNA_half_life.min())\n",
    "print(\"Maximum:\", mRNA_half_life.max())\n",
    "mRNA_half_life_slam_seq = mRNA_half_life"
   ]
  },
  {
   "cell_type": "code",
   "execution_count": 74,
   "metadata": {},
   "outputs": [
    {
     "name": "stdout",
     "output_type": "stream",
     "text": [
      "Mean: 6.618694821328816\n",
      "5th percentile: 1.508572268\n",
      "1st Quartile: 3.02187697305508\n",
      "Median: 4.91\n",
      "3rd Quartile: 8.52900448481157\n",
      "95th percentile: 16.94\n",
      "Standard Deviation: 5.824201168771438\n",
      "Minimum: 0.10308591716422867\n",
      "Maximum: 346.5735902799726\n"
     ]
    }
   ],
   "source": [
    "#Merge the all the lists to calculate the combined stats\n",
    "mRNA_half_life = pd.concat([mRNA_half_life_friedel, mRNA_half_life_slam_seq, mRNA_half_life_herzog, mRNA_half_life_halpern, mRNA_half_life_schwan_2, mRNA_half_life_schwan_1], ignore_index=True)\n",
    "print(\"Mean:\", mRNA_half_life.mean())\n",
    "print(\"5th percentile:\", mRNA_half_life.quantile(0.05))\n",
    "print(\"1st Quartile:\", mRNA_half_life.quantile(0.25))\n",
    "print(\"Median:\", mRNA_half_life.median())\n",
    "print(\"3rd Quartile:\", mRNA_half_life.quantile(0.75))\n",
    "print(\"95th percentile:\", mRNA_half_life.quantile(0.95))\n",
    "print(\"Standard Deviation:\", mRNA_half_life.std())\n",
    "print(\"Minimum:\", mRNA_half_life.min())\n",
    "print(\"Maximum:\", mRNA_half_life.max())"
   ]
  },
  {
   "cell_type": "code",
   "execution_count": 75,
   "metadata": {},
   "outputs": [
    {
     "data": {
      "image/png": "[encoded data removed]",
      "text/plain": [
       "<Figure size 640x480 with 1 Axes>"
      ]
     },
     "metadata": {},
     "output_type": "display_data"
    }
   ],
   "source": [
    "import numpy as np\n",
    "\n",
    "# Define logarithmic bins\n",
    "bins = np.logspace(np.log10(mRNA_half_life.min()), np.log10(mRNA_half_life.max()), 100)\n",
    "\n",
    "# Plot histogram\n",
    "plt.hist(mRNA_half_life, bins=bins)\n",
    "plt.xscale('log')\n",
    "plt.show()"
   ]
  },
  {
   "cell_type": "markdown",
   "metadata": {},
   "source": [
    "## protein half-life\n",
    "\n",
    "Data source:\n",
    "\n",
    "- Eden et al 2011\n",
    "- Schwanhausser et al 2011\n"
   ]
  },
  {
   "cell_type": "code",
   "execution_count": 76,
   "metadata": {},
   "outputs": [
    {
     "name": "stdout",
     "output_type": "stream",
     "text": [
      "Mean: 56.83778890160183\n",
      "1st Quartile: 24.66\n",
      "Median: 44.95\n",
      "3rd Quartile: 75.69\n",
      "Standard Deviation: 45.83951015589958\n",
      "Minimum: 0.55\n",
      "Maximum: 295.28\n",
      "Mean: 105.90046624713959\n",
      "1st Quartile: 24.36\n",
      "Median: 48.31\n",
      "3rd Quartile: 90.7675\n",
      "Standard Deviation: 648.0637622943186\n",
      "Minimum: 0.44\n",
      "Maximum: 34357.0\n"
     ]
    }
   ],
   "source": [
    "schwan_mRNA_half_life = pd.read_excel('/home/mzo5929/Keerthana/grnInference/parameter_data/schwanhäusser2011global_supp_table_3.xls')\n",
    "schwan_mRNA_half_life =  schwan_mRNA_half_life.dropna()\n",
    "schwan_mRNA_half_life\n",
    "protein_half_life = schwan_mRNA_half_life['Protein half-life experiment [h]']\n",
    "print(\"Mean:\", protein_half_life.mean())\n",
    "print(\"1st Quartile:\", protein_half_life.quantile(0.25))\n",
    "print(\"Median:\", protein_half_life.median())\n",
    "print(\"3rd Quartile:\", protein_half_life.quantile(0.75))\n",
    "print(\"Standard Deviation:\", protein_half_life.std())\n",
    "print(\"Minimum:\", protein_half_life.min())\n",
    "print(\"Maximum:\", protein_half_life.max())\n",
    "protein_half_life_schwan_1 = protein_half_life\n",
    "\n",
    "protein_half_life = schwan_mRNA_half_life['Protein half-life replicate [h]']\n",
    "print(\"Mean:\", protein_half_life.mean())\n",
    "print(\"1st Quartile:\", protein_half_life.quantile(0.25))\n",
    "print(\"Median:\", protein_half_life.median())\n",
    "print(\"3rd Quartile:\", protein_half_life.quantile(0.75))\n",
    "print(\"Standard Deviation:\", protein_half_life.std())\n",
    "print(\"Minimum:\", protein_half_life.min())\n",
    "print(\"Maximum:\", protein_half_life.max())\n",
    "protein_half_life_schwan_2 = protein_half_life"
   ]
  },
  {
   "cell_type": "code",
   "execution_count": 77,
   "metadata": {},
   "outputs": [
    {
     "name": "stdout",
     "output_type": "stream",
     "text": [
      "Mean: 8.939\n",
      "1st Quartile: 5.574999999999999\n",
      "Median: 8.2\n",
      "3rd Quartile: 11.1\n",
      "Standard Deviation: 4.591139798183525\n",
      "Minimum: 0.8\n",
      "Maximum: 22.5\n"
     ]
    }
   ],
   "source": [
    "eden_protein_half_life = pd.read_excel('/home/mzo5929/Keerthana/grnInference/parameter_data/eden2011proteome_excel.xlsx')\n",
    "# eden_protein_half_life =  eden_protein_half_life.dropna()\n",
    "eden_protein_half_life\n",
    "protein_half_life = eden_protein_half_life['Protein Half-life (1/hr)']\n",
    "print(\"Mean:\", protein_half_life.mean())\n",
    "print(\"1st Quartile:\", protein_half_life.quantile(0.25))\n",
    "print(\"Median:\", protein_half_life.median())\n",
    "print(\"3rd Quartile:\", protein_half_life.quantile(0.75))\n",
    "print(\"Standard Deviation:\", protein_half_life.std())\n",
    "print(\"Minimum:\", protein_half_life.min())\n",
    "print(\"Maximum:\", protein_half_life.max())\n",
    "protein_half_life_eden = protein_half_life"
   ]
  },
  {
   "cell_type": "code",
   "execution_count": 78,
   "metadata": {},
   "outputs": [
    {
     "name": "stdout",
     "output_type": "stream",
     "text": [
      "Mean: 80.34783417935702\n",
      "5th percentile: 7.89\n",
      "1st Quartile: 23.7575\n",
      "Median: 45.56\n",
      "3rd Quartile: 81.3575\n",
      "9th percentile: 196.25599999999986\n",
      "Standard Deviation: 456.84196851441567\n",
      "Minimum: 0.44\n",
      "Maximum: 34357.0\n"
     ]
    }
   ],
   "source": [
    "#Merge the all the lists to calculate the combined stats\n",
    "protein_half_life = pd.concat([protein_half_life_eden, protein_half_life_schwan_2, protein_half_life_schwan_1], ignore_index=True)\n",
    "print(\"Mean:\", protein_half_life.mean())\n",
    "print(\"5th percentile:\", protein_half_life.quantile(0.05))\n",
    "print(\"1st Quartile:\", protein_half_life.quantile(0.25))\n",
    "print(\"Median:\", protein_half_life.median())\n",
    "print(\"3rd Quartile:\", protein_half_life.quantile(0.75))\n",
    "print(\"9th percentile:\", protein_half_life.quantile(0.95))\n",
    "print(\"Standard Deviation:\", protein_half_life.std())\n",
    "print(\"Minimum:\", protein_half_life.min())\n",
    "print(\"Maximum:\", protein_half_life.max())\n"
   ]
  },
  {
   "cell_type": "code",
   "execution_count": 79,
   "metadata": {},
   "outputs": [
    {
     "data": {
      "image/png": "[encoded data removed]",
      "text/plain": [
       "<Figure size 640x480 with 1 Axes>"
      ]
     },
     "metadata": {},
     "output_type": "display_data"
    }
   ],
   "source": [
    "import numpy as np\n",
    "\n",
    "# Define logarithmic bins\n",
    "bins = np.logspace(np.log10(protein_half_life.min()), np.log10(protein_half_life.max()), 100)\n",
    "\n",
    "# Plot histogram\n",
    "plt.hist(protein_half_life, bins=bins)\n",
    "plt.xscale('log')\n",
    "plt.show()"
   ]
  },
  {
   "cell_type": "code",
   "execution_count": null,
   "metadata": {},
   "outputs": [],
   "source": [
    "plt.hist(protein_half_life[protein_half_life < 1000], bins = 30)"
   ]
  },
  {
   "cell_type": "markdown",
   "metadata": {},
   "source": [
    "# Parameter generation\n"
   ]
  },
  {
   "cell_type": "code",
   "execution_count": 2,
   "metadata": {},
   "outputs": [],
   "source": [
    "from scipy.stats import qmc\n",
    "import pandas as pd\n",
    "import numpy as np"
   ]
  },
  {
   "cell_type": "code",
   "execution_count": null,
   "metadata": {},
   "outputs": [],
   "source": [
    "# --- Define parameters ---\n",
    "gene_params = [\n",
    "    \"p_on\", \"p_off\", \"mrna_half_life\", \"protein_half_life\",\n",
    "    \"p_prod_protein\", \"p_prod_mRNA\"\n",
    "]\n",
    "interaction_params = [\"n_gene_1_to_gene_2\", \"p_add_gene_1_to_gene_2\", \"n_gene_2_to_gene_1\", \"p_add_gene_2_to_gene_1\"]\n",
    "\n",
    "param_names = (\n",
    "    [f\"{p}_gene_1\" for p in gene_params] +\n",
    "    [f\"{p}_gene_2\" for p in gene_params] +\n",
    "    interaction_params\n",
    ")\n",
    "\n",
    "param_bounds = {\n",
    "    \"p_on\": (0.01, 3),\n",
    "    \"p_off\": (0.05, 60),\n",
    "    \"mrna_half_life\": (1, 20),\n",
    "    \"protein_half_life\": (5, 200),\n",
    "    \"p_prod_mRNA\": (0.2, 60),\n",
    "    \"p_prod_protein\": (15, 2700),\n",
    "    \"n_gene_1_to_gene_2\": (0.1, 5),\n",
    "    \"n_gene_2_to_gene_1\": (0.1, 5),\n",
    "    \"p_add_gene_1_to_gene_2\": (2, 10),\n",
    "    \"p_add_gene_2_to_gene_1\": (2, 10),\n",
    "}\n",
    "\n",
    "bounds = (\n",
    "    [param_bounds[p] for p in gene_params] +\n",
    "    [param_bounds[p] for p in gene_params] +\n",
    "    [param_bounds[p] for p in interaction_params]\n",
    ")\n",
    "\n",
    "# --- Constraint function ---\n",
    "def hl_to_deg(hl):\n",
    "    return np.log(2) / hl\n",
    "\n",
    "\n",
    "# --- Sampling ---\n",
    "n_valid_required = 25000\n",
    "oversample_factor = 1\n",
    "n_attempts = int(n_valid_required * oversample_factor)\n",
    "seed = 42\n",
    "\n",
    "# Latin Hypercube Sampling\n",
    "# Convert bounds to log10 space\n",
    "log_bounds_lower = [np.log10(b[0]) for b in bounds]\n",
    "log_bounds_upper = [np.log10(b[1]) for b in bounds]\n",
    "\n",
    "# Latin Hypercube Sampling in log space\n",
    "sampler = qmc.LatinHypercube(d=len(bounds), seed=seed)\n",
    "sample = sampler.random(n=n_attempts)\n",
    "\n",
    "# Scale sample in log space\n",
    "scaled_log_sample = qmc.scale(sample, log_bounds_lower, log_bounds_upper)\n",
    "\n",
    "# Convert back to linear space\n",
    "scaled_samples = 10 ** scaled_log_sample\n",
    "\n",
    "# Create DataFrame\n",
    "df = pd.DataFrame(scaled_samples, columns=param_names)\n",
    "\n",
    "\n",
    "# Filter valid samples\n",
    "df_valid = df #[valid_mask]\n",
    "\n",
    "# --- Print acceptance stats ---\n",
    "print(f\"Generated {n_attempts} samples\")\n",
    "\n",
    "# Ensure enough valid samples\n",
    "if len(df_valid) < n_valid_required:\n",
    "    raise ValueError(f\"Only {len(df_valid)} valid samples found. Increase oversample_factor or relax constraint.\")\n",
    "\n",
    "# Keep only first 25,000 valid\n",
    "df_valid = df_valid.iloc[:n_valid_required].reset_index(drop=True)\n",
    "\n",
    "import matplotlib.pyplot as plt\n",
    "\n",
    "# Plot histograms of all parameters in df_valid\n",
    "fig, axes = plt.subplots(nrows=5, ncols=4, figsize=(20, 15))\n",
    "axes = axes.flatten()\n",
    "\n",
    "for i, col in enumerate(df_valid.columns):\n",
    "    axes[i].hist(np.log10(df_valid[col]), bins=100, color='gray', edgecolor='black')\n",
    "    axes[i].set_title(f\"log10({col})\")\n",
    "    axes[i].set_ylabel(\"Frequency\")\n",
    "    axes[i].set_xlabel(\"log10(Value)\")\n",
    "\n",
    "# Hide any unused subplots\n",
    "for j in range(i + 1, len(axes)):\n",
    "    axes[j].axis(\"off\")\n",
    "\n",
    "plt.tight_layout()\n",
    "plt.show()\n",
    "\n",
    "\n",
    "# --- Expand to long format ---\n",
    "rows = []\n",
    "for idx, row in df_valid.iterrows():\n",
    "    g1 = {k.replace(\"_gene_1\", \"\"): v for k, v in row.items() if \"_gene_1\" in k and \"_gene_2\" not in k}\n",
    "    g2 = {k.replace(\"_gene_2\", \"\"): v for k, v in row.items() if \"_gene_2\" in k and \"_gene_1\" not in k}\n",
    "    interaction = {k: v for k, v in row.items() if \"gene_1_to_gene_2\" in k}\n",
    "    interaction_2 = {k: v for k, v in row.items() if \"gene_2_to_gene_1\" in k}\n",
    "    rows.append({**g1, **interaction, **interaction_2, \"pair_id\": idx, \"gene_id\": 1})\n",
    "    rows.append({**g2, **interaction, **interaction_2, \"pair_id\": idx, \"gene_id\": 2})\n",
    "\n",
    "final_df = pd.DataFrame(rows).reset_index(drop=True)\n",
    "\n",
    "# --- Save ---\n",
    "output_path = \"/home/mzo5929/Keerthana/grnInference/simulation_data/gillespie_simulation/sim_details/lhc_sampled_parameters_bidirectional_positive_reg_2.csv\"\n",
    "final_df.to_csv(output_path, index=True)\n",
    "print(f\"\\n✅ Saved to {output_path}\")\n"
   ]
  },
  {
   "cell_type": "code",
   "execution_count": 1,
   "metadata": {},
   "outputs": [],
   "source": [
    "# param_df = pd.read_csv(\"/home/mzo5929/Keerthana/grnInference/simulation_data/gillespie_simulation/sim_details/lhc_sampled_parameters_negative_reg.csv\", index_col = 0)\n",
    "\n",
    "import numpy as np\n",
    "import pandas as pd\n",
    "\n",
    "def hl_to_deg(hl):\n",
    "    \"\"\"Convert half-life to degradation rate.\"\"\"\n",
    "    return np.log(2) / hl\n",
    "\n",
    "def compute_steady_state_levels(param_df, gene_id):\n",
    "    \"\"\"Compute mean mRNA and protein levels for gene_id (1 or 2), assuming hill = 0.5.\"\"\"\n",
    "    assert gene_id in [1, 2], \"gene_id must be 1 or 2\"\n",
    "\n",
    "    # Basic parameters\n",
    "    p_on = param_df[\"p_on\"]\n",
    "    p_off = param_df[\"p_off\"]\n",
    "    prod_m = param_df[\"p_prod_mRNA\"]\n",
    "    prod_p = param_df[\"p_prod_protein\"]\n",
    "    deg_m = hl_to_deg(param_df[\"mrna_half_life\"])\n",
    "    deg_p = hl_to_deg(param_df[\"protein_half_life\"])\n",
    "\n",
    "    # Use .get to safely retrieve interaction term or default to 0\n",
    "    if gene_id == 2:\n",
    "        p_add = param_df.get(\"p_add_gene_1_to_gene_2\", 0.0)\n",
    "    else:\n",
    "        p_add = param_df.get(\"p_add_gene_2_to_gene_1\", 0.0)\n",
    "\n",
    "    # Compute effective p_on using hill response = 0.5\n",
    "    p_on_eff = p_on + 0.5 * p_add\n",
    "    burst_prob = p_on_eff / (p_on_eff + p_off)\n",
    "\n",
    "    # Steady-state means\n",
    "    mean_mRNA = burst_prob * prod_m / deg_m\n",
    "    mean_protein = mean_mRNA * prod_p / deg_p\n",
    "\n",
    "    # Store results in DataFrame\n",
    "    param_df[\"mean_mRNA_level\"] = mean_mRNA\n",
    "    param_df[\"mean_protein_level\"] = mean_protein\n",
    "\n",
    "    return param_df\n",
    "\n",
    "# Usage\n",
    "param_df = pd.read_csv(\"/home/mzo5929/Keerthana/grnInference/simulation_data/gillespie_simulation_run_2/sim_details/lhc_sampled_parameters_positive_reg_2.csv\", index_col = 0)\n",
    "param_df = compute_steady_state_levels(param_df, gene_id=2)\n"
   ]
  },
  {
   "cell_type": "code",
   "execution_count": null,
   "metadata": {},
   "outputs": [],
   "source": [
    "import numpy as np\n",
    "import matplotlib.pyplot as plt\n",
    "\n",
    "# Filter out zero or negative values (log scale can't handle them)\n",
    "values = param_df['mean_protein_level']\n",
    "values = values[values > 0]\n",
    "\n",
    "# Define log-spaced bins\n",
    "n_bins = 100\n",
    "min_val = values.min()\n",
    "max_val = values.max()\n",
    "log_bins = np.logspace(np.log10(min_val), np.log10(max_val), n_bins)\n",
    "\n",
    "# Plot\n",
    "plt.figure(figsize=(6, 4))\n",
    "plt.hist(values, bins=log_bins)\n",
    "plt.xscale('log')\n",
    "# plt.yscale('log')\n",
    "plt.xlabel(\"Mean protein level (log scale)\")\n",
    "plt.ylabel(\"Frequency (log scale)\")\n",
    "plt.title(\"Log-Binned Histogram of Mean Protein Levels\")\n",
    "plt.tight_layout()\n",
    "plt.show()\n"
   ]
  },
  {
   "cell_type": "code",
   "execution_count": null,
   "metadata": {},
   "outputs": [],
   "source": [
    "param_df[param_df['mean_mRNA_level'] < 100].shape"
   ]
  },
  {
   "cell_type": "code",
   "execution_count": null,
   "metadata": {},
   "outputs": [],
   "source": [
    "plt.hist(param_df[param_df['mean_mRNA_level'] < 1]['mean_mRNA_level'])"
   ]
  },
  {
   "cell_type": "markdown",
   "metadata": {},
   "source": [
    "## Generate test parameters\n"
   ]
  },
  {
   "cell_type": "code",
   "execution_count": 32,
   "metadata": {},
   "outputs": [],
   "source": [
    "import pandas as pd\n",
    "import numpy as np\n",
    "\n",
    "# Initial values\n",
    "gene_1 = [0.55, 8.08, 5, 45, 2, 500, 2, 6, 7, 1]\n",
    "gene_2 = [0.55, 8.08, 5, 45, 2, 500, 2, 6, 7, 2]\n",
    "\n",
    "r_add = np.arange(0.1, 1, 0.05)\n",
    "rows = []\n",
    "\n",
    "for i, r_add_curr in enumerate(r_add):\n",
    "    gene_1[7] = r_add_curr\n",
    "    gene_1[8] = i\n",
    "\n",
    "    gene_2[7] = r_add_curr\n",
    "    gene_2[8] = i\n",
    "\n",
    "    rows.append(gene_1.copy())\n",
    "    rows.append(gene_2.copy())\n",
    "\n",
    "# Create DataFrame\n",
    "df = pd.DataFrame(rows)\n",
    "df.to_csv(\"/home/mzo5929/Keerthana/grnInference/simulation_data/gillespie_simulation_test/sim_details/effect_of_radd_negative.csv\")\n",
    "\n"
   ]
  }
 ],
 "metadata": {
  "kernelspec": {
   "display_name": "grnSimulationQuest",
   "language": "python",
   "name": "python3"
  },
  "language_info": {
   "codemirror_mode": {
    "name": "ipython",
    "version": 3
   },
   "file_extension": ".py",
   "mimetype": "text/x-python",
   "name": "python",
   "nbconvert_exporter": "python",
   "pygments_lexer": "ipython3",
   "version": "3.11.8"
  }
 },
 "nbformat": 4,
 "nbformat_minor": 2
}
