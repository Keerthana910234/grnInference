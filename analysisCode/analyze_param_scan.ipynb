{
 "cells": [
  {
   "cell_type": "code",
   "execution_count": 1,
   "metadata": {},
   "outputs": [],
   "source": [
    "import pandas as pd\n",
    "import numpy as np\n",
    "import os\n",
    "from scipy.stats import spearmanr\n",
    "from tqdm.notebook import tqdm\n",
    "from joblib import Parallel, delayed"
   ]
  },
  {
   "cell_type": "code",
   "execution_count": 2,
   "metadata": {},
   "outputs": [],
   "source": [
    "!module load texlive\n",
    "import matplotlib.pyplot as plt\n",
    "import os\n",
    "\n",
    "os.environ['PATH'] = \"/software/texlive/2020/bin/x86_64-linux:\" + os.environ['PATH']\n",
    "\n",
    "matplotlib.rcParams['text.usetex'] = True\n",
    "matplotlib.rcParams['axes.labelsize'] = 24\n",
    "matplotlib.rcParams['legend.fontsize'] = 24\n",
    "matplotlib.rcParams['axes.titlesize'] = 24\n",
    "matplotlib.rcParams['xtick.labelsize'] = 24\n",
    "matplotlib.rcParams['ytick.labelsize'] = 24"
   ]
  },
  {
   "cell_type": "markdown",
   "metadata": {},
   "source": [
    "# Code to analyze parameter scan\n"
   ]
  },
  {
   "cell_type": "code",
   "execution_count": 3,
   "metadata": {},
   "outputs": [],
   "source": [
    "param_df = pd.read_csv('/home/mzo5929/Keerthana/grnInference/simulationData/parameter_sweep.csv', index_col=0)"
   ]
  },
  {
   "cell_type": "code",
   "execution_count": 3,
   "metadata": {},
   "outputs": [],
   "source": [
    "def find_csv_files(folder_path):\n",
    "    csv_files = []\n",
    "    for item in os.listdir(folder_path):\n",
    "        if item.endswith(\".csv\"):\n",
    "            csv_files.append(item)\n",
    "    return csv_files"
   ]
  },
  {
   "cell_type": "code",
   "execution_count": 5,
   "metadata": {},
   "outputs": [],
   "source": [
    "# Helper function for correlation\n",
    "def compute_diff_correlation(rep1, rep2):\n",
    "    diff_tf = rep1['total_TF_mRNA'].values - rep2['total_TF_mRNA'].values\n",
    "    diff_target = rep1['total_Target_mRNA'].values - rep2['total_Target_mRNA'].values\n",
    "    return spearmanr(diff_tf, diff_target)[0]\n",
    "\n",
    "# Compute correlations at a time point\n",
    "def get_correlations(df, time):\n",
    "    df = df[df['sampling_time'] == time].reset_index(drop=True)\n",
    "    corr_gene_gene = spearmanr(df['total_TF_mRNA'], df['total_Target_mRNA'])[0]\n",
    "\n",
    "    rep1 = df[df['replicate'] == 0].reset_index(drop=True)\n",
    "    rep2 = df[df['replicate'] == 1].reset_index(drop=True)\n",
    "\n",
    "    corr_twin_pair = compute_diff_correlation(rep1, rep2)\n",
    "    rep2_random = rep2.sample(frac=1, random_state=0, ignore_index=True)\n",
    "    corr_random_pair = compute_diff_correlation(rep1, rep2_random)\n",
    "\n",
    "    return corr_gene_gene, corr_twin_pair, corr_random_pair\n",
    "\n",
    "# Parallelized task per simulation\n",
    "def process_simulation_single_population(sim, path_to_folder, parameter_of_interest, t1, t2):\n",
    "    sim_path = os.path.join(path_to_folder, sim)\n",
    "    population = pd.read_csv(sim_path)\n",
    "\n",
    "    param_value = sim.split('_param_index_')[1].split('_')[0]\n",
    "    run_number = sim.split('_run_')[1].split('_')[0]\n",
    "    parameter_value = param_df.loc[int(param_value)][parameter_of_interest]\n",
    "\n",
    "    c1, c2, c3 = get_correlations(population, t1)\n",
    "    c4, c5, c6 = get_correlations(population, t2)\n",
    "\n",
    "    return {\n",
    "        f'{parameter_of_interest}': parameter_value,\n",
    "        'run': run_number,\n",
    "        't1_gene_gene_correlation': c1,\n",
    "        't1_twin_pair_correlation': c2,\n",
    "        't1_random_pair_correlation': c3,\n",
    "        't2_gene_gene_correlation': c4,\n",
    "        't2_twin_pair_correlation': c5,\n",
    "        't2_random_pair_correlation': c6,\n",
    "    }\n",
    "\n",
    "# Parallelized task per simulation\n",
    "def process_simulation_mixed_population(sim, constant_pop, path_to_folder, parameter_of_interest, t1, t2):\n",
    "    sim_path = os.path.join(path_to_folder, sim)\n",
    "    current_pop = pd.read_csv(sim_path)\n",
    "    population = pd.concat([current_pop, constant_pop], axis=0)\n",
    "    \n",
    "    param_value = sim.split('_param_index_')[1].split('_')[0]\n",
    "    run_number = sim.split('_run_')[1].split('_')[0]\n",
    "    parameter_value = param_df.loc[int(param_value)][parameter_of_interest]\n",
    "\n",
    "    c1, c2, c3 = get_correlations(population, t1)\n",
    "    c4, c5, c6 = get_correlations(population, t2)\n",
    "\n",
    "    return {\n",
    "        f'{parameter_of_interest}': parameter_value,\n",
    "        'run': run_number,\n",
    "        't1_gene_gene_correlation': c1,\n",
    "        't1_twin_pair_correlation': c2,\n",
    "        't1_random_pair_correlation': c3,\n",
    "        't2_gene_gene_correlation': c4,\n",
    "        't2_twin_pair_correlation': c5,\n",
    "        't2_random_pair_correlation': c6,\n",
    "    }\n",
    "\n",
    "\n"
   ]
  },
  {
   "cell_type": "code",
   "execution_count": 6,
   "metadata": {},
   "outputs": [],
   "source": [
    "# params = mrna_half_life_TF,mrna_half_life_Target,protein_half_life,protein_production_rate,labeling_efficiency,pulse_time,num_cells,dynamics,capture_efficiency\n",
    "\n",
    "#Plot the mean and standard deviation of each group and colour between the 2 standard deviations\n",
    "def plot_and_save(parameter_of_interest, correlation_df_grouped_t1, regulation = True, lim = 0.2):\n",
    "    #split the parameter of interest by \"_\"\n",
    "    parameter_of_interest_split = parameter_of_interest.split(\"_\")\n",
    "    if parameter_of_interest_split[0] == \"k\":\n",
    "        parameter_label = rf'$k_{{{parameter_of_interest_split[1]}}}^{{{parameter_of_interest_split[2]}}}$'\n",
    "    elif parameter_of_interest_split[0] == \"burst\":\n",
    "        parameter_label = rf'$Burst-size_{{{parameter_of_interest_split[-1]}}}$'\n",
    "    elif parameter_of_interest_split[0] == \"mrna\":\n",
    "        parameter_label = rf'$mRNA-halflife_{{{parameter_of_interest_split[-1]}}}$'\n",
    "    else:\n",
    "        parameter_label = rf'${parameter_of_interest}$'\n",
    "\n",
    "    plt.figure(figsize=(10, 5))\n",
    "    plt.errorbar(correlation_df_grouped_t1[parameter_of_interest], correlation_df_grouped_t1['t1_gene_gene_correlation']['mean'], yerr=correlation_df_grouped_t1['t1_gene_gene_correlation']['std'], fmt='o', label=r'$\\rho$')\n",
    "    plt.fill_between(correlation_df_grouped_t1[parameter_of_interest], correlation_df_grouped_t1['t1_gene_gene_correlation']['mean'] - correlation_df_grouped_t1['t1_gene_gene_correlation']['std'], correlation_df_grouped_t1['t1_gene_gene_correlation']['mean'] + correlation_df_grouped_t1['t1_gene_gene_correlation']['std'], alpha=0.1, color='blue')\n",
    "    plt.errorbar(correlation_df_grouped_t1[parameter_of_interest], correlation_df_grouped_t1['t1_twin_pair_correlation']['mean'], yerr=correlation_df_grouped_t1['t1_twin_pair_correlation']['std'], fmt='o', label=r'$\\bar{\\rho_{\\Delta}}$')\n",
    "    plt.fill_between(correlation_df_grouped_t1[parameter_of_interest], correlation_df_grouped_t1['t1_twin_pair_correlation']['mean'] - correlation_df_grouped_t1['t1_twin_pair_correlation']['std'], correlation_df_grouped_t1['t1_twin_pair_correlation']['mean'] + correlation_df_grouped_t1['t1_twin_pair_correlation']['std'], alpha=0.1, color='red')\n",
    "    plt.errorbar(correlation_df_grouped_t1[parameter_of_interest], correlation_df_grouped_t1['t1_random_pair_correlation']['mean'], yerr=correlation_df_grouped_t1['t1_random_pair_correlation']['std'], fmt='o', label=r'$\\rho_{\\Delta}$')\n",
    "    plt.fill_between(correlation_df_grouped_t1[parameter_of_interest], correlation_df_grouped_t1['t1_random_pair_correlation']['mean'] - correlation_df_grouped_t1['t1_random_pair_correlation']['std'], correlation_df_grouped_t1['t1_random_pair_correlation']['mean'] + correlation_df_grouped_t1['t1_random_pair_correlation']['std'], alpha=0.1, color='green')\n",
    "  \n",
    "    \n",
    "    plt.xlabel(rf'{parameter_label}')\n",
    "    plt.ylabel('Correlations')\n",
    "    # plt.ylim(-0.01, 0.01)\n",
    "    plt.ylim(-1*lim, 1*lim)\n",
    "    # plt.yscale('log')\n",
    "    plt.axhline(1e-3, color='black', linestyle='--', label=r'$\\rho_{Baseline}$')\n",
    "    plt.axhline(-1*1e-3, color='black', linestyle='--', label=r'$\\rho_{Baseline}$')\n",
    "    plt.title(rf'Correlations vs {parameter_label}')\n",
    "    plt.legend(loc = 'upper right')\n",
    "    #Save plot\n",
    "    if regulation:\n",
    "        plt.savefig(f'/home/mzo5929/Keerthana/grnInference/plots/param_scan2/correlation_plot_{parameter_of_interest.lower()}.svg', bbox_inches='tight')\n",
    "        plt.savefig(f'/home/mzo5929/Keerthana/grnInference/plots/param_scan2/correlation_plot_{parameter_of_interest.lower()}.png', bbox_inches='tight')\n",
    "        plt.show()\n",
    "    else:\n",
    "        plt.savefig(f'/home/mzo5929/Keerthana/grnInference/plots/param_scan2/correlation_plot_{parameter_of_interest.lower()}_no_regulation.svg', bbox_inches='tight')\n",
    "        plt.savefig(f'/home/mzo5929/Keerthana/grnInference/plots/param_scan2/correlation_plot_{parameter_of_interest.lower()}_no_regulation.png', bbox_inches='tight')\n",
    "        plt.show()\n",
    "\n",
    "    if not regulation:\n",
    "        plt.figure(figsize=(10, 5))\n",
    "        plt.errorbar(correlation_df_grouped_t1[parameter_of_interest], correlation_df_grouped_t1['t1_gene_gene_correlation']['mean'], yerr=correlation_df_grouped_t1['t1_gene_gene_correlation']['std'], fmt='o', label=r'$\\rho$')\n",
    "        plt.fill_between(correlation_df_grouped_t1[parameter_of_interest], correlation_df_grouped_t1['t1_gene_gene_correlation']['mean'] - correlation_df_grouped_t1['t1_gene_gene_correlation']['std'], correlation_df_grouped_t1['t1_gene_gene_correlation']['mean'] + correlation_df_grouped_t1['t1_gene_gene_correlation']['std'], alpha=0.1, color='blue')\n",
    "        plt.errorbar(correlation_df_grouped_t1[parameter_of_interest], correlation_df_grouped_t1['t1_twin_pair_correlation']['mean'], yerr=correlation_df_grouped_t1['t1_twin_pair_correlation']['std'], fmt='o', label=r'$\\bar{\\rho_{\\Delta}}$')\n",
    "        plt.fill_between(correlation_df_grouped_t1[parameter_of_interest], correlation_df_grouped_t1['t1_twin_pair_correlation']['mean'] - correlation_df_grouped_t1['t1_twin_pair_correlation']['std'], correlation_df_grouped_t1['t1_twin_pair_correlation']['mean'] + correlation_df_grouped_t1['t1_twin_pair_correlation']['std'], alpha=0.1, color='red')\n",
    "        plt.errorbar(correlation_df_grouped_t1[parameter_of_interest], correlation_df_grouped_t1['t1_random_pair_correlation']['mean'], yerr=correlation_df_grouped_t1['t1_random_pair_correlation']['std'], fmt='o', label=r'$\\rho_{\\Delta}$')\n",
    "        plt.fill_between(correlation_df_grouped_t1[parameter_of_interest], correlation_df_grouped_t1['t1_random_pair_correlation']['mean'] - correlation_df_grouped_t1['t1_random_pair_correlation']['std'], correlation_df_grouped_t1['t1_random_pair_correlation']['mean'] + correlation_df_grouped_t1['t1_random_pair_correlation']['std'], alpha=0.1, color='green')\n",
    "        plt.xlabel(rf'{parameter_label}')\n",
    "        plt.ylabel('Correlations')\n",
    "        plt.ylim(-0.01, 0.01)\n",
    "        # plt.ylim(-0.2, 0.2)\n",
    "        # plt.yscale('log')\n",
    "        plt.axhline(1e-3, color='black', linestyle='--', label=r'$\\rho_{Baseline}$')\n",
    "        plt.axhline(-1*1e-3, color='black', linestyle='--', label=r'$\\rho_{Baseline}$')\n",
    "        plt.title(rf'Correlations vs {parameter_label}')\n",
    "        plt.legend(loc = 'upper right')\n",
    "        #Save plot\n",
    "        plt.savefig(f'/home/mzo5929/Keerthana/grnInference/plots/param_scan2/correlation_plot_{parameter_of_interest.lower()}_no_regulation_zoomed_in.svg', bbox_inches='tight')\n",
    "        plt.savefig(f'/home/mzo5929/Keerthana/grnInference/plots/param_scan2/correlation_plot_{parameter_of_interest.lower()}_no_regulation_zoomed_in.png', bbox_inches='tight')\n",
    "        plt.show()"
   ]
  },
  {
   "cell_type": "code",
   "execution_count": 7,
   "metadata": {},
   "outputs": [],
   "source": [
    "def process_param_single_population(path_to_folder, parameter_of_interest, output_folder, regulation = True, t1 = 300, t2 = 600, lim = 0.2):\n",
    "    list_of_simulations = find_csv_files(path_to_folder)\n",
    "    correlation_list = Parallel(n_jobs=4)(\n",
    "        delayed(process_simulation_single_population)(sim, path_to_folder, parameter_of_interest, t1, t2) for sim in tqdm(list_of_simulations)\n",
    "    )\n",
    "    # Build final DataFrame\n",
    "    correlation_df = pd.DataFrame(correlation_list)\n",
    "    #Group by k_on and take the mean and standard deviation of each group only for some columns - sigma and sigma_bar\n",
    "    correlation_df['sigma_t1'] = abs(correlation_df['t1_gene_gene_correlation']/correlation_df['t1_random_pair_correlation'])\n",
    "    correlation_df['sigma_bar_t1'] = abs(correlation_df['t1_gene_gene_correlation']/correlation_df['t1_twin_pair_correlation'])\n",
    "    correlation_df['sigma_t2'] = abs(correlation_df['t2_gene_gene_correlation']/correlation_df['t2_random_pair_correlation'])\n",
    "    correlation_df['sigma_bar_t2'] = abs(correlation_df['t2_gene_gene_correlation']/correlation_df['t2_twin_pair_correlation'])\n",
    "\n",
    "    correlation_df_grouped_t1 = correlation_df.groupby(parameter_of_interest).agg({'t1_gene_gene_correlation': ['mean', 'std'], 't1_random_pair_correlation': ['mean', 'std'], 't1_twin_pair_correlation': ['mean', 'std'], 'sigma_t1': ['mean', 'std'], 'sigma_bar_t1': ['mean', 'std']}).reset_index()\n",
    "    correlation_df_grouped_t2 = correlation_df.groupby(parameter_of_interest).agg({'t2_gene_gene_correlation': ['mean', 'std'], 't2_random_pair_correlation': ['mean', 'std'], 't2_twin_pair_correlation': ['mean', 'std'], 'sigma_t2': ['mean', 'std'], 'sigma_bar_t2': ['mean', 'std']}).reset_index()\n",
    "    #Group by k_on and take the mean and standard deviation of each group only for some columns - sigma and sigma_bar\n",
    "    #save the csv\n",
    "    if regulation:\n",
    "        correlation_df.to_csv(f'{output_folder}/correlation_{parameter_of_interest.lower()}.csv', index=False)\n",
    "    else:\n",
    "        correlation_df.to_csv(f'{output_folder}/correlation_{parameter_of_interest.lower()}_no_regulation.csv', index=False)\n",
    "    \n",
    "    #plotting\n",
    "    if regulation:\n",
    "        plot_and_save(parameter_of_interest, correlation_df_grouped_t1, regulation = regulation, lim = lim)\n",
    "    else:\n",
    "        plot_and_save(parameter_of_interest, correlation_df_grouped_t1, regulation = regulation, lim = 0.2)\n",
    "\n"
   ]
  },
  {
   "cell_type": "code",
   "execution_count": 8,
   "metadata": {},
   "outputs": [],
   "source": [
    "def plot_and_save_mixed_population(parameter_of_interest, population_1_parameter_value, correlation_df_grouped_t1, regulation = False, lim_zoomed_in = 0.01):\n",
    "        #split the parameter of interest by \"_\"\n",
    "    parameter_of_interest_split = parameter_of_interest.split(\"_\")\n",
    "    if parameter_of_interest_split[0] == \"k\":\n",
    "        parameter_label = rf'$k_{{{parameter_of_interest_split[1]}}}^{{{parameter_of_interest_split[2]}}}$'\n",
    "    elif parameter_of_interest_split[0] == \"burst\":\n",
    "        parameter_label = rf'$Burst-size_{{{parameter_of_interest_split[-1]}}}$'\n",
    "    elif parameter_of_interest_split[0] == \"mrna\":\n",
    "        parameter_label = rf'$mRNA-halflife_{{{parameter_of_interest_split[-1]}}}$'\n",
    "    else:\n",
    "        parameter_label = rf'${parameter_of_interest}$'\n",
    "\n",
    "    plt.figure(figsize=(10, 5))\n",
    "    plt.errorbar(correlation_df_grouped_t1[parameter_of_interest], correlation_df_grouped_t1['t1_gene_gene_correlation']['mean'], yerr=correlation_df_grouped_t1['t1_gene_gene_correlation']['std'], fmt='o', label=r'$\\rho$')\n",
    "    plt.fill_between(correlation_df_grouped_t1[parameter_of_interest], correlation_df_grouped_t1['t1_gene_gene_correlation']['mean'] - correlation_df_grouped_t1['t1_gene_gene_correlation']['std'], correlation_df_grouped_t1['t1_gene_gene_correlation']['mean'] + correlation_df_grouped_t1['t1_gene_gene_correlation']['std'], alpha=0.1, color='blue')\n",
    "    plt.errorbar(correlation_df_grouped_t1[parameter_of_interest], correlation_df_grouped_t1['t1_twin_pair_correlation']['mean'], yerr=correlation_df_grouped_t1['t1_twin_pair_correlation']['std'], fmt='o', label=r'$\\bar{\\rho_{\\Delta}}$')\n",
    "    plt.fill_between(correlation_df_grouped_t1[parameter_of_interest], correlation_df_grouped_t1['t1_twin_pair_correlation']['mean'] - correlation_df_grouped_t1['t1_twin_pair_correlation']['std'], correlation_df_grouped_t1['t1_twin_pair_correlation']['mean'] + correlation_df_grouped_t1['t1_twin_pair_correlation']['std'], alpha=0.1, color='red')\n",
    "    plt.errorbar(correlation_df_grouped_t1[parameter_of_interest], correlation_df_grouped_t1['t1_random_pair_correlation']['mean'], yerr=correlation_df_grouped_t1['t1_random_pair_correlation']['std'], fmt='o', label=r'$\\rho_{\\Delta}$')\n",
    "    plt.fill_between(correlation_df_grouped_t1[parameter_of_interest], correlation_df_grouped_t1['t1_random_pair_correlation']['mean'] - correlation_df_grouped_t1['t1_random_pair_correlation']['std'], correlation_df_grouped_t1['t1_random_pair_correlation']['mean'] + correlation_df_grouped_t1['t1_random_pair_correlation']['std'], alpha=0.1, color='green')\n",
    "  \n",
    "    \n",
    "    plt.xlabel(rf'{parameter_label} for population 2')\n",
    "    plt.ylabel('Correlations')\n",
    "    # plt.ylim(-0.01, 0.01)\n",
    "    plt.ylim(-0.2, 0.2)\n",
    "    # plt.yscale('log')\n",
    "    plt.axhline(1e-3, color='black', linestyle='--', label=r'$\\rho_{Baseline}$')\n",
    "    plt.axhline(-1*1e-3, color='black', linestyle='--', label=r'$\\rho_{Baseline}$')\n",
    "    plt.title(rf'Correlations vs {parameter_label}, {parameter_label} for population 1 = {population_1_parameter_value}')\n",
    "    plt.legend(loc = 'upper right')\n",
    "    #Save plot\n",
    "    if regulation:\n",
    "        plt.savefig(f'/home/mzo5929/Keerthana/grnInference/plots/param_scan2/correlation_plot_{parameter_of_interest.lower()}_mixed_population.svg', bbox_inches='tight')\n",
    "        plt.savefig(f'/home/mzo5929/Keerthana/grnInference/plots/param_scan2/correlation_plot_{parameter_of_interest.lower()}_mixed_population.png', bbox_inches='tight')\n",
    "        plt.show()\n",
    "    else:\n",
    "        plt.savefig(f'/home/mzo5929/Keerthana/grnInference/plots/param_scan2/correlation_plot_{parameter_of_interest.lower()}_mixed_population.svg', bbox_inches='tight')\n",
    "        plt.savefig(f'/home/mzo5929/Keerthana/grnInference/plots/param_scan2/correlation_plot_{parameter_of_interest.lower()}_mixed_population.png', bbox_inches='tight')\n",
    "        plt.show()\n",
    "\n",
    "    if not regulation:\n",
    "        plt.figure(figsize=(10, 5))\n",
    "        plt.errorbar(correlation_df_grouped_t1[parameter_of_interest], correlation_df_grouped_t1['t1_gene_gene_correlation']['mean'], yerr=correlation_df_grouped_t1['t1_gene_gene_correlation']['std'], fmt='o', label=r'$\\rho$')\n",
    "        plt.fill_between(correlation_df_grouped_t1[parameter_of_interest], correlation_df_grouped_t1['t1_gene_gene_correlation']['mean'] - correlation_df_grouped_t1['t1_gene_gene_correlation']['std'], correlation_df_grouped_t1['t1_gene_gene_correlation']['mean'] + correlation_df_grouped_t1['t1_gene_gene_correlation']['std'], alpha=0.1, color='blue')\n",
    "        plt.errorbar(correlation_df_grouped_t1[parameter_of_interest], correlation_df_grouped_t1['t1_twin_pair_correlation']['mean'], yerr=correlation_df_grouped_t1['t1_twin_pair_correlation']['std'], fmt='o', label=r'$\\bar{\\rho_{\\Delta}}$')\n",
    "        plt.fill_between(correlation_df_grouped_t1[parameter_of_interest], correlation_df_grouped_t1['t1_twin_pair_correlation']['mean'] - correlation_df_grouped_t1['t1_twin_pair_correlation']['std'], correlation_df_grouped_t1['t1_twin_pair_correlation']['mean'] + correlation_df_grouped_t1['t1_twin_pair_correlation']['std'], alpha=0.1, color='red')\n",
    "        plt.errorbar(correlation_df_grouped_t1[parameter_of_interest], correlation_df_grouped_t1['t1_random_pair_correlation']['mean'], yerr=correlation_df_grouped_t1['t1_random_pair_correlation']['std'], fmt='o', label=r'$\\rho_{\\Delta}$')\n",
    "        plt.fill_between(correlation_df_grouped_t1[parameter_of_interest], correlation_df_grouped_t1['t1_random_pair_correlation']['mean'] - correlation_df_grouped_t1['t1_random_pair_correlation']['std'], correlation_df_grouped_t1['t1_random_pair_correlation']['mean'] + correlation_df_grouped_t1['t1_random_pair_correlation']['std'], alpha=0.1, color='green')\n",
    "        plt.xlabel(rf'{parameter_label} for population 2')\n",
    "        plt.ylabel('Correlations')\n",
    "        plt.ylim(-1*lim_zoomed_in,lim_zoomed_in)\n",
    "        # plt.ylim(-0.2, 0.2)\n",
    "        # plt.yscale('log')\n",
    "        plt.axhline(1e-3, color='black', linestyle='--', label=r'$\\rho_{Baseline}$')\n",
    "        plt.axhline(-1*1e-3, color='black', linestyle='--', label=r'$\\rho_{Baseline}$')\n",
    "        plt.title(rf'Correlations vs {parameter_label}, {parameter_label} for population 1 = {population_1_parameter_value}')\n",
    "        plt.legend(loc = 'upper right')\n",
    "        #Save plot\n",
    "        plt.savefig(f'/home/mzo5929/Keerthana/grnInference/plots/param_scan2/correlation_plot_{parameter_of_interest.lower()}_mixed_population_zoomed.svg', bbox_inches='tight')\n",
    "        plt.savefig(f'/home/mzo5929/Keerthana/grnInference/plots/param_scan2/correlation_plot_{parameter_of_interest.lower()}_mixed_population_zoomed.png', bbox_inches='tight')\n",
    "        plt.show()"
   ]
  },
  {
   "cell_type": "code",
   "execution_count": 9,
   "metadata": {},
   "outputs": [],
   "source": [
    "def process_param_mixed_population(path_to_folder, population_1_path, population_1_parameter_value, parameter_of_interest, output_folder, regulation = False, t1 = 300, t2 = 600, lim_zoomed_in = 0.01):\n",
    "    list_of_simulations = find_csv_files(path_to_folder)\n",
    "    sim_population_1 = pd.read_csv(population_1_path)\n",
    "    #Get a list of all simulations in the folder\n",
    "\n",
    "    correlation_list = []\n",
    "    t1 = 300\n",
    "    t2 = 600\n",
    "\n",
    "    # Run in parallel with progress bar\n",
    "    correlation_list = Parallel(n_jobs=4)(\n",
    "        delayed(process_simulation_mixed_population)(sim, sim_population_1, path_to_folder, parameter_of_interest, t1, t2) for sim in tqdm(list_of_simulations)\n",
    "    )\n",
    "    # Build final DataFrame\n",
    "    correlation_df = pd.DataFrame(correlation_list)\n",
    "    #Group by k_on and take the mean and standard deviation of each group only for some columns - sigma and sigma_bar\n",
    "    correlation_df['sigma_t1'] = abs(correlation_df['t1_gene_gene_correlation']/correlation_df['t1_random_pair_correlation'])\n",
    "    correlation_df['sigma_bar_t1'] = abs(correlation_df['t1_gene_gene_correlation']/correlation_df['t1_twin_pair_correlation'])\n",
    "    correlation_df['sigma_t2'] = abs(correlation_df['t2_gene_gene_correlation']/correlation_df['t2_random_pair_correlation'])\n",
    "    correlation_df['sigma_bar_t2'] = abs(correlation_df['t2_gene_gene_correlation']/correlation_df['t2_twin_pair_correlation'])\n",
    "\n",
    "    correlation_df_grouped_t1 = correlation_df.groupby(parameter_of_interest).agg({'t1_gene_gene_correlation': ['mean', 'std'], 't1_random_pair_correlation': ['mean', 'std'], 't1_twin_pair_correlation': ['mean', 'std'], 'sigma_t1': ['mean', 'std'], 'sigma_bar_t1': ['mean', 'std']}).reset_index()\n",
    "    correlation_df_grouped_t2 = correlation_df.groupby(parameter_of_interest).agg({'t2_gene_gene_correlation': ['mean', 'std'], 't2_random_pair_correlation': ['mean', 'std'], 't2_twin_pair_correlation': ['mean', 'std'], 'sigma_t2': ['mean', 'std'], 'sigma_bar_t2': ['mean', 'std']}).reset_index()\n",
    "    #Group by k_on and take the mean and standard deviation of each group only for some columns - sigma and sigma_bar\n",
    "    #save the csv\n",
    "    if regulation:\n",
    "        correlation_df.to_csv(f'{output_folder}/correlation_mixed_population_{parameter_of_interest.lower()}_no_regulation.csv', index=False)\n",
    "    else:\n",
    "        correlation_df.to_csv(f'{output_folder}/correlation_mixed_population_{parameter_of_interest.lower()}_no_regulation.csv', index=False)\n",
    "    \n",
    "    #plotting\n",
    "\n",
    "    plot_and_save_mixed_population(parameter_of_interest, population_1_parameter_value, correlation_df_grouped_t1, regulation = regulation, lim_zoomed_in = lim_zoomed_in)\n",
    "\n"
   ]
  },
  {
   "cell_type": "markdown",
   "metadata": {},
   "source": [
    "## k_on_tf scan\n"
   ]
  },
  {
   "cell_type": "markdown",
   "metadata": {},
   "source": [
    "### For the regulation scenario\n"
   ]
  },
  {
   "cell_type": "code",
   "execution_count": null,
   "metadata": {},
   "outputs": [],
   "source": [
    "#Get a list of all simulations in the folder\n",
    "path_to_folder = \"/home/mzo5929/Keerthana/grnInference/simulationData/simulations_parameter_scan_ec50_equals_median_kOn_added/k_Tf_on/\"\n",
    "list_of_simulations = find_csv_files(path_to_folder)\n",
    "\n",
    "correlation_list = []\n",
    "t1 = 300\n",
    "t2 = 600\n",
    "\n",
    "# Run in parallel with progress bar\n",
    "correlation_list = Parallel(n_jobs=4)(\n",
    "    delayed(process_simulation_single_population)(sim, path_to_folder, \"k_on_TF\", t1, t2) for sim in tqdm(list_of_simulations)\n",
    ")\n",
    "\n",
    "# Build final DataFrame\n",
    "correlation_df_k_on_tf = pd.DataFrame(correlation_list)\n"
   ]
  },
  {
   "cell_type": "code",
   "execution_count": 16,
   "metadata": {},
   "outputs": [],
   "source": [
    "correlation_df_k_on_tf.to_csv('/home/mzo5929/Keerthana/grnInference/analysisData2/correlation_df_k_on_tf.csv')\n",
    "# correlation_df_k_on_tf = pd.read_csv('/home/mzo5929/Keerthana/grnInference/analysisData2/correlation_df_k_on_tf.csv', index_col=0)"
   ]
  },
  {
   "cell_type": "code",
   "execution_count": 12,
   "metadata": {},
   "outputs": [],
   "source": [
    "#Group by k_on and take the mean and standard deviation of each group only for some columns - sigma and sigma_bar\n",
    "correlation_df_k_on_tf['sigma'] = correlation_df_k_on_tf['t1_gene_gene_correlation']/correlation_df_k_on_tf['t1_random_pair_correlation']\n",
    "correlation_df_k_on_tf['sigma_bar'] = correlation_df_k_on_tf['t1_gene_gene_correlation']/correlation_df_k_on_tf['t1_twin_pair_correlation']\n",
    "\n",
    "correlation_df_grouped = correlation_df_k_on_tf.groupby('k_on_TF').agg({'t1_gene_gene_correlation': ['mean', 'std'], 't1_random_pair_correlation': ['mean', 'std'], 't1_twin_pair_correlation': ['mean', 'std'], 'sigma': ['mean', 'std'], 'sigma_bar': ['mean', 'std']}).reset_index()"
   ]
  },
  {
   "cell_type": "code",
   "execution_count": null,
   "metadata": {},
   "outputs": [],
   "source": [
    "#Plot the mean and standard deviation of each group and colour between the 2 standard deviations\n",
    "plt.figure(figsize=(10, 5))\n",
    "plt.errorbar(correlation_df_grouped['k_on_TF'], correlation_df_grouped['t1_gene_gene_correlation']['mean'], yerr=correlation_df_grouped['t1_gene_gene_correlation']['std'], fmt='o', label=r'$\\rho$')\n",
    "plt.fill_between(correlation_df_grouped['k_on_TF'], correlation_df_grouped['t1_gene_gene_correlation']['mean'] - correlation_df_grouped['t1_gene_gene_correlation']['std'], correlation_df_grouped['t1_gene_gene_correlation']['mean'] + correlation_df_grouped['t1_gene_gene_correlation']['std'], alpha=0.1, color='blue')\n",
    "plt.errorbar(correlation_df_grouped['k_on_TF'], correlation_df_grouped['t1_twin_pair_correlation']['mean'], yerr=correlation_df_grouped['t1_twin_pair_correlation']['std'], fmt='o', label=r'$\\bar{\\rho_{\\Delta}}$')\n",
    "plt.fill_between(correlation_df_grouped['k_on_TF'], correlation_df_grouped['t1_twin_pair_correlation']['mean'] - correlation_df_grouped['t1_twin_pair_correlation']['std'], correlation_df_grouped['t1_twin_pair_correlation']['mean'] + correlation_df_grouped['t1_twin_pair_correlation']['std'], alpha=0.1, color='red')\n",
    "plt.errorbar(correlation_df_grouped['k_on_TF'], correlation_df_grouped['t1_random_pair_correlation']['mean'], yerr=correlation_df_grouped['t1_random_pair_correlation']['std'], fmt='o', label=r'$\\rho_{\\Delta}$')\n",
    "plt.fill_between(correlation_df_grouped['k_on_TF'], correlation_df_grouped['t1_random_pair_correlation']['mean'] - correlation_df_grouped['t1_random_pair_correlation']['std'], correlation_df_grouped['t1_random_pair_correlation']['mean'] + correlation_df_grouped['t1_random_pair_correlation']['std'], alpha=0.1, color='green')\n",
    "plt.xlabel(r'$k_{on}^{TF}$')\n",
    "plt.ylabel('Correlations')\n",
    "# plt.yscale('log')\n",
    "plt.ylim(-0.2, 0.2)\n",
    "plt.axhline(1e-3, color='black', linestyle='--', label=r'$\\rho_{Baseline}$')\n",
    "plt.title('Correlations vs $k_{on}^{TF}$')\n",
    "plt.legend()\n",
    "#Save the plot as svg\n",
    "# plt.savefig('/home/mzo5929/Keerthana/grnInference/plots/param_scan2/correlation_plot_k_on_tf_linear_scale.svg', bbox_inches='tight')\n",
    "# plt.savefig('/home/mzo5929/Keerthana/grnInference/plots/param_scan2/correlation_plot_k_on_tf_linear_scale.png', bbox_inches='tight')\n",
    "plt.show()"
   ]
  },
  {
   "cell_type": "markdown",
   "metadata": {},
   "source": [
    "### The non-regulating case\n"
   ]
  },
  {
   "cell_type": "code",
   "execution_count": null,
   "metadata": {},
   "outputs": [],
   "source": [
    "#Get a list of all simulations in the folder\n",
    "path_to_folder = \"/home/mzo5929/Keerthana/grnInference/simulationData/simulations_parameter_scan_no_regulation/k_on_tf/\"\n",
    "list_of_simulations = find_csv_files(path_to_folder)\n",
    "\n",
    "correlation_list = []\n",
    "t1 = 300\n",
    "t2 = 600\n",
    "\n",
    "# Run in parallel with progress bar\n",
    "correlation_list = Parallel(n_jobs=4)(\n",
    "    delayed(process_simulation_single_population)(sim, path_to_folder, \"k_on_TF\", t1, t2) for sim in tqdm(list_of_simulations)\n",
    ")\n",
    "\n",
    "# Build final DataFrame\n",
    "correlation_df_k_on_tf_no_reg = pd.DataFrame(correlation_list)\n"
   ]
  },
  {
   "cell_type": "code",
   "execution_count": 20,
   "metadata": {},
   "outputs": [],
   "source": [
    "correlation_df_k_on_tf_no_reg.to_csv('/home/mzo5929/Keerthana/grnInference/analysisData2/correlation_df_k_on_tf_no_regulation.csv')\n",
    "# correlation_df_k_on_tf_no_reg = pd.read_csv('/home/mzo5929/Keerthana/grnInference/analysisData2/correlation_df_k_on_tf_no_regulation.csv', index_col=0)"
   ]
  },
  {
   "cell_type": "code",
   "execution_count": 22,
   "metadata": {},
   "outputs": [],
   "source": [
    "#Group by k_on and take the mean and standard deviation of each group only for some columns - sigma and sigma_bar\n",
    "correlation_df_k_on_tf_no_reg['sigma'] = correlation_df_k_on_tf_no_reg['t1_gene_gene_correlation']/correlation_df_k_on_tf_no_reg['t1_random_pair_correlation']\n",
    "correlation_df_k_on_tf_no_reg['sigma_bar'] = correlation_df_k_on_tf_no_reg['t1_gene_gene_correlation']/correlation_df_k_on_tf_no_reg['t1_twin_pair_correlation']\n",
    "\n",
    "correlation_df_grouped = correlation_df_k_on_tf_no_reg.groupby('k_on_TF').agg({'t1_gene_gene_correlation': ['mean', 'std'], 't1_random_pair_correlation': ['mean', 'std'], 't1_twin_pair_correlation': ['mean', 'std'], 'sigma': ['mean', 'std'], 'sigma_bar': ['mean', 'std']}).reset_index()"
   ]
  },
  {
   "cell_type": "code",
   "execution_count": null,
   "metadata": {},
   "outputs": [],
   "source": [
    "#Plot the mean and standard deviation of each group and colour between the 2 standard deviations\n",
    "plt.figure(figsize=(10, 5))\n",
    "plt.errorbar(correlation_df_grouped['k_on_TF'], correlation_df_grouped['t1_gene_gene_correlation']['mean'], yerr=correlation_df_grouped['t1_gene_gene_correlation']['std'], fmt='o', label=r'$\\rho$')\n",
    "plt.fill_between(correlation_df_grouped['k_on_TF'], correlation_df_grouped['t1_gene_gene_correlation']['mean'] - correlation_df_grouped['t1_gene_gene_correlation']['std'], correlation_df_grouped['t1_gene_gene_correlation']['mean'] + correlation_df_grouped['t1_gene_gene_correlation']['std'], alpha=0.1, color='blue')\n",
    "plt.errorbar(correlation_df_grouped['k_on_TF'], correlation_df_grouped['t1_twin_pair_correlation']['mean'], yerr=correlation_df_grouped['t1_twin_pair_correlation']['std'], fmt='o', label=r'$\\bar{\\rho_{\\Delta}}$')\n",
    "plt.fill_between(correlation_df_grouped['k_on_TF'], correlation_df_grouped['t1_twin_pair_correlation']['mean'] - correlation_df_grouped['t1_twin_pair_correlation']['std'], correlation_df_grouped['t1_twin_pair_correlation']['mean'] + correlation_df_grouped['t1_twin_pair_correlation']['std'], alpha=0.1, color='red')\n",
    "plt.errorbar(correlation_df_grouped['k_on_TF'], correlation_df_grouped['t1_random_pair_correlation']['mean'], yerr=correlation_df_grouped['t1_random_pair_correlation']['std'], fmt='o', label=r'$\\rho_{\\Delta}$')\n",
    "plt.fill_between(correlation_df_grouped['k_on_TF'], correlation_df_grouped['t1_random_pair_correlation']['mean'] - correlation_df_grouped['t1_random_pair_correlation']['std'], correlation_df_grouped['t1_random_pair_correlation']['mean'] + correlation_df_grouped['t1_random_pair_correlation']['std'], alpha=0.1, color='green')\n",
    "plt.xlabel(r'$k_{on}^{TF}$')\n",
    "plt.ylabel('Correlations')\n",
    "plt.ylim(-0.2, 0.2)\n",
    "# plt.yscale('log')\n",
    "plt.axhline(1e-3, color='black', linestyle='--', label=r'$\\rho_{Baseline}$')\n",
    "plt.axhline(-1*1e-3, color='black', linestyle='--', label=r'$\\rho_{Baseline}$')\n",
    "plt.title('Correlations vs $k_{on}^{TF}$')\n",
    "plt.legend(loc = 'upper right')\n",
    "#Save the plot as svg\n",
    "plt.savefig('/home/mzo5929/Keerthana/grnInference/plots/param_scan2/correlation_plot_k_on_tf_no_regulation.svg', bbox_inches='tight')\n",
    "plt.savefig('/home/mzo5929/Keerthana/grnInference/plots/param_scan2/correlation_plot_k_on_tf_no_regulation.png', bbox_inches='tight')\n",
    "plt.show()"
   ]
  },
  {
   "cell_type": "markdown",
   "metadata": {},
   "source": [
    "### Mix two non-regulating populations and then calculate the same\n"
   ]
  },
  {
   "cell_type": "code",
   "execution_count": null,
   "metadata": {},
   "outputs": [],
   "source": [
    "population_1 = pd.read_csv('/home/mzo5929/Keerthana/grnInference/simulationData/simulations_parameter_scan_no_regulation/k_on_tf/samples_replicates_over_time_with_no_regulation_param_index_0_run_0.csv')\n",
    "param_row_1 = 0\n",
    "\n",
    "#Get a list of all simulations in the folder\n",
    "path_to_folder = \"/home/mzo5929/Keerthana/grnInference/simulationData/simulations_parameter_scan_no_regulation/k_on_tf/\"\n",
    "list_of_simulations = find_csv_files(path_to_folder)\n",
    "\n",
    "correlation_list = []\n",
    "t1 = 300\n",
    "t2 = 600\n",
    "\n",
    "# Run in parallel with progress bar\n",
    "correlation_list = Parallel(n_jobs=4)(\n",
    "    delayed(process_simulation_mixed_population)(sim, population_1, path_to_folder, \"k_on_TF\", t1, t2) for sim in tqdm(list_of_simulations)\n",
    ")\n",
    "\n",
    "# Build final DataFrame\n",
    "correlation_df_k_on_tf_mixed = pd.DataFrame(correlation_list)\n"
   ]
  },
  {
   "cell_type": "code",
   "execution_count": null,
   "metadata": {},
   "outputs": [],
   "source": []
  },
  {
   "cell_type": "code",
   "execution_count": 26,
   "metadata": {},
   "outputs": [],
   "source": [
    "correlation_df_k_on_tf_mixed.to_csv('/home/mzo5929/Keerthana/grnInference/analysisData2/correlation_mixed_population_k_on_Tf_no_regulation.csv', index=False)\n",
    "# correlation_df_k_on_tf_mixed = pd.read_csv('/home/mzo5929/Keerthana/grnInference/analysisData2/correlation_mixed_population_k_on_Tf_no_regulation.csv')"
   ]
  },
  {
   "cell_type": "code",
   "execution_count": null,
   "metadata": {},
   "outputs": [],
   "source": [
    "correlation_df_k_on_tf_mixed"
   ]
  },
  {
   "cell_type": "code",
   "execution_count": 27,
   "metadata": {},
   "outputs": [],
   "source": [
    "#Group by k_on and take the mean and standard deviation of each group only for some columns - sigma and sigma_bar\n",
    "correlation_df_k_on_tf_mixed['sigma_t1'] = correlation_df_k_on_tf_mixed['t1_gene_gene_correlation']/correlation_df_k_on_tf_mixed['t1_random_pair_correlation']\n",
    "correlation_df_k_on_tf_mixed['sigma_bar_t1'] = correlation_df_k_on_tf_mixed['t1_gene_gene_correlation']/correlation_df_k_on_tf_mixed['t1_twin_pair_correlation']\n",
    "correlation_df_k_on_tf_mixed['sigma_t2'] = correlation_df_k_on_tf_mixed['t2_gene_gene_correlation']/correlation_df_k_on_tf_mixed['t2_random_pair_correlation']\n",
    "correlation_df_k_on_tf_mixed['sigma_bar_t2'] = correlation_df_k_on_tf_mixed['t2_gene_gene_correlation']/correlation_df_k_on_tf_mixed['t2_twin_pair_correlation']\n",
    "\n",
    "correlation_df_grouped_t1 = correlation_df_k_on_tf_mixed.groupby('k_on_TF').agg({'t1_gene_gene_correlation': ['mean', 'std'], 't1_random_pair_correlation': ['mean', 'std'], 't1_twin_pair_correlation': ['mean', 'std'], 'sigma_t1': ['mean', 'std'], 'sigma_bar_t1': ['mean', 'std']}).reset_index()\n",
    "correlation_df_grouped_t2 = correlation_df_k_on_tf_mixed.groupby('k_on_TF').agg({'t2_gene_gene_correlation': ['mean', 'std'], 't2_random_pair_correlation': ['mean', 'std'], 't2_twin_pair_correlation': ['mean', 'std'], 'sigma_t2': ['mean', 'std'], 'sigma_bar_t2': ['mean', 'std']}).reset_index()\n"
   ]
  },
  {
   "cell_type": "code",
   "execution_count": null,
   "metadata": {},
   "outputs": [],
   "source": [
    "#Plot the mean and standard deviation of each group and colour between the 2 standard deviations\n",
    "plt.figure(figsize=(10, 5))\n",
    "#two subplots - one for each time point\n",
    "plt.subplot(1, 2, 1)\n",
    "plt.errorbar(correlation_df_grouped_t1['k_on'], correlation_df_grouped_t1['sigma_t1']['mean'], yerr=correlation_df_grouped_t1['sigma_t1']['std'], fmt='o', label='sigma')\n",
    "plt.fill_between(correlation_df_grouped_t1['k_on'], correlation_df_grouped_t1['sigma_t1']['mean'] - correlation_df_grouped_t1['sigma_t1']['std'], correlation_df_grouped_t1['sigma_t1']['mean'] + correlation_df_grouped_t1['sigma_t1']['std'], alpha=0.1, color='blue')\n",
    "plt.errorbar(correlation_df_grouped_t1['k_on'], correlation_df_grouped_t1['sigma_bar_t1']['mean'], yerr=correlation_df_grouped_t1['sigma_bar_t1']['std'], fmt='o', label='sigma_bar')\n",
    "plt.fill_between(correlation_df_grouped_t1['k_on'], correlation_df_grouped_t1['sigma_bar_t1']['mean'] - correlation_df_grouped_t1['sigma_bar_t1']['std'], correlation_df_grouped_t1['sigma_bar_t1']['mean'] + correlation_df_grouped_t1['sigma_bar_t1']['std'], alpha=0.1, color='green')\n",
    "plt.xlabel('k_on')\n",
    "plt.ylabel('Ratio of correlations')\n",
    "plt.axhline(y=1, color='r', linestyle='--')\n",
    "plt.title(f'Ratio of correlations vs k_on at {t1/60}h')\n",
    "# plt.yscale('log')\n",
    "plt.legend()\n",
    "plt.subplot(1, 2, 2)\n",
    "plt.errorbar(correlation_df_grouped_t2['k_on'], correlation_df_grouped_t2['sigma_t2']['mean'], yerr=correlation_df_grouped_t2['sigma_t2']['std'], fmt='o', label='sigma')\n",
    "plt.fill_between(correlation_df_grouped_t2['k_on'], correlation_df_grouped_t2['sigma_t2']['mean'] - correlation_df_grouped_t2['sigma_t2']['std'], correlation_df_grouped_t2['sigma_t2']['mean'] + correlation_df_grouped_t2['sigma_t2']['std'], alpha=0.1, color='blue')\n",
    "plt.errorbar(correlation_df_grouped_t2['k_on'], correlation_df_grouped_t2['sigma_bar_t2']['mean'], yerr=correlation_df_grouped_t2['sigma_bar_t2']['std'], fmt='o', label='sigma_bar')\n",
    "plt.fill_between(correlation_df_grouped_t2['k_on'], correlation_df_grouped_t2['sigma_bar_t2']['mean'] - correlation_df_grouped_t2['sigma_bar_t2']['std'], correlation_df_grouped_t2['sigma_bar_t2']['mean'] + correlation_df_grouped_t2['sigma_bar_t2']['std'], alpha=0.1, color='green')\n",
    "plt.xlabel('k_on')\n",
    "plt.ylabel('Ratio of correlations')\n",
    "plt.axhline(y=1, color='r', linestyle='--')\n",
    "plt.title(f'Ratio of correlations vs k_on at {t2/60}h')\n",
    "# plt.yscale('log')\n",
    "plt.show()"
   ]
  },
  {
   "cell_type": "code",
   "execution_count": null,
   "metadata": {},
   "outputs": [],
   "source": [
    "#Plot the mean and standard deviation of each group and colour between the 2 standard deviations\n",
    "plt.figure(figsize=(10, 5))\n",
    "plt.errorbar(correlation_df_grouped_t1['k_on_TF'], correlation_df_grouped_t1['t1_gene_gene_correlation']['mean'], yerr=correlation_df_grouped_t1['t1_gene_gene_correlation']['std'], fmt='o', label=r'$\\rho$')\n",
    "plt.fill_between(correlation_df_grouped_t1['k_on_TF'], correlation_df_grouped_t1['t1_gene_gene_correlation']['mean'] - correlation_df_grouped_t1['t1_gene_gene_correlation']['std'], correlation_df_grouped['t1_gene_gene_correlation']['mean'] + correlation_df_grouped_t1['t1_gene_gene_correlation']['std'], alpha=0.1, color='blue')\n",
    "plt.errorbar(correlation_df_grouped_t1['k_on_TF'], correlation_df_grouped_t1['t1_twin_pair_correlation']['mean'], yerr=correlation_df_grouped_t1['t1_twin_pair_correlation']['std'], fmt='o', label=r'$\\bar{\\rho_{\\Delta}}$')\n",
    "plt.fill_between(correlation_df_grouped_t1['k_on_TF'], correlation_df_grouped_t1['t1_twin_pair_correlation']['mean'] - correlation_df_grouped_t1['t1_twin_pair_correlation']['std'], correlation_df_grouped_t1['t1_twin_pair_correlation']['mean'] + correlation_df_grouped_t1['t1_twin_pair_correlation']['std'], alpha=0.1, color='green')\n",
    "plt.errorbar(correlation_df_grouped_t1['k_on_TF'], correlation_df_grouped_t1['t1_random_pair_correlation']['mean'], yerr=correlation_df_grouped_t1['t1_random_pair_correlation']['std'], fmt='o', label=r'$\\rho_{\\Delta}$')\n",
    "plt.fill_between(correlation_df_grouped_t1['k_on_TF'], correlation_df_grouped_t1['t1_random_pair_correlation']['mean'] - correlation_df_grouped_t1['t1_random_pair_correlation']['std'], correlation_df_grouped_t1['t1_random_pair_correlation']['mean'] + correlation_df_grouped_t1['t1_random_pair_correlation']['std'], alpha=0.1, color='red')\n",
    "plt.xlabel(r'$k_{on}^{TF}$ for population 2')\n",
    "plt.ylabel('Correlations')\n",
    "plt.ylim(-1*1e-2, 1e-2)\n",
    "# plt.yscale('log')\n",
    "plt.axhline(1e-3, color='black', linestyle='--', label=r'$\\rho_{Baseline}$')\n",
    "plt.axhline(-1*1e-3, color='black', linestyle='--', label=r'$\\rho_{Baseline}$')\n",
    "plt.title('Correlations vs $k_{on}^{TF}, k_{on}^{TF}$ for population 1 = 0.125')\n",
    "plt.legend(loc = 'upper right')\n",
    "#Save plot\n",
    "plt.savefig('/home/mzo5929/Keerthana/grnInference/plots/param_scan2/correlation_plot_k_on_tf_mixed_population_zoomed_in.svg', bbox_inches='tight')\n",
    "plt.savefig('/home/mzo5929/Keerthana/grnInference/plots/param_scan2/correlation_plot_k_on_tf_mixed_population_zoomed_in.png', bbox_inches='tight')\n",
    "plt.show()"
   ]
  },
  {
   "cell_type": "markdown",
   "metadata": {},
   "source": [
    "## k_on_target scan\n"
   ]
  },
  {
   "cell_type": "markdown",
   "metadata": {},
   "source": [
    "### The regulating case\n"
   ]
  },
  {
   "cell_type": "code",
   "execution_count": null,
   "metadata": {},
   "outputs": [],
   "source": [
    "#Get a list of all simulations in the folder\n",
    "path_to_folder = \"/home/mzo5929/Keerthana/grnInference/simulationData/simulations_parameter_scan/k_on_target/\"\n",
    "list_of_simulations = find_csv_files(path_to_folder)\n",
    "\n",
    "correlation_list = []\n",
    "t1 = 300\n",
    "t2 = 600\n",
    "\n",
    "# Run in parallel with progress bar\n",
    "correlation_list = Parallel(n_jobs=4)(\n",
    "    delayed(process_simulation_single_population)(sim, path_to_folder, \"k_on_Target\", t1, t2) for sim in tqdm(list_of_simulations)\n",
    ")\n",
    "\n",
    "# Build final DataFrame\n",
    "correlation_df_k_on_target = pd.DataFrame(correlation_list)\n"
   ]
  },
  {
   "cell_type": "code",
   "execution_count": 31,
   "metadata": {},
   "outputs": [],
   "source": [
    "correlation_df_k_on_target.to_csv('/home/mzo5929/Keerthana/grnInference/analysisData2/correlation_k_on_target.csv', index=False)\n",
    "# correlation_df_k_on_target = pd.read_csv('/home/mzo5929/Keerthana/grnInference/analysisData2/correlation_k_on_target.csv')"
   ]
  },
  {
   "cell_type": "code",
   "execution_count": 30,
   "metadata": {},
   "outputs": [],
   "source": [
    "#Group by k_on and take the mean and standard deviation of each group only for some columns - sigma and sigma_bar\n",
    "correlation_df_k_on_target['sigma'] = correlation_df_k_on_target['t1_gene_gene_correlation']/correlation_df_k_on_target['t1_random_pair_correlation']\n",
    "correlation_df_k_on_target['sigma_bar'] = correlation_df_k_on_target['t1_gene_gene_correlation']/correlation_df_k_on_target['t1_twin_pair_correlation']\n",
    "\n",
    "correlation_df_grouped = correlation_df_k_on_target.groupby('k_on_Target').agg({'t1_gene_gene_correlation': ['mean', 'std'], 't1_random_pair_correlation': ['mean', 'std'], 't1_twin_pair_correlation': ['mean', 'std'], 'sigma': ['mean', 'std'], 'sigma_bar': ['mean', 'std']}).reset_index()"
   ]
  },
  {
   "cell_type": "code",
   "execution_count": null,
   "metadata": {},
   "outputs": [],
   "source": [
    "#Plot the mean and standard deviation of each group and colour between the 2 standard deviations\n",
    "plt.figure(figsize=(10, 5))\n",
    "plt.errorbar(correlation_df_grouped['k_on_Target'], correlation_df_grouped['t1_gene_gene_correlation']['mean'], yerr=correlation_df_grouped['t1_gene_gene_correlation']['std'], fmt='o', label=r'$\\rho$')\n",
    "plt.fill_between(correlation_df_grouped['k_on_Target'], correlation_df_grouped['t1_gene_gene_correlation']['mean'] - correlation_df_grouped['t1_gene_gene_correlation']['std'], correlation_df_grouped['t1_gene_gene_correlation']['mean'] + correlation_df_grouped['t1_gene_gene_correlation']['std'], alpha=0.1, color='blue')\n",
    "plt.errorbar(correlation_df_grouped['k_on_Target'], correlation_df_grouped['t1_twin_pair_correlation']['mean'], yerr=correlation_df_grouped['t1_twin_pair_correlation']['std'], fmt='o', label=r'$\\bar{\\rho_{\\Delta}}$')\n",
    "plt.fill_between(correlation_df_grouped['k_on_Target'], correlation_df_grouped['t1_twin_pair_correlation']['mean'] - correlation_df_grouped['t1_twin_pair_correlation']['std'], correlation_df_grouped['t1_twin_pair_correlation']['mean'] + correlation_df_grouped['t1_twin_pair_correlation']['std'], alpha=0.1, color='red')\n",
    "plt.errorbar(correlation_df_grouped['k_on_Target'], correlation_df_grouped['t1_random_pair_correlation']['mean'], yerr=correlation_df_grouped['t1_random_pair_correlation']['std'], fmt='o', label=r'$\\rho_{\\Delta}$')\n",
    "plt.fill_between(correlation_df_grouped['k_on_Target'], correlation_df_grouped['t1_random_pair_correlation']['mean'] - correlation_df_grouped['t1_random_pair_correlation']['std'], correlation_df_grouped['t1_random_pair_correlation']['mean'] + correlation_df_grouped['t1_random_pair_correlation']['std'], alpha=0.1, color='green')\n",
    "plt.xlabel(r'$k_{on}^{Target}$')\n",
    "plt.ylabel('Correlations')\n",
    "plt.ylim(-0.2, 0.2)\n",
    "# plt.yscale('log')\n",
    "plt.axhline(1e-3, color='black', linestyle='--', label=r'$\\rho_{Baseline}$')\n",
    "plt.title('Correlations vs $k_{on}^{Target}$')\n",
    "plt.legend(loc = 'upper right')\n",
    "#Save the plot as svg\n",
    "plt.savefig('/home/mzo5929/Keerthana/grnInference/plots/param_scan2/correlation_plot_k_on_target_linear_scale.svg', bbox_inches='tight')\n",
    "plt.savefig('/home/mzo5929/Keerthana/grnInference/plots/param_scan2/correlation_plot_k_on_target_linear_scale.png', bbox_inches='tight')\n",
    "plt.show()"
   ]
  },
  {
   "cell_type": "markdown",
   "metadata": {},
   "source": [
    "### non-regulating case\n"
   ]
  },
  {
   "cell_type": "code",
   "execution_count": null,
   "metadata": {},
   "outputs": [],
   "source": [
    "#Get a list of all simulations in the folder\n",
    "path_to_folder = \"/home/mzo5929/Keerthana/grnInference/simulationData/simulations_parameter_scan_no_regulation/k_on_target/\"\n",
    "list_of_simulations = find_csv_files(path_to_folder)\n",
    "\n",
    "correlation_list = []\n",
    "t1 = 300\n",
    "t2 = 600\n",
    "\n",
    "# Run in parallel with progress bar\n",
    "correlation_list = Parallel(n_jobs=4)(\n",
    "    delayed(process_simulation_single_population)(sim, path_to_folder, \"k_on_Target\", t1, t2) for sim in tqdm(list_of_simulations)\n",
    ")\n",
    "\n",
    "# Build final DataFrame\n",
    "correlation_df_k_on_target_no_reg = pd.DataFrame(correlation_list)\n"
   ]
  },
  {
   "cell_type": "code",
   "execution_count": 34,
   "metadata": {},
   "outputs": [],
   "source": [
    "correlation_df_k_on_target_no_reg.to_csv('/home/mzo5929/Keerthana/grnInference/analysisData2/correlation_k_on_target_no_regulation.csv', index=False)\n",
    "correlation_df_k_on_target_no_reg = pd.read_csv('/home/mzo5929/Keerthana/grnInference/analysisData2/correlation_k_on_target_no_regulation.csv')"
   ]
  },
  {
   "cell_type": "code",
   "execution_count": 35,
   "metadata": {},
   "outputs": [],
   "source": [
    "#Group by k_on and take the mean and standard deviation of each group only for some columns - sigma and sigma_bar\n",
    "correlation_df_k_on_target_no_reg['sigma'] = correlation_df_k_on_target_no_reg['t1_gene_gene_correlation']/correlation_df_k_on_target_no_reg['t1_random_pair_correlation']\n",
    "correlation_df_k_on_target_no_reg['sigma_bar'] = correlation_df_k_on_target_no_reg['t1_gene_gene_correlation']/correlation_df_k_on_target_no_reg['t1_twin_pair_correlation']\n",
    "\n",
    "correlation_df_grouped = correlation_df_k_on_target_no_reg.groupby('k_on_Target').agg({'t1_gene_gene_correlation': ['mean', 'std'], 't1_random_pair_correlation': ['mean', 'std'], 't1_twin_pair_correlation': ['mean', 'std'], 'sigma': ['mean', 'std'], 'sigma_bar': ['mean', 'std']}).reset_index()"
   ]
  },
  {
   "cell_type": "code",
   "execution_count": null,
   "metadata": {},
   "outputs": [],
   "source": [
    "#Plot the mean and standard deviation of each group and colour between the 2 standard deviations\n",
    "plt.figure(figsize=(10, 5))\n",
    "plt.errorbar(correlation_df_grouped['k_on_Target'], correlation_df_grouped['t1_gene_gene_correlation']['mean'], yerr=correlation_df_grouped['t1_gene_gene_correlation']['std'], fmt='o', label=r'$\\rho$')\n",
    "plt.fill_between(correlation_df_grouped['k_on_Target'], correlation_df_grouped['t1_gene_gene_correlation']['mean'] - correlation_df_grouped['t1_gene_gene_correlation']['std'], correlation_df_grouped['t1_gene_gene_correlation']['mean'] + correlation_df_grouped['t1_gene_gene_correlation']['std'], alpha=0.1, color='blue')\n",
    "plt.errorbar(correlation_df_grouped['k_on_Target'], correlation_df_grouped['t1_twin_pair_correlation']['mean'], yerr=correlation_df_grouped['t1_twin_pair_correlation']['std'], fmt='o', label=r'$\\bar{\\rho_{\\Delta}}$')\n",
    "plt.fill_between(correlation_df_grouped['k_on_Target'], correlation_df_grouped['t1_twin_pair_correlation']['mean'] - correlation_df_grouped['t1_twin_pair_correlation']['std'], correlation_df_grouped['t1_twin_pair_correlation']['mean'] + correlation_df_grouped['t1_twin_pair_correlation']['std'], alpha=0.1, color='green')\n",
    "plt.errorbar(correlation_df_grouped['k_on_Target'], correlation_df_grouped['t1_random_pair_correlation']['mean'], yerr=correlation_df_grouped['t1_random_pair_correlation']['std'], fmt='o', label=r'$\\rho_{\\Delta}$')\n",
    "plt.fill_between(correlation_df_grouped['k_on_Target'], correlation_df_grouped['t1_random_pair_correlation']['mean'] - correlation_df_grouped['t1_random_pair_correlation']['std'], correlation_df_grouped['t1_random_pair_correlation']['mean'] + correlation_df_grouped['t1_random_pair_correlation']['std'], alpha=0.1, color='red')\n",
    "plt.xlabel(r'$k_{on}^{Target}$')\n",
    "plt.ylabel('Correlations')\n",
    "plt.ylim(-0.01, 0.01)\n",
    "# plt.yscale('log')\n",
    "plt.axhline(1e-3, color='black', linestyle='--', label=r'$\\rho_{Baseline}$')\n",
    "plt.axhline(-1*1e-3, color='black', linestyle='--', label=r'$\\rho_{Baseline}$')\n",
    "plt.title('Correlations vs $k_{on}^{Target}$')\n",
    "plt.legend(loc = 'upper right')\n",
    "#Save the plot as svg\n",
    "plt.savefig('/home/mzo5929/Keerthana/grnInference/plots/param_scan2/correlation_plot_k_on_target_no_regulation_linear_scale_zoomed_in.svg', bbox_inches='tight')\n",
    "plt.savefig('/home/mzo5929/Keerthana/grnInference/plots/param_scan2/correlation_plot_k_on_target_no_regulation_linear_scale_zoomed_in.png', bbox_inches='tight')\n",
    "plt.show()"
   ]
  },
  {
   "cell_type": "markdown",
   "metadata": {},
   "source": [
    "### Mix the two non-regulating populations and then check for correlations\n"
   ]
  },
  {
   "cell_type": "code",
   "execution_count": null,
   "metadata": {},
   "outputs": [],
   "source": [
    "population_1 = pd.read_csv('/home/mzo5929/Keerthana/grnInference/simulationData/simulations_parameter_scan_no_regulation/k_on_target/samples_replicates_over_time_with_no_regulation_param_index_30_run_0.csv')\n",
    "param_row_1 = 0\n",
    "\n",
    "#Get a list of all simulations in the folder\n",
    "path_to_folder = \"/home/mzo5929/Keerthana/grnInference/simulationData/simulations_parameter_scan_no_regulation/k_on_target/\"\n",
    "list_of_simulations = find_csv_files(path_to_folder)\n",
    "\n",
    "correlation_list = []\n",
    "t1 = 300\n",
    "t2 = 600\n",
    "\n",
    "# Run in parallel with progress bar\n",
    "correlation_list = Parallel(n_jobs=4)(\n",
    "    delayed(process_simulation_mixed_population)(sim, population_1, path_to_folder, \"k_on_Target\", t1, t2) for sim in tqdm(list_of_simulations)\n",
    ")\n",
    "\n",
    "# Build final DataFrame\n",
    "correlation_df_k_on_target_no_reg_mixed = pd.DataFrame(correlation_list)\n"
   ]
  },
  {
   "cell_type": "code",
   "execution_count": 38,
   "metadata": {},
   "outputs": [],
   "source": [
    "correlation_df_k_on_target_no_reg_mixed.to_csv('/home/mzo5929/Keerthana/grnInference/analysisData2/correlation_mixed_population_k_on_target_no_regulation.csv', index=False)\n",
    "correlation_df_k_on_target_no_reg_mixed = pd.read_csv('/home/mzo5929/Keerthana/grnInference/analysisData2/correlation_mixed_population_k_on_target_no_regulation.csv')"
   ]
  },
  {
   "cell_type": "code",
   "execution_count": 39,
   "metadata": {},
   "outputs": [],
   "source": [
    "#Group by k_on and take the mean and standard deviation of each group only for some columns - sigma and sigma_bar\n",
    "correlation_df_k_on_target_no_reg_mixed['sigma_t1'] = abs(correlation_df_k_on_target_no_reg_mixed['t1_gene_gene_correlation']/correlation_df_k_on_target_no_reg_mixed['t1_random_pair_correlation'])\n",
    "correlation_df_k_on_target_no_reg_mixed['sigma_bar_t1'] = abs(correlation_df_k_on_target_no_reg_mixed['t1_gene_gene_correlation']/correlation_df_k_on_target_no_reg_mixed['t1_twin_pair_correlation'])\n",
    "correlation_df_k_on_target_no_reg_mixed['sigma_t2'] = abs(correlation_df_k_on_target_no_reg_mixed['t2_gene_gene_correlation']/correlation_df_k_on_target_no_reg_mixed['t2_random_pair_correlation'])\n",
    "correlation_df_k_on_target_no_reg_mixed['sigma_bar_t2'] = abs(correlation_df_k_on_target_no_reg_mixed['t2_gene_gene_correlation']/correlation_df_k_on_target_no_reg_mixed['t2_twin_pair_correlation'])\n",
    "\n",
    "correlation_df_grouped_t1 = correlation_df_k_on_target_no_reg_mixed.groupby('k_on_Target').agg({'t1_gene_gene_correlation': ['mean', 'std'], 't1_random_pair_correlation': ['mean', 'std'], 't1_twin_pair_correlation': ['mean', 'std'], 'sigma_t1': ['mean', 'std'], 'sigma_bar_t1': ['mean', 'std']}).reset_index()\n",
    "correlation_df_grouped_t2 = correlation_df_k_on_target_no_reg_mixed.groupby('k_on_Target').agg({'t2_gene_gene_correlation': ['mean', 'std'], 't2_random_pair_correlation': ['mean', 'std'], 't2_twin_pair_correlation': ['mean', 'std'], 'sigma_t2': ['mean', 'std'], 'sigma_bar_t2': ['mean', 'std']}).reset_index()\n"
   ]
  },
  {
   "cell_type": "code",
   "execution_count": null,
   "metadata": {},
   "outputs": [],
   "source": [
    "#Plot the mean and standard deviation of each group and colour between the 2 standard deviations\n",
    "plt.figure(figsize=(10, 5))\n",
    "plt.errorbar(correlation_df_grouped_t1['k_on_Target'], correlation_df_grouped_t1['t1_gene_gene_correlation']['mean'], yerr=correlation_df_grouped_t1['t1_gene_gene_correlation']['std'], fmt='o', label=r'$\\rho$')\n",
    "plt.fill_between(correlation_df_grouped_t1['k_on_Target'], correlation_df_grouped_t1['t1_gene_gene_correlation']['mean'] - correlation_df_grouped_t1['t1_gene_gene_correlation']['std'], correlation_df_grouped['t1_gene_gene_correlation']['mean'] + correlation_df_grouped_t1['t1_gene_gene_correlation']['std'], alpha=0.1, color='blue')\n",
    "plt.errorbar(correlation_df_grouped_t1['k_on_Target'], correlation_df_grouped_t1['t1_twin_pair_correlation']['mean'], yerr=correlation_df_grouped_t1['t1_twin_pair_correlation']['std'], fmt='o', label=r'$\\bar{\\rho_{\\Delta}}$')\n",
    "plt.fill_between(correlation_df_grouped_t1['k_on_Target'], correlation_df_grouped_t1['t1_twin_pair_correlation']['mean'] - correlation_df_grouped_t1['t1_twin_pair_correlation']['std'], correlation_df_grouped_t1['t1_twin_pair_correlation']['mean'] + correlation_df_grouped_t1['t1_twin_pair_correlation']['std'], alpha=0.1, color='red')\n",
    "plt.errorbar(correlation_df_grouped_t1['k_on_Target'], correlation_df_grouped_t1['t1_random_pair_correlation']['mean'], yerr=correlation_df_grouped_t1['t1_random_pair_correlation']['std'], fmt='o', label=r'$\\rho_{\\Delta}$')\n",
    "plt.fill_between(correlation_df_grouped_t1['k_on_Target'], correlation_df_grouped_t1['t1_random_pair_correlation']['mean'] - correlation_df_grouped_t1['t1_random_pair_correlation']['std'], correlation_df_grouped_t1['t1_random_pair_correlation']['mean'] + correlation_df_grouped_t1['t1_random_pair_correlation']['std'], alpha=0.1, color='green')\n",
    "plt.xlabel(r'$k_{on}^{Target}$ for population 2')\n",
    "plt.ylabel('Correlations')\n",
    "plt.ylim(-0.2, 0.2)\n",
    "# plt.yscale('log')\n",
    "plt.axhline(1e-3, color='black', linestyle='--', label=r'$\\rho_{Baseline}$')\n",
    "plt.axhline(-1*1e-3, color='black', linestyle='--', label=r'$\\rho_{Baseline}$')\n",
    "plt.title('Correlations vs $k_{on}^{Target}, k_{on}^{Target}$ for population 1 = 0.125')\n",
    "plt.legend(loc = 'upper right')\n",
    "#Save plot\n",
    "plt.savefig('/home/mzo5929/Keerthana/grnInference/plots/param_scan2/correlation_plot_k_on_target_mixed_population.svg', bbox_inches='tight')\n",
    "plt.savefig('/home/mzo5929/Keerthana/grnInference/plots/param_scan2/correlation_plot_k_on_target_mixed_population.png', bbox_inches='tight')\n",
    "plt.show()"
   ]
  },
  {
   "cell_type": "markdown",
   "metadata": {},
   "source": [
    "## Changing both k_on_TF and k_on_target\n"
   ]
  },
  {
   "cell_type": "code",
   "execution_count": null,
   "metadata": {},
   "outputs": [],
   "source": [
    "population_1 = pd.read_csv('/home/mzo5929/Keerthana/grnInference/simulationData/simulations_reruns/median_params_no_regulation/samples_replicates_over_time_with_regulation_upper_quartile_0.csv')\n",
    "param_row_1 = 0\n",
    "\n",
    "path_to_folder = \"/home/mzo5929/Keerthana/grnInference/simulationData/simulations_parameter_scan_no_regulation/k_on_target/\"\n",
    "list_of_simulations = find_csv_files(path_to_folder)\n",
    "\n",
    "correlation_list = []\n",
    "t1 = 300\n",
    "t2 = 600\n",
    "\n",
    "\n",
    "# Run in parallel with progress bar\n",
    "correlation_list = Parallel(n_jobs=4)(\n",
    "    delayed(process_simulation_mixed_population)(sim, population_1, path_to_folder, \"k_on_Target\", t1, t2) for sim in tqdm(list_of_simulations)\n",
    ")\n",
    "\n",
    "# Build final DataFrame\n",
    "correlation_df_twice_mixed_scan_k_on_target = pd.DataFrame(correlation_list)"
   ]
  },
  {
   "cell_type": "code",
   "execution_count": 42,
   "metadata": {},
   "outputs": [],
   "source": [
    "correlation_df_twice_mixed_scan_k_on_target.to_csv('/home/mzo5929/Keerthana/grnInference/analysisData2/correlation_mixed_population_k_on_target_no_regulation_with_upper_quartile_burst_param.csv', index=False)\n",
    "correlation_df_twice_mixed_scan_k_on_target = pd.read_csv('/home/mzo5929/Keerthana/grnInference/analysisData2/correlation_mixed_population_k_on_target_no_regulation_with_upper_quartile_burst_param.csv')"
   ]
  },
  {
   "cell_type": "code",
   "execution_count": 43,
   "metadata": {},
   "outputs": [],
   "source": [
    "#Group by k_on and take the mean and standard deviation of each group only for some columns - sigma and sigma_bar\n",
    "correlation_df_twice_mixed_scan_k_on_target['sigma_t1'] = abs(correlation_df_twice_mixed_scan_k_on_target['t1_gene_gene_correlation']/correlation_df_twice_mixed_scan_k_on_target['t1_random_pair_correlation'])\n",
    "correlation_df_twice_mixed_scan_k_on_target['sigma_bar_t1'] = abs(correlation_df_twice_mixed_scan_k_on_target['t1_gene_gene_correlation']/correlation_df_twice_mixed_scan_k_on_target['t1_twin_pair_correlation'])\n",
    "correlation_df_twice_mixed_scan_k_on_target['sigma_t2'] = abs(correlation_df_twice_mixed_scan_k_on_target['t2_gene_gene_correlation']/correlation_df_twice_mixed_scan_k_on_target['t2_random_pair_correlation'])\n",
    "correlation_df_twice_mixed_scan_k_on_target['sigma_bar_t2'] = abs(correlation_df_twice_mixed_scan_k_on_target['t2_gene_gene_correlation']/correlation_df_twice_mixed_scan_k_on_target['t2_twin_pair_correlation'])\n",
    "\n",
    "correlation_df_grouped_t1 = correlation_df_twice_mixed_scan_k_on_target.groupby('k_on_Target').agg({'t1_gene_gene_correlation': ['mean', 'std'], 't1_random_pair_correlation': ['mean', 'std'], 't1_twin_pair_correlation': ['mean', 'std'], 'sigma_t1': ['mean', 'std'], 'sigma_bar_t1': ['mean', 'std']}).reset_index()\n",
    "correlation_df_grouped_t2 = correlation_df_twice_mixed_scan_k_on_target.groupby('k_on_Target').agg({'t2_gene_gene_correlation': ['mean', 'std'], 't2_random_pair_correlation': ['mean', 'std'], 't2_twin_pair_correlation': ['mean', 'std'], 'sigma_t2': ['mean', 'std'], 'sigma_bar_t2': ['mean', 'std']}).reset_index()\n"
   ]
  },
  {
   "cell_type": "code",
   "execution_count": null,
   "metadata": {},
   "outputs": [],
   "source": [
    "correlation_df_grouped_t1"
   ]
  },
  {
   "cell_type": "code",
   "execution_count": null,
   "metadata": {},
   "outputs": [],
   "source": [
    "correlation_df_grouped_t1['t1_gene_gene_correlation']['mean'] + correlation_df_grouped_t1['t1_gene_gene_correlation']['std']"
   ]
  },
  {
   "cell_type": "code",
   "execution_count": null,
   "metadata": {},
   "outputs": [],
   "source": [
    "#Plot the mean and standard deviation of each group and colour between the 2 standard deviations\n",
    "plt.figure(figsize=(10, 5))\n",
    "plt.errorbar(correlation_df_grouped_t1['k_on_Target'], correlation_df_grouped_t1['t1_gene_gene_correlation']['mean'], yerr=correlation_df_grouped_t1['t1_gene_gene_correlation']['std'], fmt='o', label=r'$\\rho$')\n",
    "plt.fill_between(correlation_df_grouped_t1['k_on_Target'], correlation_df_grouped_t1['t1_gene_gene_correlation']['mean'] - correlation_df_grouped_t1['t1_gene_gene_correlation']['std'], correlation_df_grouped_t1['t1_gene_gene_correlation']['mean'] + correlation_df_grouped_t1['t1_gene_gene_correlation']['std'], alpha=0.1, color='blue')\n",
    "plt.errorbar(correlation_df_grouped_t1['k_on_Target'], correlation_df_grouped_t1['t1_twin_pair_correlation']['mean'], yerr=correlation_df_grouped_t1['t1_twin_pair_correlation']['std'], fmt='o', label=r'$\\bar{\\rho_{\\Delta}}$')\n",
    "plt.fill_between(correlation_df_grouped_t1['k_on_Target'], correlation_df_grouped_t1['t1_twin_pair_correlation']['mean'] - correlation_df_grouped_t1['t1_twin_pair_correlation']['std'], correlation_df_grouped_t1['t1_twin_pair_correlation']['mean'] + correlation_df_grouped_t1['t1_twin_pair_correlation']['std'], alpha=0.1, color='red')\n",
    "plt.errorbar(correlation_df_grouped_t1['k_on_Target'], correlation_df_grouped_t1['t1_random_pair_correlation']['mean'], yerr=correlation_df_grouped_t1['t1_random_pair_correlation']['std'], fmt='o', label=r'$\\rho_{\\Delta}$')\n",
    "plt.fill_between(correlation_df_grouped_t1['k_on_Target'], correlation_df_grouped_t1['t1_random_pair_correlation']['mean'] - correlation_df_grouped_t1['t1_random_pair_correlation']['std'], correlation_df_grouped_t1['t1_random_pair_correlation']['mean'] + correlation_df_grouped_t1['t1_random_pair_correlation']['std'], alpha=0.1, color='green')\n",
    "plt.xlabel(r'$k_{on}^{Target}$ for population 2')\n",
    "plt.ylabel('Correlations')\n",
    "plt.ylim(-0.25, 0.25)\n",
    "# plt.yscale('log')\n",
    "plt.axhline(1e-3, color='black', linestyle='--', label=r'$\\rho_{Baseline}$')\n",
    "plt.axhline(-1*1e-3, color='black', linestyle='--', label=r'$\\rho_{Baseline}$')\n",
    "plt.title('Correlations vs $k_{on}^{Target}$ for population 2')\n",
    "plt.legend(loc = 'upper right')\n",
    "#Save plot\n",
    "plt.savefig('/home/mzo5929/Keerthana/grnInference/plots/param_scan2/correlation_plot_k_on_target_mixed_population_median_and_upper_quartile.svg', bbox_inches='tight')\n",
    "plt.savefig('/home/mzo5929/Keerthana/grnInference/plots/param_scan2/correlation_plot_k_on_target_mixed_population_median_and_upper_quartile.png', bbox_inches='tight')\n",
    "plt.show()"
   ]
  },
  {
   "cell_type": "markdown",
   "metadata": {},
   "source": [
    "### Now for the opposite - kOnTarget is different but constant and modifying kOnTF continuously\n"
   ]
  },
  {
   "cell_type": "code",
   "execution_count": null,
   "metadata": {},
   "outputs": [],
   "source": [
    "population_1 = pd.read_csv('/home/mzo5929/Keerthana/grnInference/simulationData/simulations_reruns/median_params_no_regulation/samples_replicates_over_time_with_regulation_lower_quartile_0.csv')\n",
    "param_row_1 = 0\n",
    "\n",
    "path_to_folder = \"/home/mzo5929/Keerthana/grnInference/simulationData/simulations_parameter_scan_no_regulation/k_on_tf/\"\n",
    "list_of_simulations = find_csv_files(path_to_folder)\n",
    "\n",
    "correlation_list = []\n",
    "t1 = 300\n",
    "t2 = 600\n",
    "\n",
    "\n",
    "# Run in parallel with progress bar\n",
    "correlation_list = Parallel(n_jobs=4)(\n",
    "    delayed(process_simulation_mixed_population)(sim, population_1, path_to_folder, \"k_on_TF\", t1, t2) for sim in tqdm(list_of_simulations)\n",
    ")\n",
    "\n",
    "# Build final DataFrame\n",
    "correlation_df_twice_mixed_scan_k_on_tf = pd.DataFrame(correlation_list)"
   ]
  },
  {
   "cell_type": "code",
   "execution_count": 46,
   "metadata": {},
   "outputs": [],
   "source": [
    "correlation_df_twice_mixed_scan_k_on_tf.to_csv('/home/mzo5929/Keerthana/grnInference/analysisData2/correlation_mixed_population_k_on_tf_no_regulation_with_lower_quartile_burst_param.csv', index=False)\n",
    "# correlation_df_twice_mixed_scan_k_on_tf = pd.read_csv('/home/mzo5929/Keerthana/grnInference/analysisData2/correlation_mixed_population_k_on_tf_no_regulation_with_lower_quartile_burst_param.csv')"
   ]
  },
  {
   "cell_type": "code",
   "execution_count": 47,
   "metadata": {},
   "outputs": [],
   "source": [
    "#Group by k_on and take the mean and standard deviation of each group only for some columns - sigma and sigma_bar\n",
    "correlation_df_twice_mixed_scan_k_on_tf['sigma_t1'] = abs(correlation_df_twice_mixed_scan_k_on_tf['t1_gene_gene_correlation']/correlation_df_twice_mixed_scan_k_on_tf['t1_random_pair_correlation'])\n",
    "correlation_df_twice_mixed_scan_k_on_tf['sigma_bar_t1'] = abs(correlation_df_twice_mixed_scan_k_on_tf['t1_gene_gene_correlation']/correlation_df_twice_mixed_scan_k_on_tf['t1_twin_pair_correlation'])\n",
    "correlation_df_twice_mixed_scan_k_on_tf['sigma_t2'] = abs(correlation_df_twice_mixed_scan_k_on_tf['t2_gene_gene_correlation']/correlation_df_twice_mixed_scan_k_on_tf['t2_random_pair_correlation'])\n",
    "correlation_df_twice_mixed_scan_k_on_tf['sigma_bar_t2'] = abs(correlation_df_twice_mixed_scan_k_on_tf['t2_gene_gene_correlation']/correlation_df_twice_mixed_scan_k_on_tf['t2_twin_pair_correlation'])\n",
    "\n",
    "correlation_df_grouped_t1 = correlation_df_twice_mixed_scan_k_on_tf.groupby('k_on_TF').agg({'t1_gene_gene_correlation': ['mean', 'std'], 't1_random_pair_correlation': ['mean', 'std'], 't1_twin_pair_correlation': ['mean', 'std'], 'sigma_t1': ['mean', 'std'], 'sigma_bar_t1': ['mean', 'std']}).reset_index()\n",
    "correlation_df_grouped_t2 = correlation_df_twice_mixed_scan_k_on_tf.groupby('k_on_TF').agg({'t2_gene_gene_correlation': ['mean', 'std'], 't2_random_pair_correlation': ['mean', 'std'], 't2_twin_pair_correlation': ['mean', 'std'], 'sigma_t2': ['mean', 'std'], 'sigma_bar_t2': ['mean', 'std']}).reset_index()\n"
   ]
  },
  {
   "cell_type": "code",
   "execution_count": null,
   "metadata": {},
   "outputs": [],
   "source": [
    "#Plot the mean and standard deviation of each group and colour between the 2 standard deviations\n",
    "plt.figure(figsize=(10, 5))\n",
    "plt.errorbar(correlation_df_grouped_t1['k_on_TF'], correlation_df_grouped_t1['t1_gene_gene_correlation']['mean'], yerr=correlation_df_grouped_t1['t1_gene_gene_correlation']['std'], fmt='o', label=r'$\\rho$')\n",
    "plt.fill_between(correlation_df_grouped_t1['k_on_TF'], correlation_df_grouped_t1['t1_gene_gene_correlation']['mean'] - correlation_df_grouped_t1['t1_gene_gene_correlation']['std'], correlation_df_grouped_t1['t1_gene_gene_correlation']['mean'] + correlation_df_grouped_t1['t1_gene_gene_correlation']['std'], alpha=0.1, color='blue')\n",
    "plt.errorbar(correlation_df_grouped_t1['k_on_TF'], correlation_df_grouped_t1['t1_twin_pair_correlation']['mean'], yerr=correlation_df_grouped_t1['t1_twin_pair_correlation']['std'], fmt='o', label=r'$\\bar{\\rho_{\\Delta}}$')\n",
    "plt.fill_between(correlation_df_grouped_t1['k_on_TF'], correlation_df_grouped_t1['t1_twin_pair_correlation']['mean'] - correlation_df_grouped_t1['t1_twin_pair_correlation']['std'], correlation_df_grouped_t1['t1_twin_pair_correlation']['mean'] + correlation_df_grouped_t1['t1_twin_pair_correlation']['std'], alpha=0.1, color='red')\n",
    "plt.errorbar(correlation_df_grouped_t1['k_on_TF'], correlation_df_grouped_t1['t1_random_pair_correlation']['mean'], yerr=correlation_df_grouped_t1['t1_random_pair_correlation']['std'], fmt='o', label=r'$\\rho_{\\Delta}$')\n",
    "plt.fill_between(correlation_df_grouped_t1['k_on_TF'], correlation_df_grouped_t1['t1_random_pair_correlation']['mean'] - correlation_df_grouped_t1['t1_random_pair_correlation']['std'], correlation_df_grouped_t1['t1_random_pair_correlation']['mean'] + correlation_df_grouped_t1['t1_random_pair_correlation']['std'], alpha=0.1, color='green')\n",
    "plt.xlabel(r'$k_{on}^{TF}$ for population 2')\n",
    "plt.ylabel('Correlations')\n",
    "# plt.ylim(-0.25, 0.25)\n",
    "# plt.yscale('log')\n",
    "plt.axhline(1e-3, color='black', linestyle='--', label=r'$\\rho_{Baseline}$')\n",
    "plt.axhline(-1*1e-3, color='black', linestyle='--', label=r'$\\rho_{Baseline}$')\n",
    "plt.title('Correlations vs $k_{on}^{TF}$ for population 2')\n",
    "plt.legend(loc = 'upper right')\n",
    "#Save plot\n",
    "plt.savefig('/home/mzo5929/Keerthana/grnInference/plots/param_scan2/correlation_plot_k_on_tf_mixed_population_median_and_lower_quartile.svg', bbox_inches='tight')\n",
    "plt.savefig('/home/mzo5929/Keerthana/grnInference/plots/param_scan2/correlation_plot_k_on_tf_mixed_population_median_and_lower_quartile.png', bbox_inches='tight')\n",
    "plt.show()"
   ]
  },
  {
   "cell_type": "markdown",
   "metadata": {},
   "source": [
    "## k_off_tf\n"
   ]
  },
  {
   "cell_type": "markdown",
   "metadata": {},
   "source": [
    "### For the regulating case\n"
   ]
  },
  {
   "cell_type": "code",
   "execution_count": null,
   "metadata": {},
   "outputs": [],
   "source": [
    "#Get a list of all simulations in the folder\n",
    "path_to_folder = \"/home/mzo5929/Keerthana/grnInference/simulationData/simulations_parameter_scan/k_off_tf/\"\n",
    "list_of_simulations = find_csv_files(path_to_folder)\n",
    "\n",
    "correlation_list = []\n",
    "t1 = 300\n",
    "t2 = 600\n",
    "\n",
    "# Run in parallel with progress bar\n",
    "correlation_list = Parallel(n_jobs=4)(\n",
    "    delayed(process_simulation_single_population)(sim, path_to_folder, \"k_off_TF\", t1, t2) for sim in tqdm(list_of_simulations)\n",
    ")\n",
    "\n",
    "# Build final DataFrame\n",
    "correlation_df_k_off_tf = pd.DataFrame(correlation_list)\n"
   ]
  },
  {
   "cell_type": "code",
   "execution_count": 50,
   "metadata": {},
   "outputs": [],
   "source": [
    "correlation_df_k_off_tf.to_csv('/home/mzo5929/Keerthana/grnInference/analysisData2/correlation_k_off_tf.csv', index=False)\n",
    "# correlation_df_k_off_tf = pd.read_csv('/home/mzo5929/Keerthana/grnInference/analysisData/correlation_k_off_tf.csv')"
   ]
  },
  {
   "cell_type": "code",
   "execution_count": 51,
   "metadata": {},
   "outputs": [],
   "source": [
    "#Group by k_on and take the mean and standard deviation of each group only for some columns - sigma and sigma_bar\n",
    "correlation_df_k_off_tf['sigma'] = correlation_df_k_off_tf['t1_gene_gene_correlation']/correlation_df_k_off_tf['t1_random_pair_correlation']\n",
    "correlation_df_k_off_tf['sigma_bar'] = correlation_df_k_off_tf['t1_gene_gene_correlation']/correlation_df_k_off_tf['t1_twin_pair_correlation']\n",
    "\n",
    "correlation_df_grouped = correlation_df_k_off_tf.groupby('k_off_TF').agg({'t1_gene_gene_correlation': ['mean', 'std'], 't1_random_pair_correlation': ['mean', 'std'], 't1_twin_pair_correlation': ['mean', 'std'], 'sigma': ['mean', 'std'], 'sigma_bar': ['mean', 'std']}).reset_index()"
   ]
  },
  {
   "cell_type": "code",
   "execution_count": null,
   "metadata": {},
   "outputs": [],
   "source": [
    "#Plot the mean and standard deviation of each group and colour between the 2 standard deviations\n",
    "plt.figure(figsize=(10, 5))\n",
    "plt.errorbar(correlation_df_grouped['k_off_TF'], correlation_df_grouped['t1_gene_gene_correlation']['mean'], yerr=correlation_df_grouped['t1_gene_gene_correlation']['std'], fmt='o', label=r'$\\rho$')\n",
    "plt.fill_between(correlation_df_grouped['k_off_TF'], correlation_df_grouped['t1_gene_gene_correlation']['mean'] - correlation_df_grouped['t1_gene_gene_correlation']['std'], correlation_df_grouped['t1_gene_gene_correlation']['mean'] + correlation_df_grouped['t1_gene_gene_correlation']['std'], alpha=0.1, color='blue')\n",
    "plt.errorbar(correlation_df_grouped['k_off_TF'], correlation_df_grouped['t1_twin_pair_correlation']['mean'], yerr=correlation_df_grouped['t1_twin_pair_correlation']['std'], fmt='o', label=r'$\\bar{\\rho_{\\Delta}}$')\n",
    "plt.fill_between(correlation_df_grouped['k_off_TF'], correlation_df_grouped['t1_twin_pair_correlation']['mean'] - correlation_df_grouped['t1_twin_pair_correlation']['std'], correlation_df_grouped['t1_twin_pair_correlation']['mean'] + correlation_df_grouped['t1_twin_pair_correlation']['std'], alpha=0.1, color='red')\n",
    "plt.errorbar(correlation_df_grouped['k_off_TF'], correlation_df_grouped['t1_random_pair_correlation']['mean'], yerr=correlation_df_grouped['t1_random_pair_correlation']['std'], fmt='o', label=r'$\\rho_{\\Delta}$')\n",
    "plt.fill_between(correlation_df_grouped['k_off_TF'], correlation_df_grouped['t1_random_pair_correlation']['mean'] - correlation_df_grouped['t1_random_pair_correlation']['std'], correlation_df_grouped['t1_random_pair_correlation']['mean'] + correlation_df_grouped['t1_random_pair_correlation']['std'], alpha=0.1, color='green')\n",
    "plt.xlabel(r'$k_{off}^{TF}$')\n",
    "plt.ylabel('Correlations')\n",
    "plt.ylim(-0.2, 0.2)\n",
    "# plt.yscale('log')\n",
    "plt.axhline(1e-3, color='black', linestyle='--', label=r'$\\rho_{Baseline}$')\n",
    "plt.title('Correlations vs $k_{off}^{TF}$')\n",
    "plt.legend(loc = 'upper right')\n",
    "#Save the plot as svg\n",
    "plt.savefig('/home/mzo5929/Keerthana/grnInference/plots/param_scan2/correlation_plot_k_off_tf_linear_scale.svg', bbox_inches='tight')\n",
    "plt.savefig('/home/mzo5929/Keerthana/grnInference/plots/param_scan2/correlation_plot_k_off_tf_linear_scale.png', bbox_inches='tight')\n",
    "plt.show()"
   ]
  },
  {
   "cell_type": "markdown",
   "metadata": {},
   "source": [
    "### For the non-regulating case\n"
   ]
  },
  {
   "cell_type": "code",
   "execution_count": null,
   "metadata": {},
   "outputs": [],
   "source": [
    "#Get a list of all simulations in the folder\n",
    "path_to_folder = \"/home/mzo5929/Keerthana/grnInference/simulationData/simulations_parameter_scan_no_regulation/k_off_tf\"\n",
    "list_of_simulations = find_csv_files(path_to_folder)\n",
    "\n",
    "correlation_list = []\n",
    "t1 = 300\n",
    "t2 = 600\n",
    "\n",
    "# Run in parallel with progress bar\n",
    "correlation_list = Parallel(n_jobs=4)(\n",
    "    delayed(process_simulation_single_population)(sim, path_to_folder, \"k_off_TF\", t1, t2) for sim in tqdm(list_of_simulations)\n",
    ")\n",
    "\n",
    "# Build final DataFrame\n",
    "correlation_df_k_off_tf_no_reg = pd.DataFrame(correlation_list)\n"
   ]
  },
  {
   "cell_type": "code",
   "execution_count": 54,
   "metadata": {},
   "outputs": [],
   "source": [
    "correlation_df_k_off_tf_no_reg.to_csv('/home/mzo5929/Keerthana/grnInference/analysisData2/correlation_k_off_tf_no_reg.csv', index=False)\n",
    "# correlation_df_k_off_tf_no_reg = pd.read_csv('/home/mzo5929/Keerthana/grnInference/analysisData2/correlation_k_off_tf_no_reg.csv')"
   ]
  },
  {
   "cell_type": "code",
   "execution_count": 55,
   "metadata": {},
   "outputs": [],
   "source": [
    "#Group by k_on and take the mean and standard deviation of each group only for some columns - sigma and sigma_bar\n",
    "correlation_df_k_off_tf_no_reg['sigma'] = correlation_df_k_off_tf_no_reg['t1_gene_gene_correlation']/correlation_df_k_off_tf_no_reg['t1_random_pair_correlation']\n",
    "correlation_df_k_off_tf_no_reg['sigma_bar'] = correlation_df_k_off_tf_no_reg['t1_gene_gene_correlation']/correlation_df_k_off_tf_no_reg['t1_twin_pair_correlation']\n",
    "\n",
    "correlation_df_grouped = correlation_df_k_off_tf_no_reg.groupby('k_off_TF').agg({'t1_gene_gene_correlation': ['mean', 'std'], 't1_random_pair_correlation': ['mean', 'std'], 't1_twin_pair_correlation': ['mean', 'std'], 'sigma': ['mean', 'std'], 'sigma_bar': ['mean', 'std']}).reset_index()"
   ]
  },
  {
   "cell_type": "code",
   "execution_count": null,
   "metadata": {},
   "outputs": [],
   "source": [
    "#Plot the mean and standard deviation of each group and colour between the 2 standard deviations\n",
    "plt.figure(figsize=(10, 5))\n",
    "plt.errorbar(correlation_df_grouped['k_off_TF'], correlation_df_grouped['t1_gene_gene_correlation']['mean'], yerr=correlation_df_grouped['t1_gene_gene_correlation']['std'], fmt='o', label=r'$\\rho$')\n",
    "plt.fill_between(correlation_df_grouped['k_off_TF'], correlation_df_grouped['t1_gene_gene_correlation']['mean'] - correlation_df_grouped['t1_gene_gene_correlation']['std'], correlation_df_grouped['t1_gene_gene_correlation']['mean'] + correlation_df_grouped['t1_gene_gene_correlation']['std'], alpha=0.1, color='blue')\n",
    "plt.errorbar(correlation_df_grouped['k_off_TF'], correlation_df_grouped['t1_twin_pair_correlation']['mean'], yerr=correlation_df_grouped['t1_twin_pair_correlation']['std'], fmt='o', label=r'$\\bar{\\rho_{\\Delta}}$')\n",
    "plt.fill_between(correlation_df_grouped['k_off_TF'], correlation_df_grouped['t1_twin_pair_correlation']['mean'] - correlation_df_grouped['t1_twin_pair_correlation']['std'], correlation_df_grouped['t1_twin_pair_correlation']['mean'] + correlation_df_grouped['t1_twin_pair_correlation']['std'], alpha=0.1, color='red')\n",
    "plt.errorbar(correlation_df_grouped['k_off_TF'], correlation_df_grouped['t1_random_pair_correlation']['mean'], yerr=correlation_df_grouped['t1_random_pair_correlation']['std'], fmt='o', label=r'$\\rho_{\\Delta}$')\n",
    "plt.fill_between(correlation_df_grouped['k_off_TF'], correlation_df_grouped['t1_random_pair_correlation']['mean'] - correlation_df_grouped['t1_random_pair_correlation']['std'], correlation_df_grouped['t1_random_pair_correlation']['mean'] + correlation_df_grouped['t1_random_pair_correlation']['std'], alpha=0.1, color='green')\n",
    "plt.xlabel(r'$k_{off}^{TF}$')\n",
    "plt.ylabel('Correlations')\n",
    "plt.ylim(-0.2, 0.2)\n",
    "# plt.yscale('log')\n",
    "plt.axhline(1e-3, color='black', linestyle='--', label=r'$\\rho_{Baseline}$')\n",
    "plt.axhline(-1e-3, color='black', linestyle='--', label=r'$\\rho_{Baseline}$')\n",
    "plt.title('Correlations vs $k_{off}^{TF}$')\n",
    "plt.legend(loc = 'upper right')\n",
    "#Save the plot as svg\n",
    "plt.savefig('/home/mzo5929/Keerthana/grnInference/plots/param_scan2/correlation_plot_k_off_tf_no_regulation_linear_scale.svg', bbox_inches='tight')\n",
    "plt.savefig('/home/mzo5929/Keerthana/grnInference/plots/param_scan2/correlation_plot_k_off_tf_no_regulation_linear_scale.png', bbox_inches='tight')\n",
    "plt.show()"
   ]
  },
  {
   "cell_type": "markdown",
   "metadata": {},
   "source": [
    "### For the mixed-population case\n"
   ]
  },
  {
   "cell_type": "code",
   "execution_count": null,
   "metadata": {},
   "outputs": [],
   "source": [
    "population_1 = pd.read_csv('/home/mzo5929/Keerthana/grnInference/simulationData/simulations_parameter_scan_no_regulation/k_off_tf/samples_replicates_over_time_with_no_regulation_param_index_10_run_0.csv')\n",
    "param_row_1 = 0\n",
    "\n",
    "#Get a list of all simulations in the folder\n",
    "path_to_folder = \"/home/mzo5929/Keerthana/grnInference/simulationData/simulations_parameter_scan_no_regulation/k_off_tf/\"\n",
    "list_of_simulations = find_csv_files(path_to_folder)\n",
    "\n",
    "correlation_list = []\n",
    "t1 = 300\n",
    "t2 = 600\n",
    "\n",
    "# Run in parallel with progress bar\n",
    "correlation_list = Parallel(n_jobs=4)(\n",
    "    delayed(process_simulation_mixed_population)(sim, population_1, path_to_folder, \"k_off_TF\", t1, t2) for sim in tqdm(list_of_simulations)\n",
    ")\n",
    "\n",
    "# Build final DataFrame\n",
    "correlation_df_k_off_tf_no_reg_mixed = pd.DataFrame(correlation_list)\n"
   ]
  },
  {
   "cell_type": "code",
   "execution_count": 58,
   "metadata": {},
   "outputs": [],
   "source": [
    "correlation_df_k_off_tf_no_reg_mixed.to_csv('/home/mzo5929/Keerthana/grnInference/analysisData2/correlation_mixed_population_k_off_tf_no_regulation.csv', index=False)\n",
    "# correlation_df_k_off_tf_no_reg_mixed = pd.read_csv('/home/mzo5929/Keerthana/grnInference/analysisData2/correlation_mixed_population_k_off_tf_no_regulation.csv')"
   ]
  },
  {
   "cell_type": "code",
   "execution_count": 59,
   "metadata": {},
   "outputs": [],
   "source": [
    "#Group by k_on and take the mean and standard deviation of each group only for some columns - sigma and sigma_bar\n",
    "correlation_df_k_off_tf_no_reg_mixed['sigma_t1'] = abs(correlation_df_k_off_tf_no_reg_mixed['t1_gene_gene_correlation']/correlation_df_k_off_tf_no_reg_mixed['t1_random_pair_correlation'])\n",
    "correlation_df_k_off_tf_no_reg_mixed['sigma_bar_t1'] = abs(correlation_df_k_off_tf_no_reg_mixed['t1_gene_gene_correlation']/correlation_df_k_off_tf_no_reg_mixed['t1_twin_pair_correlation'])\n",
    "correlation_df_k_off_tf_no_reg_mixed['sigma_t2'] = abs(correlation_df_k_off_tf_no_reg_mixed['t2_gene_gene_correlation']/correlation_df_k_off_tf_no_reg_mixed['t2_random_pair_correlation'])\n",
    "correlation_df_k_off_tf_no_reg_mixed['sigma_bar_t2'] = abs(correlation_df_k_off_tf_no_reg_mixed['t2_gene_gene_correlation']/correlation_df_k_off_tf_no_reg_mixed['t2_twin_pair_correlation'])\n",
    "\n",
    "correlation_df_grouped_t1 = correlation_df_k_off_tf_no_reg_mixed.groupby('k_off_TF').agg({'t1_gene_gene_correlation': ['mean', 'std'], 't1_random_pair_correlation': ['mean', 'std'], 't1_twin_pair_correlation': ['mean', 'std'], 'sigma_t1': ['mean', 'std'], 'sigma_bar_t1': ['mean', 'std']}).reset_index()\n",
    "correlation_df_grouped_t2 = correlation_df_k_off_tf_no_reg_mixed.groupby('k_off_TF').agg({'t2_gene_gene_correlation': ['mean', 'std'], 't2_random_pair_correlation': ['mean', 'std'], 't2_twin_pair_correlation': ['mean', 'std'], 'sigma_t2': ['mean', 'std'], 'sigma_bar_t2': ['mean', 'std']}).reset_index()\n"
   ]
  },
  {
   "cell_type": "code",
   "execution_count": null,
   "metadata": {},
   "outputs": [],
   "source": [
    "#Plot the mean and standard deviation of each group and colour between the 2 standard deviations\n",
    "plt.figure(figsize=(10, 5))\n",
    "plt.errorbar(correlation_df_grouped_t1['k_off_TF'], correlation_df_grouped_t1['t1_gene_gene_correlation']['mean'], yerr=correlation_df_grouped_t1['t1_gene_gene_correlation']['std'], fmt='o', label=r'$\\rho$')\n",
    "plt.fill_between(correlation_df_grouped_t1['k_off_TF'], correlation_df_grouped_t1['t1_gene_gene_correlation']['mean'] - correlation_df_grouped_t1['t1_gene_gene_correlation']['std'], correlation_df_grouped['t1_gene_gene_correlation']['mean'] + correlation_df_grouped_t1['t1_gene_gene_correlation']['std'], alpha=0.1, color='blue')\n",
    "plt.errorbar(correlation_df_grouped_t1['k_off_TF'], correlation_df_grouped_t1['t1_twin_pair_correlation']['mean'], yerr=correlation_df_grouped_t1['t1_twin_pair_correlation']['std'], fmt='o', label=r'$\\bar{\\rho_{\\Delta}}$')\n",
    "plt.fill_between(correlation_df_grouped_t1['k_off_TF'], correlation_df_grouped_t1['t1_twin_pair_correlation']['mean'] - correlation_df_grouped_t1['t1_twin_pair_correlation']['std'], correlation_df_grouped_t1['t1_twin_pair_correlation']['mean'] + correlation_df_grouped_t1['t1_twin_pair_correlation']['std'], alpha=0.1, color='red')\n",
    "plt.errorbar(correlation_df_grouped_t1['k_off_TF'], correlation_df_grouped_t1['t1_random_pair_correlation']['mean'], yerr=correlation_df_grouped_t1['t1_random_pair_correlation']['std'], fmt='o', label=r'$\\rho_{\\Delta}$')\n",
    "plt.fill_between(correlation_df_grouped_t1['k_off_TF'], correlation_df_grouped_t1['t1_random_pair_correlation']['mean'] - correlation_df_grouped_t1['t1_random_pair_correlation']['std'], correlation_df_grouped_t1['t1_random_pair_correlation']['mean'] + correlation_df_grouped_t1['t1_random_pair_correlation']['std'], alpha=0.1, color='green')\n",
    "plt.xlabel(r'$k_{off}^{TF}$ for population 2')\n",
    "plt.ylabel('Correlations')\n",
    "plt.ylim(-0.01, 0.01)\n",
    "# plt.ylim(-0.2, 0.2)\n",
    "# plt.yscale('log')\n",
    "plt.axhline(1e-3, color='black', linestyle='--', label=r'$\\rho_{Baseline}$')\n",
    "plt.axhline(-1*1e-3, color='black', linestyle='--', label=r'$\\rho_{Baseline}$')\n",
    "plt.title('Correlations vs $k_{off}^{TF}$, $k_{off}^{TF}$ for population 1 = 1.33')\n",
    "plt.legend(loc = 'upper right')\n",
    "#Save plot\n",
    "plt.savefig('/home/mzo5929/Keerthana/grnInference/plots/param_scan2/correlation_plot_k_off_tf_mixed_population_zoomed_in.svg', bbox_inches='tight')\n",
    "plt.savefig('/home/mzo5929/Keerthana/grnInference/plots/param_scan2/correlation_plot_k_off_tf_mixed_population_zoomed_in.png', bbox_inches='tight')\n",
    "plt.show()"
   ]
  },
  {
   "cell_type": "markdown",
   "metadata": {},
   "source": [
    "## k_off_target\n"
   ]
  },
  {
   "cell_type": "markdown",
   "metadata": {},
   "source": [
    "### With regulation\n"
   ]
  },
  {
   "cell_type": "code",
   "execution_count": null,
   "metadata": {},
   "outputs": [],
   "source": [
    "process_param_single_population(\"/home/mzo5929/Keerthana/grnInference/simulationData/simulations_parameter_scan/k_off_target/\", \"k_off_Target\", \"/home/mzo5929/Keerthana/grnInference/analysisData2/\", regulation = True)"
   ]
  },
  {
   "cell_type": "markdown",
   "metadata": {},
   "source": [
    "### Without regulation\n"
   ]
  },
  {
   "cell_type": "code",
   "execution_count": null,
   "metadata": {},
   "outputs": [],
   "source": [
    "process_param_single_population(\"/home/mzo5929/Keerthana/grnInference/simulationData/simulations_parameter_scan_no_regulation/k_off_target/\", \"k_off_Target\", \"/home/mzo5929/Keerthana/grnInference/analysisData2/\", regulation = False)"
   ]
  },
  {
   "cell_type": "markdown",
   "metadata": {},
   "source": [
    "### Mixed population\n"
   ]
  },
  {
   "cell_type": "code",
   "execution_count": null,
   "metadata": {},
   "outputs": [],
   "source": [
    "process_param_mixed_population(\"/home/mzo5929/Keerthana/grnInference/simulationData/simulations_parameter_scan_no_regulation/k_off_target/\", \"/home/mzo5929/Keerthana/grnInference/simulationData/simulations_parameter_scan_no_regulation/k_off_target/samples_replicates_over_time_with_no_regulation_param_index_40_run_0.csv\", 1.33, \"k_off_Target\", \"/home/mzo5929/Keerthana/grnInference/analysisData2/\", regulation = False, lim_zoomed_in = 0.01)"
   ]
  },
  {
   "cell_type": "markdown",
   "metadata": {},
   "source": [
    "## burst_size_tf\n"
   ]
  },
  {
   "cell_type": "markdown",
   "metadata": {},
   "source": [
    "### With regulation\n"
   ]
  },
  {
   "cell_type": "code",
   "execution_count": null,
   "metadata": {},
   "outputs": [],
   "source": [
    "process_param_single_population(\"/home/mzo5929/Keerthana/grnInference/simulationData/simulations_parameter_scan/burst_size_tf/\", \"burst_size_TF\", \"/home/mzo5929/Keerthana/grnInference/analysisData2/\", regulation = True)"
   ]
  },
  {
   "cell_type": "markdown",
   "metadata": {},
   "source": [
    "### Without regulation\n"
   ]
  },
  {
   "cell_type": "code",
   "execution_count": null,
   "metadata": {},
   "outputs": [],
   "source": [
    "process_param_single_population(\"/home/mzo5929/Keerthana/grnInference/simulationData/simulations_parameter_scan_no_regulation/burst_size_tf/\", \"burst_size_TF\", \"/home/mzo5929/Keerthana/grnInference/analysisData2/\", regulation = False)"
   ]
  },
  {
   "cell_type": "markdown",
   "metadata": {},
   "source": [
    "### Mixed population without regulation\n"
   ]
  },
  {
   "cell_type": "code",
   "execution_count": null,
   "metadata": {},
   "outputs": [],
   "source": [
    "process_param_mixed_population(\"/home/mzo5929/Keerthana/grnInference/simulationData/simulations_parameter_scan_no_regulation/burst_size_tf/\", \"/home/mzo5929/Keerthana/grnInference/simulationData/simulations_parameter_scan_no_regulation/burst_size_tf/samples_replicates_over_time_with_no_regulation_param_index_20_run_0.csv\", 15.0, \"burst_size_TF\", \"/home/mzo5929/Keerthana/grnInference/analysisData2/\", regulation = False, lim_zoomed_in = 0.01)"
   ]
  },
  {
   "cell_type": "markdown",
   "metadata": {},
   "source": [
    "## burst_size_target\n"
   ]
  },
  {
   "cell_type": "markdown",
   "metadata": {},
   "source": [
    "### with regulation\n"
   ]
  },
  {
   "cell_type": "code",
   "execution_count": null,
   "metadata": {},
   "outputs": [],
   "source": [
    "process_param_single_population(\"/home/mzo5929/Keerthana/grnInference/simulationData/simulations_parameter_scan/burst_size_target/\", \"burst_size_Target\", \"/home/mzo5929/Keerthana/grnInference/analysisData2/\", regulation = True)"
   ]
  },
  {
   "cell_type": "markdown",
   "metadata": {},
   "source": [
    "### No regulation\n"
   ]
  },
  {
   "cell_type": "code",
   "execution_count": null,
   "metadata": {},
   "outputs": [],
   "source": [
    "process_param_single_population(\"/home/mzo5929/Keerthana/grnInference/simulationData/simulations_parameter_scan_no_regulation/burst_size_target/\", \"burst_size_Target\", \"/home/mzo5929/Keerthana/grnInference/analysisData2/\", regulation = False)"
   ]
  },
  {
   "cell_type": "markdown",
   "metadata": {},
   "source": [
    "### Mixed population\n"
   ]
  },
  {
   "cell_type": "code",
   "execution_count": null,
   "metadata": {},
   "outputs": [],
   "source": [
    "process_param_mixed_population(\"/home/mzo5929/Keerthana/grnInference/simulationData/simulations_parameter_scan_no_regulation/burst_size_target/\", \"/home/mzo5929/Keerthana/grnInference/simulationData/simulations_parameter_scan_no_regulation/burst_size_target/samples_replicates_over_time_with_no_regulation_param_index_50_run_0.csv\", 15.0, \"burst_size_Target\", \"/home/mzo5929/Keerthana/grnInference/analysisData2/\", regulation = False, lim_zoomed_in = 0.01)"
   ]
  },
  {
   "cell_type": "markdown",
   "metadata": {},
   "source": [
    "## mRNA_half_life_tf\n"
   ]
  },
  {
   "cell_type": "markdown",
   "metadata": {},
   "source": [
    "### With regulation\n"
   ]
  },
  {
   "cell_type": "code",
   "execution_count": null,
   "metadata": {},
   "outputs": [],
   "source": [
    "process_param_single_population(\"/home/mzo5929/Keerthana/grnInference/simulationData/simulations_parameter_scan/mrna_half_life_tf\", \"mrna_half_life_TF\", \"/home/mzo5929/Keerthana/grnInference/analysisData2/\", regulation = True)"
   ]
  },
  {
   "cell_type": "markdown",
   "metadata": {},
   "source": [
    "### Without regulation\n"
   ]
  },
  {
   "cell_type": "code",
   "execution_count": null,
   "metadata": {},
   "outputs": [],
   "source": [
    "process_param_single_population(\"/home/mzo5929/Keerthana/grnInference/simulationData/simulations_parameter_scan_no_regulation/mrna_half_life_tf/\", \"mrna_half_life_TF\", \"/home/mzo5929/Keerthana/grnInference/analysisData2/\", regulation = False)"
   ]
  },
  {
   "cell_type": "markdown",
   "metadata": {},
   "source": [
    "### Mixed Population\n"
   ]
  },
  {
   "cell_type": "code",
   "execution_count": null,
   "metadata": {},
   "outputs": [],
   "source": [
    "process_param_mixed_population(\"/home/mzo5929/Keerthana/grnInference/simulationData/simulations_parameter_scan_no_regulation/mrna_half_life_tf/\", \"/home/mzo5929/Keerthana/grnInference/simulationData/simulations_parameter_scan_no_regulation/mrna_half_life_tf/samples_replicates_over_time_with_no_regulation_param_index_60_run_0.csv\", 1.0, \"mrna_half_life_TF\", \"/home/mzo5929/Keerthana/grnInference/analysisData2/\", regulation = False, lim_zoomed_in = 0.05)"
   ]
  },
  {
   "cell_type": "code",
   "execution_count": null,
   "metadata": {},
   "outputs": [],
   "source": [
    "process_param_mixed_population(\"/home/mzo5929/Keerthana/grnInference/simulationData/simulations_parameter_scan_no_regulation/mrna_half_life_tf/\", \"/home/mzo5929/Keerthana/grnInference/simulationData/simulations_parameter_scan_no_regulation/mrna_half_life_tf/samples_replicates_over_time_with_no_regulation_param_index_65_run_0.csv\", 3.78, \"mrna_half_life_TF\", \"/home/mzo5929/Keerthana/grnInference/analysisData2/\", regulation = False, lim_zoomed_in = 0.05)"
   ]
  },
  {
   "cell_type": "markdown",
   "metadata": {},
   "source": [
    "## mRNA-halflife-target\n"
   ]
  },
  {
   "cell_type": "markdown",
   "metadata": {},
   "source": [
    "### With regulation\n"
   ]
  },
  {
   "cell_type": "code",
   "execution_count": null,
   "metadata": {},
   "outputs": [],
   "source": [
    "process_param_single_population(\"/home/mzo5929/Keerthana/grnInference/simulationData/simulations_parameter_scan/mrna_half_life_target\", \"mrna_half_life_Target\", \"/home/mzo5929/Keerthana/grnInference/analysisData2/\", regulation = True)"
   ]
  },
  {
   "cell_type": "markdown",
   "metadata": {},
   "source": [
    "### Without regulation\n"
   ]
  },
  {
   "cell_type": "code",
   "execution_count": null,
   "metadata": {},
   "outputs": [],
   "source": [
    "process_param_single_population(\"/home/mzo5929/Keerthana/grnInference/simulationData/simulations_parameter_scan_no_regulation/mrna_half_life_target/\", \"mrna_half_life_Target\", \"/home/mzo5929/Keerthana/grnInference/analysisData2/\", regulation = False)"
   ]
  },
  {
   "cell_type": "code",
   "execution_count": null,
   "metadata": {},
   "outputs": [],
   "source": [
    "process_param_mixed_population(\"/home/mzo5929/Keerthana/grnInference/simulationData/simulations_parameter_scan_no_regulation/mrna_half_life_target/\", \"/home/mzo5929/Keerthana/grnInference/simulationData/simulations_parameter_scan_no_regulation/mrna_half_life_target/samples_replicates_over_time_with_no_regulation_param_index_70_run_0.csv\", 1.0, \"mrna_half_life_Target\", \"/home/mzo5929/Keerthana/grnInference/analysisData2/\", regulation = False, lim_zoomed_in = 0.01)"
   ]
  },
  {
   "cell_type": "markdown",
   "metadata": {},
   "source": [
    "### protein_half_life\n"
   ]
  },
  {
   "cell_type": "markdown",
   "metadata": {},
   "source": [
    "### with regulation\n"
   ]
  },
  {
   "cell_type": "code",
   "execution_count": null,
   "metadata": {},
   "outputs": [],
   "source": [
    "process_param_single_population(\"/home/mzo5929/Keerthana/grnInference/simulationData/simulations_parameter_scan/protein_half_life/\", \"protein_half_life\", \"/home/mzo5929/Keerthana/grnInference/analysisData2/\", regulation = True, lim = 0.2)"
   ]
  },
  {
   "cell_type": "code",
   "execution_count": 12,
   "metadata": {},
   "outputs": [],
   "source": [
    "correlation_df = pd.read_csv('/home/mzo5929/Keerthana/grnInference/analysisData/correlation_protein_half_life.csv')"
   ]
  },
  {
   "cell_type": "code",
   "execution_count": null,
   "metadata": {},
   "outputs": [],
   "source": [
    "import os\n",
    "\n",
    "# Define the target directory\n",
    "folder = \"/home/mzo5929/Keerthana/grnInference/simulationData/simulations_parameter_scan/protein_half_life\"\n",
    "\n",
    "# Loop through all files in the directory\n",
    "for filename in os.listdir(folder):\n",
    "    if filename.endswith(\".csv\") and \"with_with_regulation\" in filename:\n",
    "        # New name with one 'with' removed\n",
    "        new_filename = filename.replace(\"with_with_regulation\", \"with_regulation\")\n",
    "        \n",
    "        # Build full paths\n",
    "        old_path = os.path.join(folder, filename)\n",
    "        new_path = os.path.join(folder, new_filename)\n",
    "        \n",
    "        # Rename the file\n",
    "        os.rename(old_path, new_path)\n",
    "        print(f\"Renamed: {filename} → {new_filename}\")\n"
   ]
  },
  {
   "cell_type": "code",
   "execution_count": null,
   "metadata": {},
   "outputs": [],
   "source": [
    "correlation_df"
   ]
  },
  {
   "cell_type": "code",
   "execution_count": null,
   "metadata": {},
   "outputs": [],
   "source": [
    "parameter_of_interest = \"protein_half_life\"\n",
    "correlation_df['sigma_t1'] = abs(correlation_df['t1_gene_gene_correlation']/correlation_df['t1_random_pair_correlation'])\n",
    "correlation_df['sigma_bar_t1'] = abs(correlation_df['t1_gene_gene_correlation']/correlation_df['t1_twin_pair_correlation'])\n",
    "correlation_df['sigma_t2'] = abs(correlation_df['t2_gene_gene_correlation']/correlation_df['t2_random_pair_correlation'])\n",
    "correlation_df['sigma_bar_t2'] = abs(correlation_df['t2_gene_gene_correlation']/correlation_df['t2_twin_pair_correlation'])\n",
    "correlation_df_grouped_t1 = correlation_df.groupby(parameter_of_interest).agg({'t1_gene_gene_correlation': ['mean', 'std'], 't1_random_pair_correlation': ['mean', 'std'], 't1_twin_pair_correlation': ['mean', 'std'], 'sigma_t1': ['mean', 'std'], 'sigma_bar_t1': ['mean', 'std']}).reset_index()\n",
    "correlation_df_grouped_t2 = correlation_df.groupby(parameter_of_interest).agg({'t2_gene_gene_correlation': ['mean', 'std'], 't2_random_pair_correlation': ['mean', 'std'], 't2_twin_pair_correlation': ['mean', 'std'], 'sigma_t2': ['mean', 'std'], 'sigma_bar_t2': ['mean', 'std']}).reset_index()\n",
    "#Group by k_on and take the mean and standard deviation of each group only for some columns - sigma and sigma_bar\n",
    "plot_and_save(parameter_of_interest, correlation_df_grouped_t1, regulation = True, lim = 0.2)\n"
   ]
  },
  {
   "cell_type": "markdown",
   "metadata": {},
   "source": [
    "### Without regulation\n"
   ]
  },
  {
   "cell_type": "code",
   "execution_count": null,
   "metadata": {},
   "outputs": [],
   "source": [
    "process_param_single_population(\"/home/mzo5929/Keerthana/grnInference/simulationData/simulations_parameter_scan_no_regulation/protein_half_life/\", \"protein_half_life\", \"/home/mzo5929/Keerthana/grnInference/analysisData2/\", regulation = False)"
   ]
  },
  {
   "cell_type": "markdown",
   "metadata": {},
   "source": [
    "### Mixed population\n"
   ]
  },
  {
   "cell_type": "code",
   "execution_count": null,
   "metadata": {},
   "outputs": [],
   "source": [
    "process_param_mixed_population(\"/home/mzo5929/Keerthana/grnInference/simulationData/simulations_parameter_scan_no_regulation/protein_half_life/\", \"/home/mzo5929/Keerthana/grnInference/simulationData/simulations_parameter_scan_no_regulation/protein_half_life/samples_replicates_over_time_with_no_regulation_param_index_80_run_0.csv\", 10.0, \"protein_half_life\", \"/home/mzo5929/Keerthana/grnInference/analysisData2/\", regulation = False, lim_zoomed_in = 0.01)"
   ]
  },
  {
   "cell_type": "markdown",
   "metadata": {},
   "source": [
    "## Why are there two populations when I change only mRNA half life for TF?\n"
   ]
  },
  {
   "cell_type": "code",
   "execution_count": null,
   "metadata": {},
   "outputs": [],
   "source": [
    "def analyze_mixed_population(path_to_folder, population_1_path, population_1_parameter_value, parameter_of_interest, output_folder, regulation = False, t1 = 300, t2 = 600, lim_zoomed_in = 0.01):\n",
    "    list_of_simulations = find_csv_files(path_to_folder)\n",
    "    sim_population_1 = pd.read_csv(population_1_path)\n",
    "    #Get a list of all simulations in the folder\n",
    "\n",
    "    correlation_list = []\n",
    "    t1 = 300\n",
    "    t2 = 600\n",
    "\n",
    "    # Run in parallel with progress bar\n",
    "    correlation_list = Parallel(n_jobs=4)(\n",
    "        delayed(process_simulation_mixed_population)(sim, sim_population_1, path_to_folder, parameter_of_interest, t1, t2) for sim in tqdm(list_of_simulations)\n",
    "    )\n",
    "    # Build final DataFrame\n",
    "    correlation_df = pd.DataFrame(correlation_list)\n",
    "    #Group by k_on and take the mean and standard deviation of each group only for some columns - sigma and sigma_bar\n",
    "    correlation_df['sigma_t1'] = abs(correlation_df['t1_gene_gene_correlation']/correlation_df['t1_random_pair_correlation'])\n",
    "    correlation_df['sigma_bar_t1'] = abs(correlation_df['t1_gene_gene_correlation']/correlation_df['t1_twin_pair_correlation'])\n",
    "    correlation_df['sigma_t2'] = abs(correlation_df['t2_gene_gene_correlation']/correlation_df['t2_random_pair_correlation'])\n",
    "    correlation_df['sigma_bar_t2'] = abs(correlation_df['t2_gene_gene_correlation']/correlation_df['t2_twin_pair_correlation'])\n",
    "\n",
    "    correlation_df_grouped_t1 = correlation_df.groupby(parameter_of_interest).agg({'t1_gene_gene_correlation': ['mean', 'std'], 't1_random_pair_correlation': ['mean', 'std'], 't1_twin_pair_correlation': ['mean', 'std'], 'sigma_t1': ['mean', 'std'], 'sigma_bar_t1': ['mean', 'std']}).reset_index()\n",
    "    correlation_df_grouped_t2 = correlation_df.groupby(parameter_of_interest).agg({'t2_gene_gene_correlation': ['mean', 'std'], 't2_random_pair_correlation': ['mean', 'std'], 't2_twin_pair_correlation': ['mean', 'std'], 'sigma_t2': ['mean', 'std'], 'sigma_bar_t2': ['mean', 'std']}).reset_index()\n",
    "    #Group by k_on and take the mean and standard deviation of each group only for some columns - sigma and sigma_bar\n",
    "    #save the csv\n",
    "    return correlation_df\n",
    "\n",
    "df = analyze_mixed_population(\"/home/mzo5929/Keerthana/grnInference/simulationData/simulations_parameter_scan_no_regulation/mrna_half_life_tf/\", \"/home/mzo5929/Keerthana/grnInference/simulationData/simulations_parameter_scan_no_regulation/mrna_half_life_tf/samples_replicates_over_time_with_no_regulation_param_index_60_run_0.csv\", 1.0, \"mrna_half_life_TF\", \"/home/mzo5929/Keerthana/grnInference/analysisData2/\", regulation = False, lim_zoomed_in = 0.05)"
   ]
  },
  {
   "cell_type": "code",
   "execution_count": null,
   "metadata": {},
   "outputs": [],
   "source": [
    "df"
   ]
  },
  {
   "cell_type": "code",
   "execution_count": null,
   "metadata": {},
   "outputs": [],
   "source": [
    "#Group runs together\n",
    "df_grouped = df.groupby('mrna_half_life_TF').agg({'t1_gene_gene_correlation': ['mean', 'std'], 't1_random_pair_correlation': ['mean', 'std'], 't1_twin_pair_correlation': ['mean', 'std'], 'sigma_t1': ['mean', 'std'], 'sigma_bar_t1': ['mean', 'std']}).reset_index()\n",
    "#Plot the mean and standard deviation of each group and colour between the 2 standard deviations\n",
    "plt.figure(figsize=(10, 5))\n",
    "plt.errorbar(df_grouped['mrna_half_life_TF'], df_grouped['t1_gene_gene_correlation']['mean'], yerr=df_grouped['t1_gene_gene_correlation']['std'], fmt='o', label=r'$\\rho$')\n",
    "plt.fill_between(df_grouped['mrna_half_life_TF'], df_grouped['t1_gene_gene_correlation']['mean'] - df_grouped['t1_gene_gene_correlation']['std'], df_grouped['t1_gene_gene_correlation']['mean'] + df_grouped['t1_gene_gene_correlation']['std'], alpha=0.1, color='blue')\n",
    "plt.errorbar(df_grouped['mrna_half_life_TF'], df_grouped['t1_twin_pair_correlation']['mean'], yerr=df_grouped['t1_twin_pair_correlation']['std'], fmt='o', label=r'$\\bar{\\rho_{\\Delta}}$')\n",
    "plt.fill_between(df_grouped['mrna_half_life_TF'], df_grouped['t1_twin_pair_correlation']['mean'] - df_grouped['t1_twin_pair_correlation']['std'], df_grouped['t1_twin_pair_correlation']['mean'] + df_grouped['t1_twin_pair_correlation']['std'], alpha=0.1, color='red')\n",
    "plt.errorbar(df_grouped['mrna_half_life_TF'], df_grouped['t1_random_pair_correlation']['mean'], yerr=df_grouped['t1_random_pair_correlation']['std'], fmt='o', label=r'$\\rho_{\\Delta}$')\n",
    "plt.fill_between(df_grouped['mrna_half_life_TF'], df_grouped['t1_random_pair_correlation']['mean'] - df_grouped['t1_random_pair_correlation']['std'], df_grouped['t1_random_pair_correlation']['mean'] + df_grouped['t1_random_pair_correlation']['std'], alpha=0.1, color='green')\n",
    "plt.xlabel(r'mrna_half_life_TF for population 2')\n",
    "plt.ylabel('Correlations')\n",
    "# plt.ylim(-0.01, 0.01)\n",
    "# plt.yscale('log')\n",
    "plt.axhline(0.01, color='black', linestyle='--', label=r'$\\rho_{Baseline}$')\n",
    "plt.axhline(-0.01, color='black', linestyle='--', label=r'$\\rho_{Baseline}$')\n",
    "plt.title('Correlations vs $k_{off}^{TF}$ for population 2')\n",
    "plt.legend(loc = 'upper right')\n",
    "plt.show()\n"
   ]
  },
  {
   "cell_type": "markdown",
   "metadata": {},
   "source": [
    "# Analyze large-scale parameter scan\n"
   ]
  },
  {
   "cell_type": "markdown",
   "metadata": {},
   "source": [
    "## First, open the parameter list file\n"
   ]
  },
  {
   "cell_type": "code",
   "execution_count": 3,
   "metadata": {},
   "outputs": [],
   "source": [
    "parameter_df_orig = pd.read_csv('/home/mzo5929/Keerthana/grnInference/simulationData/parameters_25000.csv', index_col=0)\n"
   ]
  },
  {
   "cell_type": "markdown",
   "metadata": {},
   "source": [
    "## Read the correlation data for a part of parameter set for original model\n"
   ]
  },
  {
   "cell_type": "code",
   "execution_count": null,
   "metadata": {},
   "outputs": [],
   "source": [
    "list_of_corr_files = os.listdir(\"/home/mzo5929/Keerthana/grnInference/simulationData/large_scale_parameter_scan/modified_regulation/\")\n",
    "print(len(list_of_corr_files))\n"
   ]
  },
  {
   "cell_type": "code",
   "execution_count": null,
   "metadata": {},
   "outputs": [],
   "source": [
    "# #$Concat all csv files in the folder\n",
    "# path_to_corr_folder =   \"/home/mzo5929/Keerthana/grnInference/analysisData2/large_scale_parameter_scan/regulation/\"\n",
    "# list_of_corr_files = os.listdir(path_to_corr_folder)\n",
    "corr_df = pd.concat([pd.read_csv(os.path.join(path_to_corr_folder, file)) for file in tqdm(list_of_corr_files) if file.endswith('.csv')], ignore_index=True)"
   ]
  },
  {
   "cell_type": "code",
   "execution_count": 5,
   "metadata": {},
   "outputs": [],
   "source": [
    "# corr_df.to_csv('/home/mzo5929/Keerthana/grnInference/analysisData2/large_scale_parameter_scan/correlation_df_large_scale_parameter_scan_regulation.csv', index=False)\n",
    "corr_df = pd.read_csv('/home/mzo5929/Keerthana/grnInference/analysisData2/large_scale_parameter_scan/correlation_df_large_scale_parameter_scan_regulation.csv')"
   ]
  },
  {
   "cell_type": "code",
   "execution_count": null,
   "metadata": {},
   "outputs": [],
   "source": [
    "path_to_corr_no_reg_folder =  \"/home/mzo5929/Keerthana/grnInference/analysisData2/large_scale_parameter_scan/no_regulation/\"\n",
    "list_of_corr_no_reg_files = os.listdir(path_to_corr_no_reg_folder)\n",
    "corr_df_no_reg = pd.concat([pd.read_csv(os.path.join(path_to_corr_no_reg_folder, file)) for file in tqdm(list_of_corr_no_reg_files) if file.endswith('.csv')])"
   ]
  },
  {
   "cell_type": "code",
   "execution_count": 30,
   "metadata": {},
   "outputs": [],
   "source": [
    "corr_df_no_reg.to_csv('/home/mzo5929/Keerthana/grnInference/analysisData2/large_scale_parameter_scan/correlation_df_large_scale_parameter_scan_no_regulation.csv', index=False)"
   ]
  },
  {
   "cell_type": "code",
   "execution_count": null,
   "metadata": {},
   "outputs": [],
   "source": [
    "print(corr_df_no_reg[corr_df_no_reg['t1_gene_gene_correlation'] > 0.02].shape[0], corr_df_no_reg[corr_df_no_reg['t1_gene_gene_correlation'] < -0.02].shape[0])\n",
    "corr_df_no_reg[corr_df_no_reg['t1_twin_pair_correlation'] > 0.01].shape[0], corr_df_no_reg[corr_df_no_reg['t1_twin_pair_correlation'] < -0.01].shape[0]"
   ]
  },
  {
   "cell_type": "code",
   "execution_count": null,
   "metadata": {},
   "outputs": [],
   "source": [
    "print(corr_df[abs(corr_df['t1_gene_gene_correlation']) > 0.05].shape[0])\n",
    "print(corr_df[(abs(corr_df['t1_twin_pair_correlation']) > 0.01) & (abs(corr_df['t1_gene_gene_correlation']) > 0.05)].shape[0])"
   ]
  },
  {
   "cell_type": "code",
   "execution_count": null,
   "metadata": {},
   "outputs": [],
   "source": [
    "print(corr_df_no_reg[abs(corr_df_no_reg['t1_gene_gene_correlation']) > 0.05].shape[0])\n",
    "print(corr_df_no_reg[(abs(corr_df_no_reg['t1_twin_pair_correlation']) > 0.01) & (abs(corr_df_no_reg['t1_gene_gene_correlation']) > 0.05)].shape[0])"
   ]
  },
  {
   "cell_type": "code",
   "execution_count": null,
   "metadata": {},
   "outputs": [],
   "source": [
    "print(max(corr_df_no_reg['t1_gene_gene_correlation']))\n",
    "print(min(corr_df_no_reg['t1_gene_gene_correlation']))"
   ]
  },
  {
   "cell_type": "code",
   "execution_count": null,
   "metadata": {},
   "outputs": [],
   "source": [
    "# #$Concat all csv files in the folder\n",
    "path_to_corr_mod_folder =  \"/home/mzo5929/Keerthana/grnInference/analysisData2/large_scale_parameter_scan/modified_regulation/\"\n",
    "list_of_corr_mod_files = os.listdir(path_to_corr_mod_folder)\n",
    "corr_df_mod = pd.concat([pd.read_csv(os.path.join(path_to_corr_mod_folder, file)) for file in tqdm(list_of_corr_mod_files) if file.endswith('.csv')])\n",
    "# Keep only unique parameter index\n",
    "corr_df_mod_read = pd.read_csv('/home/mzo5929/Keerthana/grnInference/analysisData2/large_scale_parameter_scan/correlation_df_large_scale_parameter_scan_modified_regulation.csv')\n",
    "corr_df_mod = pd.concat([corr_df_mod_read, corr_df_mod], ignore_index=True)\n",
    "corr_df_mod = corr_df_mod.drop_duplicates(subset=['parameter_index'])\n",
    "corr_df_mod.to_csv('/home/mzo5929/Keerthana/grnInference/analysisData2/large_scale_parameter_scan/correlation_df_large_scale_parameter_scan_modified_regulation.csv', index=False)"
   ]
  },
  {
   "cell_type": "code",
   "execution_count": null,
   "metadata": {},
   "outputs": [],
   "source": [
    "corr_df_mod"
   ]
  },
  {
   "cell_type": "code",
   "execution_count": 8,
   "metadata": {},
   "outputs": [],
   "source": [
    "subset_indices = corr_df_mod['parameter_index'].unique()"
   ]
  },
  {
   "cell_type": "code",
   "execution_count": null,
   "metadata": {},
   "outputs": [],
   "source": [
    "len(subset_indices)"
   ]
  },
  {
   "cell_type": "code",
   "execution_count": 10,
   "metadata": {},
   "outputs": [],
   "source": [
    "corr_df_subset = corr_df[corr_df['parameter_index'].isin(subset_indices)]\n",
    "# corr_df_subset = corr_df"
   ]
  },
  {
   "cell_type": "code",
   "execution_count": 32,
   "metadata": {},
   "outputs": [],
   "source": [
    "corr_df_no_reg = corr_df_no_reg.sort_values(by='parameter_index')\n",
    "corr_df = corr_df.sort_values(by='parameter_index')"
   ]
  },
  {
   "cell_type": "code",
   "execution_count": null,
   "metadata": {},
   "outputs": [],
   "source": [
    "corr_df.columns"
   ]
  },
  {
   "cell_type": "code",
   "execution_count": null,
   "metadata": {},
   "outputs": [],
   "source": [
    "corr_df_filtered = corr_df[(corr_df['t1_gene_gene_correlation'] > 0.05) | (corr_df['t2_gene_gene_correlation'] > 0.05)]\n",
    "print(corr_df_filtered.shape)\n",
    "corr_df_filtered[((corr_df_filtered['t1_twin_pair_correlation']) > 0.01) | ((corr_df_filtered['t2_twin_pair_correlation']) > 0.01)]"
   ]
  },
  {
   "cell_type": "code",
   "execution_count": null,
   "metadata": {},
   "outputs": [],
   "source": [
    "corr_df_filtered[((corr_df_filtered['t1_twin_pair_correlation']) > 0.01)]"
   ]
  },
  {
   "cell_type": "code",
   "execution_count": null,
   "metadata": {},
   "outputs": [],
   "source": [
    "# Step 1: Sort with-regulation df by correlation value\n",
    "# Step 1: Filter the DataFrame based on the condition\n",
    "# corr_df_filtered = corr_df[corr_df['t1_gene_gene_correlation'] > 0.05].copy()\n",
    "\n",
    "# Step 2: Sort the filtered DataFrame by correlation value\n",
    "corr_df_sorted = corr_df_filtered.sort_values(by='t1_gene_gene_correlation').reset_index(drop=True)\n",
    "print(corr_df_sorted.shape)\n",
    "\n",
    "# Step 3: Get the sorted parameter index order\n",
    "sorted_param_indices = corr_df_sorted['parameter_index'].values\n",
    "\n",
    "# Step 4: Reindex both dataframes\n",
    "corr_df_no_reg_sorted = corr_df_no_reg_sorted[corr_df_no_reg_sorted['t1_gene_gene_correlation'] > 0.05]\n",
    "print(corr_df_no_reg_sorted.shape)\n",
    "corr_df_no_reg_sorted = corr_df_no_reg.set_index('parameter_index').loc[sorted_param_indices].reset_index()\n",
    "corr_df_sorted['parameter_index'] = np.arange(len(corr_df_sorted))  # Reset x-axis to be sorted index\n",
    "corr_df_no_reg_sorted['parameter_index'] = np.arange(len(corr_df_no_reg_sorted))\n",
    "\n",
    "# Step 5: Plot\n",
    "plt.figure(figsize=(20, 8))\n",
    "\n",
    "# plt.plot(corr_df_sorted['parameter_index'], corr_df_sorted['t1_gene_gene_correlation'], alpha=0.3, label='Gene-Gene Correlation With Regulation')\n",
    "plt.plot(corr_df_no_reg_sorted['parameter_index'], corr_df_no_reg_sorted['t1_gene_gene_correlation'], alpha=0.3, label='Gene correlation without Regulation')\n",
    "plt.plot(corr_df_sorted['parameter_index'], corr_df_sorted['t1_gene_gene_correlation'], alpha=1, label='Gene correlation with Regulation', linewidth = 1.5, color = \"black\")\n",
    "\n",
    "plt.xlabel('Sorted Parameter Index')\n",
    "plt.ylabel(r'Gene-gene correlation')\n",
    "plt.title('Gene Correlation Across Sorted Parameters')\n",
    "\n",
    "plt.axhline(5e-2, color='black', linestyle='--', label=r'$\\rho_{Baseline}$')\n",
    "plt.axhline(-5e-2, color='black', linestyle='--')\n",
    "# plt.yscale('log')\n",
    "plt.legend(loc='upper right')\n",
    "plt.grid(True, linestyle='--', linewidth=0.4, alpha=0.6)\n",
    "plt.tight_layout()\n",
    "plt.show()\n"
   ]
  },
  {
   "cell_type": "code",
   "execution_count": null,
   "metadata": {},
   "outputs": [],
   "source": [
    "# selected_indices = corr_df_subset[(abs(corr_df_subset['t1_gene_gene_correlation']) > 0.05) & (corr_df_subset['t1_twin_pair_correlation'] < 0.01)]['parameter_index'].tolist()\n",
    "# selected_indices = corr_df_subset[(abs(corr_df_subset['t2_gene_gene_correlation']) < 0.05)]['parameter_index'].tolist()\n",
    "selected_indices = corr_df_subset[(abs(corr_df_subset['t1_gene_gene_correlation']) > 0.05)]['parameter_index'].tolist()\n",
    "len(selected_indices)"
   ]
  },
  {
   "cell_type": "code",
   "execution_count": null,
   "metadata": {},
   "outputs": [],
   "source": [
    "selected_indices_mod = corr_df_mod[(abs(corr_df_mod['t2_gene_gene_correlation']) < 0.05)]['parameter_index'].tolist()\n",
    "# selected_indices_mod = corr_df_mod[(abs(corr_df_mod['t2_gene_gene_correlation']) > 0.05) & (corr_df_mod['t2_twin_pair_correlation'] < 0.01)]['parameter_index'].tolist()\n",
    "len(selected_indices_mod)"
   ]
  },
  {
   "cell_type": "code",
   "execution_count": 21,
   "metadata": {},
   "outputs": [],
   "source": [
    "parameter_df = parameter_df_orig.loc[corr_df_subset['parameter_index'].tolist()]\n",
    "parameter_df[\"mRNA_to_protein_deg_ratio\"] = parameter_df[\"mrna_half_life_TF\"] / parameter_df[\"protein_half_life\"]\n",
    "parameter_df_mod = parameter_df_orig.loc[corr_df_mod['parameter_index'].tolist()]\n",
    "parameter_df_mod[\"mRNA_to_protein_deg_ratio\"] = parameter_df_mod[\"mrna_half_life_TF\"] / parameter_df_mod[\"protein_half_life\"]"
   ]
  },
  {
   "cell_type": "code",
   "execution_count": null,
   "metadata": {},
   "outputs": [],
   "source": [
    "selected_params = parameter_df_orig.iloc[selected_indices]\n",
    "selected_params[\"mRNA_to_protein_deg_ratio\"] = selected_params[\"mrna_half_life_TF\"] / selected_params[\"protein_half_life\"]\n",
    "selected_params"
   ]
  },
  {
   "cell_type": "code",
   "execution_count": null,
   "metadata": {},
   "outputs": [],
   "source": [
    "selected_params_mod = parameter_df_orig.iloc[selected_indices_mod]\n",
    "selected_params_mod[\"mRNA_to_protein_deg_ratio\"] = selected_params_mod[\"mrna_half_life_TF\"] / selected_params_mod[\"protein_half_life\"]\n",
    "selected_params_mod"
   ]
  },
  {
   "cell_type": "code",
   "execution_count": null,
   "metadata": {},
   "outputs": [],
   "source": [
    "selected_params_mod.columns"
   ]
  },
  {
   "cell_type": "code",
   "execution_count": null,
   "metadata": {},
   "outputs": [],
   "source": [
    "corr_df"
   ]
  },
  {
   "cell_type": "code",
   "execution_count": null,
   "metadata": {},
   "outputs": [],
   "source": [
    "# Merge correlation values (as before)\n",
    "selected_params = selected_params.copy()\n",
    "selected_params['param_index'] = selected_params.index\n",
    "selected_with_corr = selected_params.merge(\n",
    "    corr_df[['parameter_index', 't1_twin_pair_correlation']],\n",
    "    left_on='param_index', right_on='parameter_index'\n",
    ")\n",
    "\n",
    "# Sort for plotting: high correlation first, low correlation last (on top)\n",
    "selected_with_corr = selected_with_corr.sort_values(by='t1_twin_pair_correlation', ascending=False)\n",
    "\n",
    "# Plot\n",
    "fig = plt.figure(figsize=(10, 10))\n",
    "grid = plt.GridSpec(4, 4, hspace=0.5, wspace=0.5)\n",
    "\n",
    "main_ax = fig.add_subplot(grid[:-1, 1:])\n",
    "x_hist = fig.add_subplot(grid[:-1, 0], sharey=main_ax)\n",
    "y_hist = fig.add_subplot(grid[-1, 1:], sharex=main_ax)\n",
    "\n",
    "# Scatter plot (low-correlation points on top)\n",
    "sc = main_ax.scatter(\n",
    "    selected_with_corr['mrna_half_life_TF'],\n",
    "    selected_with_corr['protein_half_life'],\n",
    "    c=selected_with_corr['t1_twin_pair_correlation'],\n",
    "    cmap='viridis',\n",
    "    alpha=0.6\n",
    ")\n",
    "\n",
    "main_ax.set_xlabel('mRNA Half-Life (TF)')\n",
    "main_ax.set_ylabel('Protein Half-Life')\n",
    "main_ax.set_title('mRNA vs Protein Half-Life Colored by Twin Correlation')\n",
    "\n",
    "# Colorbar\n",
    "cbar = fig.colorbar(sc, ax=main_ax, orientation='vertical', fraction=0.05)\n",
    "cbar.set_label(r'$\\hat{\\rho_{\\Delta}}$')\n",
    "\n",
    "# Histograms\n",
    "x_hist.hist(selected_with_corr['protein_half_life'], bins=30, orientation='horizontal', color='grey', alpha=0.5)\n",
    "x_hist.set_ylabel('Protein Half-Life')\n",
    "\n",
    "y_hist.hist(selected_with_corr['mrna_half_life_TF'], bins=30, orientation='vertical', color='grey', alpha=0.5)\n",
    "y_hist.set_xlabel('mRNA Half-Life (TF)')\n",
    "\n",
    "plt.show()\n"
   ]
  },
  {
   "cell_type": "code",
   "execution_count": null,
   "metadata": {},
   "outputs": [],
   "source": [
    "# Create a scatter plot with histograms\n",
    "\n",
    "fig = plt.figure(figsize=(10, 10))\n",
    "grid = plt.GridSpec(4, 4, hspace=0.5, wspace=0.5)\n",
    "\n",
    "main_ax = fig.add_subplot(grid[:-1, 1:])\n",
    "x_hist = fig.add_subplot(grid[:-1, 0], sharey=main_ax)\n",
    "y_hist = fig.add_subplot(grid[-1, 1:], sharex=main_ax)\n",
    "\n",
    "# Scatter plot\n",
    "main_ax.scatter(selected_params['mrna_half_life_TF'], selected_params['protein_half_life'], alpha=0.5)\n",
    "main_ax.set_xlabel('mRNA Half-Life (TF)')\n",
    "main_ax.set_ylabel('Protein Half-Life')\n",
    "main_ax.set_title('mRNA vs Protein Half-Life (With Regulation)')\n",
    "\n",
    "# Histogram for mRNA Half-Life (TF)\n",
    "x_hist.hist(selected_params['protein_half_life'], bins=30, orientation='horizontal', color='grey', alpha=0.5)\n",
    "x_hist.set_ylabel('Protein Half-Life')\n",
    "\n",
    "# Histogram for Protein Half-Life\n",
    "y_hist.hist(selected_params['mrna_half_life_TF'], bins=30, orientation='vertical', color='grey', alpha=0.5)\n",
    "y_hist.set_xlabel('mRNA Half-Life (TF)')\n",
    "\n",
    "plt.show()"
   ]
  },
  {
   "cell_type": "code",
   "execution_count": null,
   "metadata": {},
   "outputs": [],
   "source": [
    "import matplotlib.pyplot as plt\n",
    "import numpy as np\n",
    "import pandas as pd\n",
    "#Remove not useful columns\n",
    "selected_params_mod = selected_params_mod.drop(columns=['splicing_half_life_minutes', 'labeling_efficiency', 'pulse_time',\n",
    "       'num_cells', 'dynamics', 'capture_efficiency'])\n",
    "\n",
    "for col in selected_params_mod.columns:\n",
    "    if col == \"dynamics\":\n",
    "        continue\n",
    "    plt.figure(figsize=(10, 5))\n",
    "    # --- Ensure numeric ---\n",
    "    baseline_vals = pd.to_numeric(parameter_df_mod[col], errors='coerce').dropna()\n",
    "    selected_vals = pd.to_numeric(selected_params_mod[col], errors='coerce').dropna()\n",
    "\n",
    "    # --- Shared bins from combined data (optional, for alignment) ---\n",
    "    combined_vals = np.concatenate([baseline_vals, selected_vals])\n",
    "    bins = np.histogram_bin_edges(combined_vals, bins=50)\n",
    "\n",
    "    # --- Baseline histogram ---\n",
    "    baseline_counts, _ = np.histogram(baseline_vals, bins=bins)\n",
    "    baseline_frac = baseline_counts / baseline_counts.sum()\n",
    "    plt.bar(bins[:-1], baseline_frac, width=np.diff(bins), alpha=0.3, color='black', label='Baseline', align='edge')\n",
    "\n",
    "    # --- Selected histogram ---\n",
    "    selected_counts, _ = np.histogram(selected_vals, bins=bins)\n",
    "    selected_frac = selected_counts / selected_counts.sum()\n",
    "    plt.bar(bins[:-1], selected_frac, width=np.diff(bins), alpha=0.5, label='Selected', align='edge')\n",
    "\n",
    "    plt.xlabel(col)\n",
    "    plt.ylabel('Fraction of Samples')\n",
    "    plt.title(f'Normalized Histogram of {col}')\n",
    "    plt.legend()\n",
    "    plt.grid(True, linestyle='--', linewidth=0.5, alpha=0.6)\n",
    "    plt.show()\n"
   ]
  },
  {
   "cell_type": "code",
   "execution_count": null,
   "metadata": {},
   "outputs": [],
   "source": [
    "import matplotlib.pyplot as plt\n",
    "import numpy as np\n",
    "import pandas as pd\n",
    "\n",
    "print(selected_params.shape)\n",
    "# selected_params = selected_params.drop(columns=['splicing_half_life_minutes', 'labeling_efficiency', 'pulse_time',\n",
    "#        'num_cells', 'dynamics', 'capture_efficiency'])\n",
    "for col in selected_params.columns:\n",
    "    if col == \"dynamics\":\n",
    "        continue\n",
    "    plt.figure(figsize=(15, 8))\n",
    "\n",
    "    # --- Ensure numeric ---\n",
    "    baseline_vals = pd.to_numeric(parameter_df[col], errors='coerce').dropna()\n",
    "    selected_vals = pd.to_numeric(selected_params[col], errors='coerce').dropna()\n",
    "\n",
    "    # --- Shared bins from combined data (optional, for alignment) ---\n",
    "    combined_vals = np.concatenate([baseline_vals, selected_vals])\n",
    "    bins = np.histogram_bin_edges(combined_vals, bins=30)\n",
    "\n",
    "    # --- Baseline histogram ---\n",
    "    baseline_counts, _ = np.histogram(baseline_vals, bins=bins)\n",
    "    baseline_frac = baseline_counts / baseline_counts.sum()\n",
    "    plt.bar(bins[:-1], baseline_frac, width=np.diff(bins), alpha=0.3, color='black', label='All parameters', align='edge')\n",
    "\n",
    "    # --- Selected histogram ---\n",
    "    selected_counts, _ = np.histogram(selected_vals, bins=bins)\n",
    "    selected_frac = selected_counts / selected_counts.sum()\n",
    "    plt.bar(bins[:-1], selected_frac, width=np.diff(bins), alpha=0.5, label='No twin correlation', align='edge', color = \"brown\")\n",
    "\n",
    "    plt.xlabel(col)\n",
    "    plt.ylabel('Fraction of Samples')\n",
    "    plt.title(f'Normalized Histogram of {col}')\n",
    "    plt.legend()\n",
    "    plt.grid(True, linestyle='--', linewidth=0.5, alpha=0.6)\n",
    "    plt.show()\n"
   ]
  },
  {
   "cell_type": "code",
   "execution_count": 71,
   "metadata": {},
   "outputs": [],
   "source": [
    "modified_df = pd.read_csv('/home/mzo5929/Keerthana/grnInference/analysisData2/large_scale_parameter_scan/modified_regulation/partial_000.csv')"
   ]
  },
  {
   "cell_type": "code",
   "execution_count": null,
   "metadata": {},
   "outputs": [],
   "source": [
    "modified_df"
   ]
  },
  {
   "cell_type": "code",
   "execution_count": null,
   "metadata": {},
   "outputs": [],
   "source": [
    "twin_was_less = modified_df[:10] #First 10 rows\n",
    "twin_was_less = twin_was_less[(twin_was_less['t1_gene_gene_correlation']) > 0.05]\n",
    "twin_was_less"
   ]
  },
  {
   "cell_type": "markdown",
   "metadata": {},
   "source": [
    "# Analyzing two state populations\n"
   ]
  },
  {
   "cell_type": "code",
   "execution_count": null,
   "metadata": {},
   "outputs": [],
   "source": [
    "parameter_df_orig = pd.read_csv('/home/mzo5929/Keerthana/grnInference/simulationData/parameters_25000.csv', index_col=0)"
   ]
  },
  {
   "cell_type": "code",
   "execution_count": null,
   "metadata": {},
   "outputs": [],
   "source": [
    "# #$Concat all csv files in the folder\n",
    "path_to_corr_mod_folder =  \"/home/mzo5929/Keerthana/grnInference/analysisData2/large_scale_parameter_scan/modified_regulation/\"\n",
    "list_of_corr_mod_files = os.listdir(path_to_corr_mod_folder)\n",
    "corr_df_mod = pd.concat([pd.read_csv(os.path.join(path_to_corr_mod_folder, file)) for file in tqdm(list_of_corr_mod_files) if file.endswith('.csv')])\n",
    "# Keep only unique parameter index\n",
    "corr_df_mod_read = pd.read_csv('/home/mzo5929/Keerthana/grnInference/analysisData2/large_scale_parameter_scan/correlation_df_large_scale_parameter_scan_modified_regulation.csv')\n",
    "corr_df_mod = pd.concat([corr_df_mod_read, corr_df_mod], ignore_index=True)\n",
    "corr_df_mod = corr_df_mod.drop_duplicates(subset=['parameter_index'])\n",
    "corr_df_mod.to_csv('/home/mzo5929/Keerthana/grnInference/analysisData2/large_scale_parameter_scan/correlation_df_large_scale_parameter_scan_modified_regulation.csv', index=False)"
   ]
  },
  {
   "cell_type": "code",
   "execution_count": null,
   "metadata": {},
   "outputs": [],
   "source": [
    "# Step 1: Sort with-regulation df by correlation value\n",
    "# Step 1: Filter the DataFrame based on the condition\n",
    "# corr_df_filtered = corr_df[corr_df['t1_gene_gene_correlation'] > 0.05].copy()\n",
    "\n",
    "# Step 2: Sort the filtered DataFrame by correlation value\n",
    "corr_df_sorted = corr_df_filtered.sort_values(by='t1_gene_gene_correlation').reset_index(drop=True)\n",
    "print(corr_df_sorted.shape)\n",
    "\n",
    "# Step 3: Get the sorted parameter index order\n",
    "sorted_param_indices = corr_df_sorted['parameter_index'].values\n",
    "\n",
    "# Step 4: Reindex both dataframes\n",
    "corr_df_no_reg_sorted = corr_df_no_reg_sorted[corr_df_no_reg_sorted['t1_gene_gene_correlation'] > 0.05]\n",
    "print(corr_df_no_reg_sorted.shape)\n",
    "corr_df_no_reg_sorted = corr_df_no_reg.set_index('parameter_index').loc[sorted_param_indices].reset_index()\n",
    "corr_df_sorted['parameter_index'] = np.arange(len(corr_df_sorted))  # Reset x-axis to be sorted index\n",
    "corr_df_no_reg_sorted['parameter_index'] = np.arange(len(corr_df_no_reg_sorted))\n",
    "\n",
    "# Step 5: Plot\n",
    "plt.figure(figsize=(20, 8))\n",
    "\n",
    "# plt.plot(corr_df_sorted['parameter_index'], corr_df_sorted['t1_gene_gene_correlation'], alpha=0.3, label='Gene-Gene Correlation With Regulation')\n",
    "plt.plot(corr_df_no_reg_sorted['parameter_index'], corr_df_no_reg_sorted['t1_gene_gene_correlation'], alpha=0.3, label='Gene correlation without Regulation')\n",
    "plt.plot(corr_df_sorted['parameter_index'], corr_df_sorted['t1_gene_gene_correlation'], alpha=1, label='Gene correlation with Regulation', linewidth = 1.5, color = \"black\")\n",
    "\n",
    "plt.xlabel('Sorted Parameter Index')\n",
    "plt.ylabel(r'Gene-gene correlation')\n",
    "plt.title('Gene Correlation Across Sorted Parameters')\n",
    "\n",
    "plt.axhline(5e-2, color='black', linestyle='--', label=r'$\\rho_{Baseline}$')\n",
    "plt.axhline(-5e-2, color='black', linestyle='--')\n",
    "# plt.yscale('log')\n",
    "plt.legend(loc='upper right')\n",
    "plt.grid(True, linestyle='--', linewidth=0.4, alpha=0.6)\n",
    "plt.tight_layout()\n",
    "plt.show()\n"
   ]
  },
  {
   "cell_type": "code",
   "execution_count": 1,
   "metadata": {},
   "outputs": [
    {
     "data": {
      "application/vnd.jupyter.widget-view+json": {
       "model_id": "4b62fc64759a419c9ececfc16cd3f3a5",
       "version_major": 2,
       "version_minor": 0
      },
      "text/plain": [
       "  0%|          | 0/82 [00:00<?, ?it/s]"
      ]
     },
     "metadata": {},
     "output_type": "display_data"
    }
   ],
   "source": [
    "import os\n",
    "from tqdm.notebook import tqdm\n",
    "import pandas as pd\n",
    "path_to_corr_mod_folder =  \"/home/mzo5929/Keerthana/grnInference/analysisData2/large_scale_parameter_scan/two_population_no_regulation/\"\n",
    "list_of_corr_mod_files = os.listdir(path_to_corr_mod_folder)\n",
    "corr_df_two_state = pd.concat([pd.read_csv(os.path.join(path_to_corr_mod_folder, file)) for file in tqdm(list_of_corr_mod_files) if file.endswith('.csv')])"
   ]
  },
  {
   "cell_type": "code",
   "execution_count": 2,
   "metadata": {},
   "outputs": [],
   "source": [
    "corr_df_two_state.to_csv('/home/mzo5929/Keerthana/grnInference/analysisData2/large_scale_parameter_scan/correlation_df_large_scale_parameter_scan_two_population_no_regulation.csv', index=False)"
   ]
  },
  {
   "cell_type": "code",
   "execution_count": 3,
   "metadata": {},
   "outputs": [],
   "source": [
    "correlation_df = pd.read_csv('/home/mzo5929/Keerthana/grnInference/analysisData2/large_scale_parameter_scan/correlation_df_large_scale_parameter_scan_two_population_no_regulation.csv')\n",
    "cross_correlation_two_state = pd.read_csv('/home/mzo5929/Keerthana/grnInference/analysisData2/large_scale_parameter_scan/cross_correlation_df_large_scale_parameter_scan_two_population_no_regulation.csv')"
   ]
  },
  {
   "cell_type": "code",
   "execution_count": 4,
   "metadata": {},
   "outputs": [],
   "source": [
    "corr_df_large_scale = pd.read_csv(\"/home/mzo5929/Keerthana/grnInference/analysisData2/large_scale_parameter_scan/correlation_df_large_scale_parameter_scan_two_population_no_regulation.csv\")\n",
    "corr_df_large_new = []\n",
    "for csv_file in os.listdir(\"/home/mzo5929/Keerthana/grnInference/analysisData2/large_scale_parameter_scan/two_population_no_regulation/\"):\n",
    "    if csv_file.endswith(\".csv\"):\n",
    "        df = pd.read_csv(os.path.join(\"/home/mzo5929/Keerthana/grnInference/analysisData2/large_scale_parameter_scan/two_population_no_regulation/\", csv_file))\n",
    "        corr_df_large_new.append(df)\n",
    "\n",
    "corr_df_large_new = pd.concat(corr_df_large_new, ignore_index=True)\n",
    "corr_df_large_scale = pd.concat([corr_df_large_scale, corr_df_large_new], ignore_index=True)\n"
   ]
  },
  {
   "cell_type": "code",
   "execution_count": 7,
   "metadata": {},
   "outputs": [],
   "source": [
    "corr_df_large_scale\n",
    "\n",
    "#Split this into directional cross_correlation and correlations\n",
    "cross_correlation_columns = [\"TF_t1_Target_t2_twin\", \"TF_t1_Target_t2_random\", \"Target_t1_TF_t2_twin\", \"Target_t1_TF_t2_random\"]\n",
    "correlation_terms = [\"t1_gene_gene_correlation\", \"t1_twin_pair_correlation\", \"t1_random_pair_correlation\", \"t2_gene_gene_correlation\", \"t2_twin_pair_correlation\", \"t2_random_pair_correlation\"]\n",
    "\n",
    "#If all cross_correlations columns are not Nan, filter that into a separate df\n",
    "cross_correlation_df = corr_df_large_scale.dropna(subset=cross_correlation_columns)\n",
    "\n",
    "correlation_df = corr_df_large_scale.dropna(subset=correlation_terms)"
   ]
  },
  {
   "cell_type": "code",
   "execution_count": 16,
   "metadata": {},
   "outputs": [],
   "source": [
    "#Keep only the columns that are in cross_correlation_columns \n",
    "# cross_correlation_df = cross_correlation_df[cross_correlation_columns + ['parameter_index_1', 'parameter_index_2']]\n",
    "cross_correlation_df.to_csv('/home/mzo5929/Keerthana/grnInference/analysisData2/large_scale_parameter_scan/cross_correlation_df_large_scale_parameter_scan_two_population_no_regulation.csv', index=False)"
   ]
  },
  {
   "cell_type": "code",
   "execution_count": 17,
   "metadata": {},
   "outputs": [],
   "source": [
    "# correlation_df = correlation_df[correlation_terms + ['parameter_index_1', 'parameter_index_2']]\n",
    "correlation_df.to_csv('/home/mzo5929/Keerthana/grnInference/analysisData2/large_scale_parameter_scan/correlation_df_large_scale_parameter_scan_two_population_no_regulation.csv', index=False)"
   ]
  },
  {
   "cell_type": "code",
   "execution_count": 4,
   "metadata": {},
   "outputs": [
    {
     "data": {
      "text/html": [
       "<div>\n",
       "<style scoped>\n",
       "    .dataframe tbody tr th:only-of-type {\n",
       "        vertical-align: middle;\n",
       "    }\n",
       "\n",
       "    .dataframe tbody tr th {\n",
       "        vertical-align: top;\n",
       "    }\n",
       "\n",
       "    .dataframe thead th {\n",
       "        text-align: right;\n",
       "    }\n",
       "</style>\n",
       "<table border=\"1\" class=\"dataframe\">\n",
       "  <thead>\n",
       "    <tr style=\"text-align: right;\">\n",
       "      <th></th>\n",
       "      <th>t1_gene_gene_correlation</th>\n",
       "      <th>t1_twin_pair_correlation</th>\n",
       "      <th>t1_random_pair_correlation</th>\n",
       "      <th>t2_gene_gene_correlation</th>\n",
       "      <th>t2_twin_pair_correlation</th>\n",
       "      <th>t2_random_pair_correlation</th>\n",
       "      <th>parameter_index_1</th>\n",
       "      <th>parameter_index_2</th>\n",
       "    </tr>\n",
       "  </thead>\n",
       "  <tbody>\n",
       "    <tr>\n",
       "      <th>0</th>\n",
       "      <td>-0.676759</td>\n",
       "      <td>-0.001437</td>\n",
       "      <td>-0.628614</td>\n",
       "      <td>-0.684947</td>\n",
       "      <td>-0.007740</td>\n",
       "      <td>-0.638779</td>\n",
       "      <td>10975</td>\n",
       "      <td>16761</td>\n",
       "    </tr>\n",
       "    <tr>\n",
       "      <th>1</th>\n",
       "      <td>0.113533</td>\n",
       "      <td>-0.003349</td>\n",
       "      <td>0.174691</td>\n",
       "      <td>0.111961</td>\n",
       "      <td>-0.001159</td>\n",
       "      <td>0.168110</td>\n",
       "      <td>17760</td>\n",
       "      <td>14972</td>\n",
       "    </tr>\n",
       "    <tr>\n",
       "      <th>2</th>\n",
       "      <td>-0.013589</td>\n",
       "      <td>0.000881</td>\n",
       "      <td>0.012829</td>\n",
       "      <td>-0.044302</td>\n",
       "      <td>-0.007833</td>\n",
       "      <td>-0.013004</td>\n",
       "      <td>1871</td>\n",
       "      <td>23843</td>\n",
       "    </tr>\n",
       "    <tr>\n",
       "      <th>3</th>\n",
       "      <td>-0.074768</td>\n",
       "      <td>-0.005955</td>\n",
       "      <td>-0.086941</td>\n",
       "      <td>-0.072867</td>\n",
       "      <td>-0.004560</td>\n",
       "      <td>-0.080291</td>\n",
       "      <td>22407</td>\n",
       "      <td>22386</td>\n",
       "    </tr>\n",
       "    <tr>\n",
       "      <th>4</th>\n",
       "      <td>0.313728</td>\n",
       "      <td>-0.001223</td>\n",
       "      <td>0.285447</td>\n",
       "      <td>0.317531</td>\n",
       "      <td>-0.001620</td>\n",
       "      <td>0.284464</td>\n",
       "      <td>6170</td>\n",
       "      <td>17842</td>\n",
       "    </tr>\n",
       "    <tr>\n",
       "      <th>...</th>\n",
       "      <td>...</td>\n",
       "      <td>...</td>\n",
       "      <td>...</td>\n",
       "      <td>...</td>\n",
       "      <td>...</td>\n",
       "      <td>...</td>\n",
       "      <td>...</td>\n",
       "      <td>...</td>\n",
       "    </tr>\n",
       "    <tr>\n",
       "      <th>35245</th>\n",
       "      <td>0.009185</td>\n",
       "      <td>0.000573</td>\n",
       "      <td>0.009271</td>\n",
       "      <td>0.013367</td>\n",
       "      <td>-0.004008</td>\n",
       "      <td>0.016432</td>\n",
       "      <td>8090</td>\n",
       "      <td>17895</td>\n",
       "    </tr>\n",
       "    <tr>\n",
       "      <th>35246</th>\n",
       "      <td>-0.284649</td>\n",
       "      <td>0.009320</td>\n",
       "      <td>-0.258816</td>\n",
       "      <td>-0.290669</td>\n",
       "      <td>0.012171</td>\n",
       "      <td>-0.268478</td>\n",
       "      <td>3207</td>\n",
       "      <td>2491</td>\n",
       "    </tr>\n",
       "    <tr>\n",
       "      <th>35247</th>\n",
       "      <td>0.214565</td>\n",
       "      <td>0.003172</td>\n",
       "      <td>0.249804</td>\n",
       "      <td>0.212455</td>\n",
       "      <td>-0.009592</td>\n",
       "      <td>0.241622</td>\n",
       "      <td>9192</td>\n",
       "      <td>7034</td>\n",
       "    </tr>\n",
       "    <tr>\n",
       "      <th>35248</th>\n",
       "      <td>-0.142836</td>\n",
       "      <td>-0.006833</td>\n",
       "      <td>-0.132418</td>\n",
       "      <td>-0.132622</td>\n",
       "      <td>-0.009045</td>\n",
       "      <td>-0.125057</td>\n",
       "      <td>1483</td>\n",
       "      <td>6291</td>\n",
       "    </tr>\n",
       "    <tr>\n",
       "      <th>35249</th>\n",
       "      <td>-0.394368</td>\n",
       "      <td>-0.007041</td>\n",
       "      <td>-0.356158</td>\n",
       "      <td>-0.411404</td>\n",
       "      <td>-0.007143</td>\n",
       "      <td>-0.366506</td>\n",
       "      <td>24880</td>\n",
       "      <td>15411</td>\n",
       "    </tr>\n",
       "  </tbody>\n",
       "</table>\n",
       "<p>35250 rows × 8 columns</p>\n",
       "</div>"
      ],
      "text/plain": [
       "       t1_gene_gene_correlation  t1_twin_pair_correlation  \\\n",
       "0                     -0.676759                 -0.001437   \n",
       "1                      0.113533                 -0.003349   \n",
       "2                     -0.013589                  0.000881   \n",
       "3                     -0.074768                 -0.005955   \n",
       "4                      0.313728                 -0.001223   \n",
       "...                         ...                       ...   \n",
       "35245                  0.009185                  0.000573   \n",
       "35246                 -0.284649                  0.009320   \n",
       "35247                  0.214565                  0.003172   \n",
       "35248                 -0.142836                 -0.006833   \n",
       "35249                 -0.394368                 -0.007041   \n",
       "\n",
       "       t1_random_pair_correlation  t2_gene_gene_correlation  \\\n",
       "0                       -0.628614                 -0.684947   \n",
       "1                        0.174691                  0.111961   \n",
       "2                        0.012829                 -0.044302   \n",
       "3                       -0.086941                 -0.072867   \n",
       "4                        0.285447                  0.317531   \n",
       "...                           ...                       ...   \n",
       "35245                    0.009271                  0.013367   \n",
       "35246                   -0.258816                 -0.290669   \n",
       "35247                    0.249804                  0.212455   \n",
       "35248                   -0.132418                 -0.132622   \n",
       "35249                   -0.356158                 -0.411404   \n",
       "\n",
       "       t2_twin_pair_correlation  t2_random_pair_correlation  \\\n",
       "0                     -0.007740                   -0.638779   \n",
       "1                     -0.001159                    0.168110   \n",
       "2                     -0.007833                   -0.013004   \n",
       "3                     -0.004560                   -0.080291   \n",
       "4                     -0.001620                    0.284464   \n",
       "...                         ...                         ...   \n",
       "35245                 -0.004008                    0.016432   \n",
       "35246                  0.012171                   -0.268478   \n",
       "35247                 -0.009592                    0.241622   \n",
       "35248                 -0.009045                   -0.125057   \n",
       "35249                 -0.007143                   -0.366506   \n",
       "\n",
       "       parameter_index_1  parameter_index_2  \n",
       "0                  10975              16761  \n",
       "1                  17760              14972  \n",
       "2                   1871              23843  \n",
       "3                  22407              22386  \n",
       "4                   6170              17842  \n",
       "...                  ...                ...  \n",
       "35245               8090              17895  \n",
       "35246               3207               2491  \n",
       "35247               9192               7034  \n",
       "35248               1483               6291  \n",
       "35249              24880              15411  \n",
       "\n",
       "[35250 rows x 8 columns]"
      ]
     },
     "execution_count": 4,
     "metadata": {},
     "output_type": "execute_result"
    }
   ],
   "source": [
    "correlation_df"
   ]
  },
  {
   "cell_type": "code",
   "execution_count": 12,
   "metadata": {},
   "outputs": [
    {
     "data": {
      "text/plain": [
       "35250"
      ]
     },
     "execution_count": 12,
     "metadata": {},
     "output_type": "execute_result"
    }
   ],
   "source": [
    "len(correlation_df)"
   ]
  },
  {
   "cell_type": "code",
   "execution_count": 11,
   "metadata": {},
   "outputs": [
    {
     "name": "stdout",
     "output_type": "stream",
     "text": [
      "(27157, 8)\n"
     ]
    }
   ],
   "source": [
    "#Filter columns wherein twin correlation is greater than 0.01\n",
    "correlation_df_filtered = correlation_df[(abs(correlation_df['t1_gene_gene_correlation']) > 0.05)]\n",
    "print(correlation_df_filtered.shape)"
   ]
  },
  {
   "cell_type": "code",
   "execution_count": 13,
   "metadata": {},
   "outputs": [
    {
     "data": {
      "text/plain": [
       "0.7704113475177305"
      ]
     },
     "execution_count": 13,
     "metadata": {},
     "output_type": "execute_result"
    }
   ],
   "source": [
    "27157/35250"
   ]
  },
  {
   "cell_type": "code",
   "execution_count": 15,
   "metadata": {},
   "outputs": [
    {
     "data": {
      "text/plain": [
       "0.00039716312056737587"
      ]
     },
     "execution_count": 15,
     "metadata": {},
     "output_type": "execute_result"
    }
   ],
   "source": [
    "14/35250"
   ]
  },
  {
   "cell_type": "code",
   "execution_count": 25,
   "metadata": {},
   "outputs": [
    {
     "data": {
      "image/png": "[encoded data removed]",
      "text/plain": [
       "<Figure size 1000x500 with 1 Axes>"
      ]
     },
     "metadata": {},
     "output_type": "display_data"
    }
   ],
   "source": [
    "# --- Sort and re-index so x-axis is 0,1,2,… in sorted order -------------\n",
    "corr_sorted = correlation_df.sort_values('t1_twin_pair_correlation',           # sort\n",
    "                                         ascending=True) \\\n",
    "                             .reset_index(drop=True)                           # renumber rows\n",
    "# ------------------------------------------------------------------------\n",
    "\n",
    "plt.figure(figsize=(10, 5))\n",
    "plt.plot(\n",
    "    corr_sorted.index,                           # 0 … N-1  (rank after sorting)\n",
    "    corr_sorted['t1_twin_pair_correlation'],\n",
    "    label='t1_twin_pair_correlation (sorted)',\n",
    "    alpha=0.5\n",
    ")\n",
    "\n",
    "plt.axhline(0.01,  color='black', linestyle='--', label=r'$\\rho_{\\mathrm{baseline}}$')\n",
    "plt.axhline(-0.01, color='black', linestyle='--')\n",
    "plt.xlabel('Simulation rank (sorted by twin correlation)')\n",
    "plt.ylabel('Correlation')\n",
    "plt.title('Twin-pair correlation (sorted)')\n",
    "plt.legend()\n",
    "plt.grid(True, linestyle='--', linewidth=0.4, alpha=0.6)\n",
    "plt.tight_layout()\n",
    "plt.show()\n"
   ]
  },
  {
   "cell_type": "code",
   "execution_count": 16,
   "metadata": {},
   "outputs": [
    {
     "data": {
      "image/png": "[encoded data removed]",
      "text/plain": [
       "<Figure size 1000x500 with 1 Axes>"
      ]
     },
     "metadata": {},
     "output_type": "display_data"
    }
   ],
   "source": [
    "# --- Sort and re-index so x-axis is 0,1,2,… in sorted order -------------\n",
    "corr_sorted = correlation_df.sort_values('t1_gene_gene_correlation',           # sort\n",
    "                                         ascending=True) \\\n",
    "                             .reset_index(drop=True)                           # renumber rows\n",
    "# ------------------------------------------------------------------------\n",
    "\n",
    "plt.figure(figsize=(10, 5))\n",
    "plt.plot(\n",
    "    corr_sorted.index,                           # 0 … N-1  (rank after sorting)\n",
    "    corr_sorted['t1_gene_gene_correlation'],\n",
    "    alpha=0.5,\n",
    "    label='Gene-gene correlation',\n",
    ")\n",
    "plt.plot(\n",
    "    corr_sorted.index,                           # 0 … N-1  (rank after sorting)\n",
    "    corr_sorted['t1_twin_pair_correlation'],\n",
    "    alpha=0.5,\n",
    "    label='Twin correlation',\n",
    ")\n",
    "\n",
    "plt.axhline(0.05,  color='black', linestyle='--', label=r'$\\rho_{\\mathrm{baseline}}$')\n",
    "plt.axhline(-0.05, color='black', linestyle='--')\n",
    "plt.xlabel('Pair index')\n",
    "plt.ylabel('Gene-gene correlation')\n",
    "plt.title('Two Population No Regulation')\n",
    "plt.legend()\n",
    "plt.grid(True, linestyle='--', linewidth=0.4, alpha=0.6)\n",
    "plt.tight_layout()\n",
    "plt.show()\n"
   ]
  }
 ],
 "metadata": {
  "kernelspec": {
   "display_name": "grnSimulationQuest",
   "language": "python",
   "name": "python3"
  },
  "language_info": {
   "codemirror_mode": {
    "name": "ipython",
    "version": 3
   },
   "file_extension": ".py",
   "mimetype": "text/x-python",
   "name": "python",
   "nbconvert_exporter": "python",
   "pygments_lexer": "ipython3",
   "version": "3.11.8"
  }
 },
 "nbformat": 4,
 "nbformat_minor": 2
}
